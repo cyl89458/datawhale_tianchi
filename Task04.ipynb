{
 "cells": [
  {
   "cell_type": "markdown",
   "metadata": {},
   "source": [
    "# Task04 建模調參"
   ]
  },
  {
   "cell_type": "markdown",
   "metadata": {},
   "source": [
    "## Task04 目標及內容\n",
    "### 目標\n",
    ">掌握常用機器學習建模及調參流程\n",
    "\n",
    "### 內容\n",
    ">1. 模型：線性回歸、決策樹、及比賽常用隨機森林、GBDT、XGBoost、LightGBM 模型  \n",
    "2. 模型結果對比、調參"
   ]
  },
  {
   "cell_type": "markdown",
   "metadata": {},
   "source": [
    "## O、Task03 數據預處理\n",
    "### 缺失異常處理\n",
    ">1. 剔除訓練集中model缺失的1筆數據  \n",
    "2. bodyType, fuelType, gearbox 以眾數補全  \n",
    "    (以訓練集眾數補全，但依據訓練及測試集數據分布來看，兩者分布基本相同故眾數應相同)  \n",
    "3. notRepairedDamage：'-'部分需替換為空值，並將整個字段轉為float形式；空值視為第三類別=2  \n",
    "4. power：剔除>600部分；訓練集 power==0部分視為缺失，並用訓練集 power 以 bodyType 分組後各組中位數來補全  \n",
    "\n",
    "### 特徵構造\n",
    ">1. \"age\" = createDate年份 - regDate年份  \n",
    "2. \"age_bin\" = \"age\"每五年分一箱  \n",
    "3. \"power\"每50分一箱(max=250)\n",
    "4. price在各brand的統計量 \n",
    "5. price在各bodyType的統計量\n",
    "\n",
    "**需特別注意有些預處理只適用於訓練集**"
   ]
  },
  {
   "cell_type": "code",
   "execution_count": 2,
   "metadata": {},
   "outputs": [],
   "source": [
    "import matplotlib\n",
    "import pandas as pd\n",
    "import numpy as np\n",
    "import matplotlib.pyplot as plt\n",
    "import seaborn as sns\n",
    "pd.set_option('display.max_columns',None)\n",
    "pd.set_option('display.max_rows',None)\n",
    "import warnings\n",
    "warnings.filterwarnings(\"ignore\")"
   ]
  },
  {
   "cell_type": "code",
   "execution_count": 2,
   "metadata": {},
   "outputs": [],
   "source": [
    "\"\"\"讀取數據\"\"\"\n",
    "train = pd.read_csv('./raw_data/used_car_train_20200313.csv', sep=' ')\n",
    "test = pd.read_csv('./raw_data/used_car_testA_20200313.csv', sep=' ')\n",
    "\n",
    "\"\"\"concat 訓練及測試集，並增加字段train來表示是否為訓練集數據\"\"\"\n",
    "train['train'] = 1\n",
    "test['train'] = 0\n",
    "all_data = pd.concat([train,test],ignore_index=True)"
   ]
  },
  {
   "cell_type": "code",
   "execution_count": 3,
   "metadata": {},
   "outputs": [],
   "source": [
    "\"\"\"import 自己寫的預處理函數腳本 \"\"\"\n",
    "from preprocessing import preprocessing_functions"
   ]
  },
  {
   "cell_type": "code",
   "execution_count": 4,
   "metadata": {},
   "outputs": [],
   "source": [
    "\"\"\"缺失異常處理\"\"\"\n",
    "\n",
    "### 1. 剔除訓練集中 model 缺失的 1 筆數據 (測試集中並無缺失，故這邊省略是否為訓練集的判定)\n",
    "all_data.dropna(subset=['model'],inplace=True)\n",
    "\n",
    "### 2. bodyType, fuelType, gearbox 以眾數補全\n",
    "all_data['bodyType'] = preprocessing_functions.fillna_with_mode_of_train(all_data,'bodyType')\n",
    "all_data['fuelType'] = preprocessing_functions.fillna_with_mode_of_train(all_data,'fuelType')\n",
    "all_data['gearbox'] = preprocessing_functions.fillna_with_mode_of_train(all_data,'gearbox')\n",
    "\n",
    "### 3. notRepairedDamage：'-'部分需替換為空值，並將整個字段轉為float形式；空值視為第三類別 =2\n",
    "all_data['notRepairedDamage'] = preprocessing_functions.null_str_to_null_float(all_data,'notRepairedDamage')\n",
    "all_data['notRepairedDamage'].fillna(2,inplace=True)\n",
    "\n",
    "### 4. power：剔除訓練集>600部分；訓練集 power==0部分視為缺失，並用訓練集 power 以 bodyType 分組後各組中位數來補全\n",
    "all_data = all_data[(all_data.power<=600) | ((all_data.power>600)&(all_data.train==0)) ]\n",
    "all_data.power.replace(0,np.nan,inplace=True)\n",
    "all_data['power'] = preprocessing_functions.fillna_with_grouped_train_median(all_data,'bodyType','power')"
   ]
  },
  {
   "cell_type": "code",
   "execution_count": 5,
   "metadata": {},
   "outputs": [],
   "source": [
    "\"\"\"特徵構造\"\"\"\n",
    "\n",
    "### 1. \"age\" = createDate年份 - regDate年份\n",
    "all_data['age'] = preprocessing_functions.cal_car_age(all_data)\n",
    "\n",
    "### 2. \"age_bin\" = \"age\"每五年分一箱\n",
    "all_data['age_bin'] = preprocessing_functions.sep_bins(all_data, 'age', 5)\n",
    "\n",
    "### 3. \"power\" 每 50分一箱 (且因長尾關係，另外設定>250都分一箱)\n",
    "all_data['power_bin'] = preprocessing_functions.sep_bins(all_data, 'power', 50, max_=250)\n",
    "\n",
    "### 4. price在各brand的統計量\n",
    "all_data = preprocessing_functions.cal_grouped_stats(all_data,'brand','price')\n",
    "\n",
    "### 5. price在各bodyType的統計量\n",
    "all_data = preprocessing_functions.cal_grouped_stats(all_data,'bodyType','price')"
   ]
  },
  {
   "cell_type": "code",
   "execution_count": 6,
   "metadata": {},
   "outputs": [
    {
     "name": "stdout",
     "output_type": "stream",
     "text": [
      "所有特徵:\n"
     ]
    },
    {
     "data": {
      "text/plain": [
       "Index(['SaleID', 'bodyType', 'brand', 'creatDate', 'fuelType', 'gearbox',\n",
       "       'kilometer', 'model', 'name', 'notRepairedDamage', 'offerType', 'power',\n",
       "       'price', 'regDate', 'regionCode', 'seller', 'train', 'v_0', 'v_1',\n",
       "       'v_10', 'v_11', 'v_12', 'v_13', 'v_14', 'v_2', 'v_3', 'v_4', 'v_5',\n",
       "       'v_6', 'v_7', 'v_8', 'v_9', 'age', 'age_bin', 'power_bin',\n",
       "       'brand_gp_price_median', 'brand_gp_price_mean', 'brand_gp_price_size',\n",
       "       'brand_gp_price_std', 'brand_gp_price_max', 'brand_gp_price_min',\n",
       "       'bodyType_gp_price_median', 'bodyType_gp_price_mean',\n",
       "       'bodyType_gp_price_size', 'bodyType_gp_price_std',\n",
       "       'bodyType_gp_price_max', 'bodyType_gp_price_min'],\n",
       "      dtype='object')"
      ]
     },
     "execution_count": 6,
     "metadata": {},
     "output_type": "execute_result"
    }
   ],
   "source": [
    "print('所有特徵:')\n",
    "all_data.columns"
   ]
  },
  {
   "cell_type": "code",
   "execution_count": 7,
   "metadata": {},
   "outputs": [
    {
     "data": {
      "text/html": [
       "<div>\n",
       "<style scoped>\n",
       "    .dataframe tbody tr th:only-of-type {\n",
       "        vertical-align: middle;\n",
       "    }\n",
       "\n",
       "    .dataframe tbody tr th {\n",
       "        vertical-align: top;\n",
       "    }\n",
       "\n",
       "    .dataframe thead th {\n",
       "        text-align: right;\n",
       "    }\n",
       "</style>\n",
       "<table border=\"1\" class=\"dataframe\">\n",
       "  <thead>\n",
       "    <tr style=\"text-align: right;\">\n",
       "      <th></th>\n",
       "      <th>SaleID</th>\n",
       "      <th>bodyType</th>\n",
       "      <th>brand</th>\n",
       "      <th>creatDate</th>\n",
       "      <th>fuelType</th>\n",
       "      <th>gearbox</th>\n",
       "      <th>kilometer</th>\n",
       "      <th>model</th>\n",
       "      <th>name</th>\n",
       "      <th>notRepairedDamage</th>\n",
       "      <th>offerType</th>\n",
       "      <th>power</th>\n",
       "      <th>price</th>\n",
       "      <th>regDate</th>\n",
       "      <th>regionCode</th>\n",
       "      <th>seller</th>\n",
       "      <th>train</th>\n",
       "      <th>v_0</th>\n",
       "      <th>v_1</th>\n",
       "      <th>v_10</th>\n",
       "      <th>v_11</th>\n",
       "      <th>v_12</th>\n",
       "      <th>v_13</th>\n",
       "      <th>v_14</th>\n",
       "      <th>v_2</th>\n",
       "      <th>v_3</th>\n",
       "      <th>v_4</th>\n",
       "      <th>v_5</th>\n",
       "      <th>v_6</th>\n",
       "      <th>v_7</th>\n",
       "      <th>v_8</th>\n",
       "      <th>v_9</th>\n",
       "      <th>age</th>\n",
       "      <th>age_bin</th>\n",
       "      <th>power_bin</th>\n",
       "      <th>brand_gp_price_median</th>\n",
       "      <th>brand_gp_price_mean</th>\n",
       "      <th>brand_gp_price_size</th>\n",
       "      <th>brand_gp_price_std</th>\n",
       "      <th>brand_gp_price_max</th>\n",
       "      <th>brand_gp_price_min</th>\n",
       "      <th>bodyType_gp_price_median</th>\n",
       "      <th>bodyType_gp_price_mean</th>\n",
       "      <th>bodyType_gp_price_size</th>\n",
       "      <th>bodyType_gp_price_std</th>\n",
       "      <th>bodyType_gp_price_max</th>\n",
       "      <th>bodyType_gp_price_min</th>\n",
       "    </tr>\n",
       "  </thead>\n",
       "  <tbody>\n",
       "    <tr>\n",
       "      <th>0</th>\n",
       "      <td>0</td>\n",
       "      <td>1.0</td>\n",
       "      <td>6</td>\n",
       "      <td>20160404</td>\n",
       "      <td>0.0</td>\n",
       "      <td>0.0</td>\n",
       "      <td>12.5</td>\n",
       "      <td>30.0</td>\n",
       "      <td>736</td>\n",
       "      <td>0.0</td>\n",
       "      <td>0</td>\n",
       "      <td>60.0</td>\n",
       "      <td>1850.0</td>\n",
       "      <td>20040402</td>\n",
       "      <td>1046</td>\n",
       "      <td>0</td>\n",
       "      <td>1</td>\n",
       "      <td>43.357796</td>\n",
       "      <td>3.966344</td>\n",
       "      <td>-2.881803</td>\n",
       "      <td>2.804097</td>\n",
       "      <td>-2.420821</td>\n",
       "      <td>0.795292</td>\n",
       "      <td>0.914762</td>\n",
       "      <td>0.050257</td>\n",
       "      <td>2.159744</td>\n",
       "      <td>1.143786</td>\n",
       "      <td>0.235676</td>\n",
       "      <td>0.101988</td>\n",
       "      <td>0.129549</td>\n",
       "      <td>0.022816</td>\n",
       "      <td>0.097462</td>\n",
       "      <td>12</td>\n",
       "      <td>3.0</td>\n",
       "      <td>2.0</td>\n",
       "      <td>1800.0</td>\n",
       "      <td>3607.928375</td>\n",
       "      <td>10206</td>\n",
       "      <td>4650.025544</td>\n",
       "      <td>40950.0</td>\n",
       "      <td>13.0</td>\n",
       "      <td>1600.0</td>\n",
       "      <td>2790.191765</td>\n",
       "      <td>35241</td>\n",
       "      <td>3159.663046</td>\n",
       "      <td>99999.0</td>\n",
       "      <td>12.0</td>\n",
       "    </tr>\n",
       "    <tr>\n",
       "      <th>1</th>\n",
       "      <td>1</td>\n",
       "      <td>2.0</td>\n",
       "      <td>1</td>\n",
       "      <td>20160309</td>\n",
       "      <td>0.0</td>\n",
       "      <td>0.0</td>\n",
       "      <td>15.0</td>\n",
       "      <td>40.0</td>\n",
       "      <td>2262</td>\n",
       "      <td>2.0</td>\n",
       "      <td>0</td>\n",
       "      <td>140.0</td>\n",
       "      <td>3600.0</td>\n",
       "      <td>20030301</td>\n",
       "      <td>4366</td>\n",
       "      <td>0</td>\n",
       "      <td>1</td>\n",
       "      <td>45.305273</td>\n",
       "      <td>5.236112</td>\n",
       "      <td>-4.900482</td>\n",
       "      <td>2.096338</td>\n",
       "      <td>-1.030483</td>\n",
       "      <td>-1.722674</td>\n",
       "      <td>0.245522</td>\n",
       "      <td>0.137925</td>\n",
       "      <td>1.380657</td>\n",
       "      <td>-1.422165</td>\n",
       "      <td>0.264777</td>\n",
       "      <td>0.121004</td>\n",
       "      <td>0.135731</td>\n",
       "      <td>0.026597</td>\n",
       "      <td>0.020582</td>\n",
       "      <td>13</td>\n",
       "      <td>3.0</td>\n",
       "      <td>3.0</td>\n",
       "      <td>6499.0</td>\n",
       "      <td>9272.585414</td>\n",
       "      <td>13780</td>\n",
       "      <td>9363.917624</td>\n",
       "      <td>99900.0</td>\n",
       "      <td>15.0</td>\n",
       "      <td>3500.0</td>\n",
       "      <td>5820.259655</td>\n",
       "      <td>30294</td>\n",
       "      <td>6320.798831</td>\n",
       "      <td>69900.0</td>\n",
       "      <td>15.0</td>\n",
       "    </tr>\n",
       "    <tr>\n",
       "      <th>2</th>\n",
       "      <td>2</td>\n",
       "      <td>1.0</td>\n",
       "      <td>15</td>\n",
       "      <td>20160402</td>\n",
       "      <td>0.0</td>\n",
       "      <td>0.0</td>\n",
       "      <td>12.5</td>\n",
       "      <td>115.0</td>\n",
       "      <td>14874</td>\n",
       "      <td>0.0</td>\n",
       "      <td>0</td>\n",
       "      <td>163.0</td>\n",
       "      <td>6222.0</td>\n",
       "      <td>20040403</td>\n",
       "      <td>2806</td>\n",
       "      <td>0</td>\n",
       "      <td>1</td>\n",
       "      <td>45.978359</td>\n",
       "      <td>4.823792</td>\n",
       "      <td>-4.846749</td>\n",
       "      <td>1.803559</td>\n",
       "      <td>1.565330</td>\n",
       "      <td>-0.832687</td>\n",
       "      <td>-0.229963</td>\n",
       "      <td>1.319524</td>\n",
       "      <td>-0.998467</td>\n",
       "      <td>-0.996911</td>\n",
       "      <td>0.251410</td>\n",
       "      <td>0.114912</td>\n",
       "      <td>0.165147</td>\n",
       "      <td>0.062173</td>\n",
       "      <td>0.027075</td>\n",
       "      <td>12</td>\n",
       "      <td>3.0</td>\n",
       "      <td>4.0</td>\n",
       "      <td>8500.0</td>\n",
       "      <td>9858.582990</td>\n",
       "      <td>1458</td>\n",
       "      <td>5425.058140</td>\n",
       "      <td>45000.0</td>\n",
       "      <td>100.0</td>\n",
       "      <td>1600.0</td>\n",
       "      <td>2790.191765</td>\n",
       "      <td>35241</td>\n",
       "      <td>3159.663046</td>\n",
       "      <td>99999.0</td>\n",
       "      <td>12.0</td>\n",
       "    </tr>\n",
       "    <tr>\n",
       "      <th>3</th>\n",
       "      <td>3</td>\n",
       "      <td>0.0</td>\n",
       "      <td>10</td>\n",
       "      <td>20160312</td>\n",
       "      <td>0.0</td>\n",
       "      <td>1.0</td>\n",
       "      <td>15.0</td>\n",
       "      <td>109.0</td>\n",
       "      <td>71865</td>\n",
       "      <td>0.0</td>\n",
       "      <td>0</td>\n",
       "      <td>193.0</td>\n",
       "      <td>2400.0</td>\n",
       "      <td>19960908</td>\n",
       "      <td>434</td>\n",
       "      <td>0</td>\n",
       "      <td>1</td>\n",
       "      <td>45.687478</td>\n",
       "      <td>4.492574</td>\n",
       "      <td>-4.509599</td>\n",
       "      <td>1.285940</td>\n",
       "      <td>-0.501868</td>\n",
       "      <td>-2.438353</td>\n",
       "      <td>-0.478699</td>\n",
       "      <td>-0.050616</td>\n",
       "      <td>0.883600</td>\n",
       "      <td>-2.228079</td>\n",
       "      <td>0.274293</td>\n",
       "      <td>0.110300</td>\n",
       "      <td>0.121964</td>\n",
       "      <td>0.033395</td>\n",
       "      <td>0.000000</td>\n",
       "      <td>20</td>\n",
       "      <td>5.0</td>\n",
       "      <td>4.0</td>\n",
       "      <td>5400.0</td>\n",
       "      <td>8449.322819</td>\n",
       "      <td>14234</td>\n",
       "      <td>8916.556379</td>\n",
       "      <td>98000.0</td>\n",
       "      <td>15.0</td>\n",
       "      <td>3000.0</td>\n",
       "      <td>5684.936548</td>\n",
       "      <td>45877</td>\n",
       "      <td>6884.557748</td>\n",
       "      <td>99999.0</td>\n",
       "      <td>11.0</td>\n",
       "    </tr>\n",
       "    <tr>\n",
       "      <th>4</th>\n",
       "      <td>4</td>\n",
       "      <td>1.0</td>\n",
       "      <td>5</td>\n",
       "      <td>20160313</td>\n",
       "      <td>0.0</td>\n",
       "      <td>0.0</td>\n",
       "      <td>5.0</td>\n",
       "      <td>110.0</td>\n",
       "      <td>111080</td>\n",
       "      <td>0.0</td>\n",
       "      <td>0</td>\n",
       "      <td>68.0</td>\n",
       "      <td>5200.0</td>\n",
       "      <td>20120103</td>\n",
       "      <td>6977</td>\n",
       "      <td>0</td>\n",
       "      <td>1</td>\n",
       "      <td>44.383511</td>\n",
       "      <td>2.031433</td>\n",
       "      <td>-1.896240</td>\n",
       "      <td>0.910783</td>\n",
       "      <td>0.931110</td>\n",
       "      <td>2.834518</td>\n",
       "      <td>1.923482</td>\n",
       "      <td>0.572169</td>\n",
       "      <td>-1.571239</td>\n",
       "      <td>2.246088</td>\n",
       "      <td>0.228036</td>\n",
       "      <td>0.073205</td>\n",
       "      <td>0.091880</td>\n",
       "      <td>0.078819</td>\n",
       "      <td>0.121534</td>\n",
       "      <td>4</td>\n",
       "      <td>1.0</td>\n",
       "      <td>2.0</td>\n",
       "      <td>2300.0</td>\n",
       "      <td>3306.375375</td>\n",
       "      <td>4662</td>\n",
       "      <td>3344.689763</td>\n",
       "      <td>31500.0</td>\n",
       "      <td>20.0</td>\n",
       "      <td>1600.0</td>\n",
       "      <td>2790.191765</td>\n",
       "      <td>35241</td>\n",
       "      <td>3159.663046</td>\n",
       "      <td>99999.0</td>\n",
       "      <td>12.0</td>\n",
       "    </tr>\n",
       "  </tbody>\n",
       "</table>\n",
       "</div>"
      ],
      "text/plain": [
       "   SaleID  bodyType  brand  creatDate  fuelType  gearbox  kilometer  model  \\\n",
       "0       0       1.0      6   20160404       0.0      0.0       12.5   30.0   \n",
       "1       1       2.0      1   20160309       0.0      0.0       15.0   40.0   \n",
       "2       2       1.0     15   20160402       0.0      0.0       12.5  115.0   \n",
       "3       3       0.0     10   20160312       0.0      1.0       15.0  109.0   \n",
       "4       4       1.0      5   20160313       0.0      0.0        5.0  110.0   \n",
       "\n",
       "     name  notRepairedDamage  offerType  power   price   regDate  regionCode  \\\n",
       "0     736                0.0          0   60.0  1850.0  20040402        1046   \n",
       "1    2262                2.0          0  140.0  3600.0  20030301        4366   \n",
       "2   14874                0.0          0  163.0  6222.0  20040403        2806   \n",
       "3   71865                0.0          0  193.0  2400.0  19960908         434   \n",
       "4  111080                0.0          0   68.0  5200.0  20120103        6977   \n",
       "\n",
       "   seller  train        v_0       v_1      v_10      v_11      v_12      v_13  \\\n",
       "0       0      1  43.357796  3.966344 -2.881803  2.804097 -2.420821  0.795292   \n",
       "1       0      1  45.305273  5.236112 -4.900482  2.096338 -1.030483 -1.722674   \n",
       "2       0      1  45.978359  4.823792 -4.846749  1.803559  1.565330 -0.832687   \n",
       "3       0      1  45.687478  4.492574 -4.509599  1.285940 -0.501868 -2.438353   \n",
       "4       0      1  44.383511  2.031433 -1.896240  0.910783  0.931110  2.834518   \n",
       "\n",
       "       v_14       v_2       v_3       v_4       v_5       v_6       v_7  \\\n",
       "0  0.914762  0.050257  2.159744  1.143786  0.235676  0.101988  0.129549   \n",
       "1  0.245522  0.137925  1.380657 -1.422165  0.264777  0.121004  0.135731   \n",
       "2 -0.229963  1.319524 -0.998467 -0.996911  0.251410  0.114912  0.165147   \n",
       "3 -0.478699 -0.050616  0.883600 -2.228079  0.274293  0.110300  0.121964   \n",
       "4  1.923482  0.572169 -1.571239  2.246088  0.228036  0.073205  0.091880   \n",
       "\n",
       "        v_8       v_9  age  age_bin  power_bin  brand_gp_price_median  \\\n",
       "0  0.022816  0.097462   12      3.0        2.0                 1800.0   \n",
       "1  0.026597  0.020582   13      3.0        3.0                 6499.0   \n",
       "2  0.062173  0.027075   12      3.0        4.0                 8500.0   \n",
       "3  0.033395  0.000000   20      5.0        4.0                 5400.0   \n",
       "4  0.078819  0.121534    4      1.0        2.0                 2300.0   \n",
       "\n",
       "   brand_gp_price_mean  brand_gp_price_size  brand_gp_price_std  \\\n",
       "0          3607.928375                10206         4650.025544   \n",
       "1          9272.585414                13780         9363.917624   \n",
       "2          9858.582990                 1458         5425.058140   \n",
       "3          8449.322819                14234         8916.556379   \n",
       "4          3306.375375                 4662         3344.689763   \n",
       "\n",
       "   brand_gp_price_max  brand_gp_price_min  bodyType_gp_price_median  \\\n",
       "0             40950.0                13.0                    1600.0   \n",
       "1             99900.0                15.0                    3500.0   \n",
       "2             45000.0               100.0                    1600.0   \n",
       "3             98000.0                15.0                    3000.0   \n",
       "4             31500.0                20.0                    1600.0   \n",
       "\n",
       "   bodyType_gp_price_mean  bodyType_gp_price_size  bodyType_gp_price_std  \\\n",
       "0             2790.191765                   35241            3159.663046   \n",
       "1             5820.259655                   30294            6320.798831   \n",
       "2             2790.191765                   35241            3159.663046   \n",
       "3             5684.936548                   45877            6884.557748   \n",
       "4             2790.191765                   35241            3159.663046   \n",
       "\n",
       "   bodyType_gp_price_max  bodyType_gp_price_min  \n",
       "0                99999.0                   12.0  \n",
       "1                69900.0                   15.0  \n",
       "2                99999.0                   12.0  \n",
       "3                99999.0                   11.0  \n",
       "4                99999.0                   12.0  "
      ]
     },
     "execution_count": 7,
     "metadata": {},
     "output_type": "execute_result"
    }
   ],
   "source": [
    "all_data.head()"
   ]
  },
  {
   "cell_type": "code",
   "execution_count": 8,
   "metadata": {},
   "outputs": [
    {
     "data": {
      "text/plain": [
       "SaleID                          0\n",
       "bodyType                        0\n",
       "brand                           0\n",
       "creatDate                       0\n",
       "fuelType                        0\n",
       "gearbox                         0\n",
       "kilometer                       0\n",
       "model                           0\n",
       "name                            0\n",
       "notRepairedDamage               0\n",
       "offerType                       0\n",
       "power                           0\n",
       "price                       50000\n",
       "regDate                         0\n",
       "regionCode                      0\n",
       "seller                          0\n",
       "train                           0\n",
       "v_0                             0\n",
       "v_1                             0\n",
       "v_10                            0\n",
       "v_11                            0\n",
       "v_12                            0\n",
       "v_13                            0\n",
       "v_14                            0\n",
       "v_2                             0\n",
       "v_3                             0\n",
       "v_4                             0\n",
       "v_5                             0\n",
       "v_6                             0\n",
       "v_7                             0\n",
       "v_8                             0\n",
       "v_9                             0\n",
       "age                             0\n",
       "age_bin                         0\n",
       "power_bin                       0\n",
       "brand_gp_price_median           0\n",
       "brand_gp_price_mean             0\n",
       "brand_gp_price_size             0\n",
       "brand_gp_price_std              0\n",
       "brand_gp_price_max              0\n",
       "brand_gp_price_min              0\n",
       "bodyType_gp_price_median        0\n",
       "bodyType_gp_price_mean          0\n",
       "bodyType_gp_price_size          0\n",
       "bodyType_gp_price_std           0\n",
       "bodyType_gp_price_max           0\n",
       "bodyType_gp_price_min           0\n",
       "dtype: int64"
      ]
     },
     "execution_count": 8,
     "metadata": {},
     "output_type": "execute_result"
    }
   ],
   "source": [
    "### 再次確認是否有缺失\n",
    "all_data.isnull().sum() \n",
    "### > price缺失部分為測試集，其他字段都沒有缺失"
   ]
  },
  {
   "cell_type": "code",
   "execution_count": 9,
   "metadata": {},
   "outputs": [
    {
     "data": {
      "text/plain": [
       "50000"
      ]
     },
     "execution_count": 9,
     "metadata": {},
     "output_type": "execute_result"
    }
   ],
   "source": [
    "### 確認是否誤刪測試集\n",
    "all_data[all_data.train==0].shape[0]"
   ]
  },
  {
   "cell_type": "code",
   "execution_count": 10,
   "metadata": {},
   "outputs": [],
   "source": [
    "### 另存處理好的數據\n",
    "all_data.to_csv('./preprocessing/all_data_v1.csv',index=False)"
   ]
  },
  {
   "cell_type": "code",
   "execution_count": 3,
   "metadata": {},
   "outputs": [],
   "source": [
    "### 直接讀取 all_data_v1.csv\n",
    "all_data = pd.read_csv('./preprocessing/all_data_v1.csv', index_col='SaleID')"
   ]
  },
  {
   "cell_type": "markdown",
   "metadata": {},
   "source": [
    "**調整數據類型，減少數據佔據內存空間**"
   ]
  },
  {
   "cell_type": "code",
   "execution_count": 4,
   "metadata": {},
   "outputs": [],
   "source": [
    "def reduce_mem_usage(df):\n",
    "    \"\"\" \n",
    "    iterate through all the columns of a dataframe and modify the data type\n",
    "    to reduce memory usage.\n",
    "    \"\"\"\n",
    "    start_mem = df.memory_usage().sum()\n",
    "    print('Memory usage of dataframe is {:.2f} MB'.format(start_mem))\n",
    "    \n",
    "    for col in df.columns:\n",
    "        col_type = df[col].dtype\n",
    "        if col_type != object:\n",
    "            c_min = df[col].min()\n",
    "            c_max = df[col].max()\n",
    "            if str(col_type)[:3] == 'int':\n",
    "                if c_min > np.iinfo(np.int8).min and c_max < np.iinfo(np.int8).max:\n",
    "                    df[col] = df[col].astype(np.int8)\n",
    "                elif c_min > np.iinfo(np.int16).min and c_max < np.iinfo(np.int16).max:\n",
    "                    df[col] = df[col].astype(np.int16)\n",
    "                elif c_min > np.iinfo(np.int32).min and c_max < np.iinfo(np.int32).max:\n",
    "                    df[col] = df[col].astype(np.int32)\n",
    "                elif c_min > np.iinfo(np.int64).min and c_max < np.iinfo(np.int64).max:\n",
    "                    df[col] = df[col].astype(np.int64)\n",
    "            else:\n",
    "                if c_min > np.finfo(np.float16).min and c_max < np.finfo(np.float16).max:\n",
    "                    df[col] = df[col].astype(np.float16)\n",
    "                elif c_min > np.finfo(np.float32).min and c_max < np.finfo(np.float32).max:\n",
    "                    df[col] = df[col].astype(np.float32)\n",
    "                else:\n",
    "                    df[col] = df[col].astype(np.float64)\n",
    "        else:\n",
    "            df[col] = df[col].astype('category')\n",
    "    end_mem = df.memory_usage().sum()\n",
    "    \n",
    "    print('Memory usage after optimization is: {:.2f} MB'.format(end_mem))\n",
    "    print('Decreased by {:.1f}%'.format(100 * (start_mem - end_mem) / start_mem))\n",
    "    return df"
   ]
  },
  {
   "cell_type": "code",
   "execution_count": 5,
   "metadata": {},
   "outputs": [
    {
     "name": "stdout",
     "output_type": "stream",
     "text": [
      "Memory usage of dataframe is 75145856.00 MB\n",
      "Memory usage after optimization is: 21784304.00 MB\n",
      "Decreased by 71.0%\n"
     ]
    }
   ],
   "source": [
    "all_data = reduce_mem_usage(all_data)"
   ]
  },
  {
   "cell_type": "markdown",
   "metadata": {},
   "source": [
    "## 一、建模"
   ]
  },
  {
   "cell_type": "markdown",
   "metadata": {},
   "source": [
    "### 1. 特徵篩選"
   ]
  },
  {
   "cell_type": "code",
   "execution_count": 14,
   "metadata": {},
   "outputs": [
    {
     "name": "stdout",
     "output_type": "stream",
     "text": [
      "47 columns:\n",
      "Index(['SaleID', 'bodyType', 'brand', 'creatDate', 'fuelType', 'gearbox',\n",
      "       'kilometer', 'model', 'name', 'notRepairedDamage', 'offerType', 'power',\n",
      "       'price', 'regDate', 'regionCode', 'seller', 'train', 'v_0', 'v_1',\n",
      "       'v_10', 'v_11', 'v_12', 'v_13', 'v_14', 'v_2', 'v_3', 'v_4', 'v_5',\n",
      "       'v_6', 'v_7', 'v_8', 'v_9', 'age', 'age_bin', 'power_bin',\n",
      "       'brand_gp_price_median', 'brand_gp_price_mean', 'brand_gp_price_size',\n",
      "       'brand_gp_price_std', 'brand_gp_price_max', 'brand_gp_price_min',\n",
      "       'bodyType_gp_price_median', 'bodyType_gp_price_mean',\n",
      "       'bodyType_gp_price_size', 'bodyType_gp_price_std',\n",
      "       'bodyType_gp_price_max', 'bodyType_gp_price_min'],\n",
      "      dtype='object')\n"
     ]
    }
   ],
   "source": [
    "print('{} columns:'.format(len(all_data.columns)))\n",
    "print(all_data.columns)"
   ]
  },
  {
   "cell_type": "markdown",
   "metadata": {},
   "source": [
    ">\n",
    ">>**編碼**\n",
    "1. SaleID  \n",
    "2. model  \n",
    "3. name  \n",
    "4. regionCode\n",
    "\n",
    ">>**類別**\n",
    "1. bodyType  \n",
    "2. brand  \n",
    "3. fuelType  \n",
    "4. gearbox  \n",
    "5. notRepairedDamage  \n",
    "6. offerType  \n",
    "7. seller  \n",
    "8. age_bin\n",
    "9. power_bin\n",
    "\n",
    ">>**數值**\n",
    "1. power  \n",
    "2. price  \n",
    "3. v_0~v_14\n",
    "4. age\n",
    "5. brand_gp_price_[stats]  \n",
    "6. bodyType_gp_price_[stats]\n",
    "7. kilometer\n",
    "\n",
    ">>**日期**\n",
    "1. creatDate\n",
    "2. regDate\n",
    "\n",
    ">>**其他 (非特徵)**  \n",
    "1. train"
   ]
  },
  {
   "cell_type": "markdown",
   "metadata": {},
   "source": [
    "其中不考慮的特徵有：\n",
    ">1. SaleID > 唯一編碼 > 設為 index\n",
    "2. model, name, regionCode > 編碼，先不考慮\n",
    "3. creatDate,regDate > 已轉為age  \n",
    "4. seller > 分布過於偏頗無法提供有效信息  \n",
    "5. offerType > 分布過於偏頗無法提供有效信息  \n",
    "6. brand, bodyType > 已用統計量代替\n",
    "7. power, age > 已分箱 (power_bin, age_bin)\n",
    "\n",
    "以下處理這些特徵："
   ]
  },
  {
   "cell_type": "code",
   "execution_count": 6,
   "metadata": {},
   "outputs": [],
   "source": [
    "for col in ['model','name','regionCode','creatDate','regDate','seller','offerType','brand','bodyType','power','age']:\n",
    "    del all_data[col]"
   ]
  },
  {
   "cell_type": "code",
   "execution_count": 16,
   "metadata": {},
   "outputs": [
    {
     "name": "stdout",
     "output_type": "stream",
     "text": [
      "35 columns:\n",
      "Index(['fuelType', 'gearbox', 'kilometer', 'notRepairedDamage', 'price',\n",
      "       'train', 'v_0', 'v_1', 'v_10', 'v_11', 'v_12', 'v_13', 'v_14', 'v_2',\n",
      "       'v_3', 'v_4', 'v_5', 'v_6', 'v_7', 'v_8', 'v_9', 'age_bin', 'power_bin',\n",
      "       'brand_gp_price_median', 'brand_gp_price_mean', 'brand_gp_price_size',\n",
      "       'brand_gp_price_std', 'brand_gp_price_max', 'brand_gp_price_min',\n",
      "       'bodyType_gp_price_median', 'bodyType_gp_price_mean',\n",
      "       'bodyType_gp_price_size', 'bodyType_gp_price_std',\n",
      "       'bodyType_gp_price_max', 'bodyType_gp_price_min'],\n",
      "      dtype='object')\n"
     ]
    }
   ],
   "source": [
    "print('{} columns:'.format(len(all_data.columns)))\n",
    "print(all_data.columns)"
   ]
  },
  {
   "cell_type": "code",
   "execution_count": 7,
   "metadata": {},
   "outputs": [],
   "source": [
    "### 分割出訓練集的特徵及目標\n",
    "train_x = all_data[all_data.train==1]\n",
    "del train_x['train']\n",
    "train_y = train_x.pop('price')\n",
    "\n",
    "### 分割出測試集\n",
    "test_x = all_data[all_data.train==0]\n",
    "del test_x['price']\n",
    "del test_x['train']\n",
    "\n",
    "del all_data"
   ]
  },
  {
   "cell_type": "markdown",
   "metadata": {},
   "source": [
    "### 2. 模型"
   ]
  },
  {
   "cell_type": "markdown",
   "metadata": {},
   "source": [
    "#### 簡單線性回歸\n",
    "用來快速檢視數據是否有問題："
   ]
  },
  {
   "cell_type": "code",
   "execution_count": 18,
   "metadata": {},
   "outputs": [
    {
     "data": {
      "text/html": [
       "<div>\n",
       "<style scoped>\n",
       "    .dataframe tbody tr th:only-of-type {\n",
       "        vertical-align: middle;\n",
       "    }\n",
       "\n",
       "    .dataframe tbody tr th {\n",
       "        vertical-align: top;\n",
       "    }\n",
       "\n",
       "    .dataframe thead th {\n",
       "        text-align: right;\n",
       "    }\n",
       "</style>\n",
       "<table border=\"1\" class=\"dataframe\">\n",
       "  <thead>\n",
       "    <tr style=\"text-align: right;\">\n",
       "      <th></th>\n",
       "      <th>gearbox</th>\n",
       "      <th>kilometer</th>\n",
       "      <th>v_0</th>\n",
       "      <th>v_1</th>\n",
       "      <th>v_10</th>\n",
       "      <th>v_11</th>\n",
       "      <th>v_12</th>\n",
       "      <th>v_13</th>\n",
       "      <th>v_14</th>\n",
       "      <th>v_2</th>\n",
       "      <th>v_3</th>\n",
       "      <th>v_4</th>\n",
       "      <th>v_5</th>\n",
       "      <th>v_6</th>\n",
       "      <th>v_7</th>\n",
       "      <th>v_8</th>\n",
       "      <th>v_9</th>\n",
       "      <th>brand_gp_price_median</th>\n",
       "      <th>brand_gp_price_mean</th>\n",
       "      <th>brand_gp_price_size</th>\n",
       "      <th>brand_gp_price_std</th>\n",
       "      <th>brand_gp_price_max</th>\n",
       "      <th>brand_gp_price_min</th>\n",
       "      <th>bodyType_gp_price_median</th>\n",
       "      <th>bodyType_gp_price_mean</th>\n",
       "      <th>bodyType_gp_price_size</th>\n",
       "      <th>bodyType_gp_price_std</th>\n",
       "      <th>bodyType_gp_price_max</th>\n",
       "      <th>bodyType_gp_price_min</th>\n",
       "      <th>fuelType_0.0</th>\n",
       "      <th>fuelType_1.0</th>\n",
       "      <th>fuelType_2.0</th>\n",
       "      <th>fuelType_3.0</th>\n",
       "      <th>fuelType_4.0</th>\n",
       "      <th>fuelType_5.0</th>\n",
       "      <th>fuelType_6.0</th>\n",
       "      <th>notRepairedDamage_0.0</th>\n",
       "      <th>notRepairedDamage_1.0</th>\n",
       "      <th>notRepairedDamage_2.0</th>\n",
       "      <th>age_bin_1.0</th>\n",
       "      <th>age_bin_2.0</th>\n",
       "      <th>age_bin_3.0</th>\n",
       "      <th>age_bin_4.0</th>\n",
       "      <th>age_bin_5.0</th>\n",
       "      <th>age_bin_6.0</th>\n",
       "      <th>power_bin_1.0</th>\n",
       "      <th>power_bin_2.0</th>\n",
       "      <th>power_bin_3.0</th>\n",
       "      <th>power_bin_4.0</th>\n",
       "      <th>power_bin_5.0</th>\n",
       "    </tr>\n",
       "  </thead>\n",
       "  <tbody>\n",
       "    <tr>\n",
       "      <th>0</th>\n",
       "      <td>0.0</td>\n",
       "      <td>12.5</td>\n",
       "      <td>43.34375</td>\n",
       "      <td>3.966797</td>\n",
       "      <td>-2.880859</td>\n",
       "      <td>2.804688</td>\n",
       "      <td>-2.419922</td>\n",
       "      <td>0.795410</td>\n",
       "      <td>0.914551</td>\n",
       "      <td>0.050262</td>\n",
       "      <td>2.160156</td>\n",
       "      <td>1.143555</td>\n",
       "      <td>0.235718</td>\n",
       "      <td>0.101990</td>\n",
       "      <td>0.129517</td>\n",
       "      <td>0.022812</td>\n",
       "      <td>0.097473</td>\n",
       "      <td>1800.0</td>\n",
       "      <td>3608.0</td>\n",
       "      <td>10206</td>\n",
       "      <td>4652.0</td>\n",
       "      <td>40950.0</td>\n",
       "      <td>13.0</td>\n",
       "      <td>1600.0</td>\n",
       "      <td>2790.0</td>\n",
       "      <td>35241</td>\n",
       "      <td>3160.0</td>\n",
       "      <td>99999.0</td>\n",
       "      <td>12.0</td>\n",
       "      <td>1</td>\n",
       "      <td>0</td>\n",
       "      <td>0</td>\n",
       "      <td>0</td>\n",
       "      <td>0</td>\n",
       "      <td>0</td>\n",
       "      <td>0</td>\n",
       "      <td>1</td>\n",
       "      <td>0</td>\n",
       "      <td>0</td>\n",
       "      <td>0</td>\n",
       "      <td>0</td>\n",
       "      <td>1</td>\n",
       "      <td>0</td>\n",
       "      <td>0</td>\n",
       "      <td>0</td>\n",
       "      <td>0</td>\n",
       "      <td>1</td>\n",
       "      <td>0</td>\n",
       "      <td>0</td>\n",
       "      <td>0</td>\n",
       "    </tr>\n",
       "    <tr>\n",
       "      <th>1</th>\n",
       "      <td>0.0</td>\n",
       "      <td>15.0</td>\n",
       "      <td>45.31250</td>\n",
       "      <td>5.234375</td>\n",
       "      <td>-4.902344</td>\n",
       "      <td>2.095703</td>\n",
       "      <td>-1.030273</td>\n",
       "      <td>-1.722656</td>\n",
       "      <td>0.245483</td>\n",
       "      <td>0.137939</td>\n",
       "      <td>1.380859</td>\n",
       "      <td>-1.421875</td>\n",
       "      <td>0.264893</td>\n",
       "      <td>0.121033</td>\n",
       "      <td>0.135742</td>\n",
       "      <td>0.026596</td>\n",
       "      <td>0.020584</td>\n",
       "      <td>6500.0</td>\n",
       "      <td>9272.0</td>\n",
       "      <td>13780</td>\n",
       "      <td>9360.0</td>\n",
       "      <td>99900.0</td>\n",
       "      <td>15.0</td>\n",
       "      <td>3500.0</td>\n",
       "      <td>5820.0</td>\n",
       "      <td>30294</td>\n",
       "      <td>6320.0</td>\n",
       "      <td>69900.0</td>\n",
       "      <td>15.0</td>\n",
       "      <td>1</td>\n",
       "      <td>0</td>\n",
       "      <td>0</td>\n",
       "      <td>0</td>\n",
       "      <td>0</td>\n",
       "      <td>0</td>\n",
       "      <td>0</td>\n",
       "      <td>0</td>\n",
       "      <td>0</td>\n",
       "      <td>1</td>\n",
       "      <td>0</td>\n",
       "      <td>0</td>\n",
       "      <td>1</td>\n",
       "      <td>0</td>\n",
       "      <td>0</td>\n",
       "      <td>0</td>\n",
       "      <td>0</td>\n",
       "      <td>0</td>\n",
       "      <td>1</td>\n",
       "      <td>0</td>\n",
       "      <td>0</td>\n",
       "    </tr>\n",
       "    <tr>\n",
       "      <th>2</th>\n",
       "      <td>0.0</td>\n",
       "      <td>12.5</td>\n",
       "      <td>45.96875</td>\n",
       "      <td>4.824219</td>\n",
       "      <td>-4.847656</td>\n",
       "      <td>1.803711</td>\n",
       "      <td>1.565430</td>\n",
       "      <td>-0.832520</td>\n",
       "      <td>-0.229980</td>\n",
       "      <td>1.319336</td>\n",
       "      <td>-0.998535</td>\n",
       "      <td>-0.997070</td>\n",
       "      <td>0.251465</td>\n",
       "      <td>0.114929</td>\n",
       "      <td>0.165161</td>\n",
       "      <td>0.062164</td>\n",
       "      <td>0.027069</td>\n",
       "      <td>8496.0</td>\n",
       "      <td>9856.0</td>\n",
       "      <td>1458</td>\n",
       "      <td>5424.0</td>\n",
       "      <td>45000.0</td>\n",
       "      <td>100.0</td>\n",
       "      <td>1600.0</td>\n",
       "      <td>2790.0</td>\n",
       "      <td>35241</td>\n",
       "      <td>3160.0</td>\n",
       "      <td>99999.0</td>\n",
       "      <td>12.0</td>\n",
       "      <td>1</td>\n",
       "      <td>0</td>\n",
       "      <td>0</td>\n",
       "      <td>0</td>\n",
       "      <td>0</td>\n",
       "      <td>0</td>\n",
       "      <td>0</td>\n",
       "      <td>1</td>\n",
       "      <td>0</td>\n",
       "      <td>0</td>\n",
       "      <td>0</td>\n",
       "      <td>0</td>\n",
       "      <td>1</td>\n",
       "      <td>0</td>\n",
       "      <td>0</td>\n",
       "      <td>0</td>\n",
       "      <td>0</td>\n",
       "      <td>0</td>\n",
       "      <td>0</td>\n",
       "      <td>1</td>\n",
       "      <td>0</td>\n",
       "    </tr>\n",
       "    <tr>\n",
       "      <th>3</th>\n",
       "      <td>1.0</td>\n",
       "      <td>15.0</td>\n",
       "      <td>45.68750</td>\n",
       "      <td>4.492188</td>\n",
       "      <td>-4.507812</td>\n",
       "      <td>1.286133</td>\n",
       "      <td>-0.501953</td>\n",
       "      <td>-2.437500</td>\n",
       "      <td>-0.478760</td>\n",
       "      <td>-0.050629</td>\n",
       "      <td>0.883789</td>\n",
       "      <td>-2.228516</td>\n",
       "      <td>0.274414</td>\n",
       "      <td>0.110291</td>\n",
       "      <td>0.121948</td>\n",
       "      <td>0.033386</td>\n",
       "      <td>0.000000</td>\n",
       "      <td>5400.0</td>\n",
       "      <td>8448.0</td>\n",
       "      <td>14234</td>\n",
       "      <td>8920.0</td>\n",
       "      <td>98000.0</td>\n",
       "      <td>15.0</td>\n",
       "      <td>3000.0</td>\n",
       "      <td>5684.0</td>\n",
       "      <td>45877</td>\n",
       "      <td>6884.0</td>\n",
       "      <td>99999.0</td>\n",
       "      <td>11.0</td>\n",
       "      <td>1</td>\n",
       "      <td>0</td>\n",
       "      <td>0</td>\n",
       "      <td>0</td>\n",
       "      <td>0</td>\n",
       "      <td>0</td>\n",
       "      <td>0</td>\n",
       "      <td>1</td>\n",
       "      <td>0</td>\n",
       "      <td>0</td>\n",
       "      <td>0</td>\n",
       "      <td>0</td>\n",
       "      <td>0</td>\n",
       "      <td>0</td>\n",
       "      <td>1</td>\n",
       "      <td>0</td>\n",
       "      <td>0</td>\n",
       "      <td>0</td>\n",
       "      <td>0</td>\n",
       "      <td>1</td>\n",
       "      <td>0</td>\n",
       "    </tr>\n",
       "    <tr>\n",
       "      <th>4</th>\n",
       "      <td>0.0</td>\n",
       "      <td>5.0</td>\n",
       "      <td>44.37500</td>\n",
       "      <td>2.031250</td>\n",
       "      <td>-1.896484</td>\n",
       "      <td>0.910645</td>\n",
       "      <td>0.931152</td>\n",
       "      <td>2.833984</td>\n",
       "      <td>1.923828</td>\n",
       "      <td>0.572266</td>\n",
       "      <td>-1.571289</td>\n",
       "      <td>2.246094</td>\n",
       "      <td>0.228027</td>\n",
       "      <td>0.073181</td>\n",
       "      <td>0.091858</td>\n",
       "      <td>0.078796</td>\n",
       "      <td>0.121521</td>\n",
       "      <td>2300.0</td>\n",
       "      <td>3306.0</td>\n",
       "      <td>4662</td>\n",
       "      <td>3344.0</td>\n",
       "      <td>31500.0</td>\n",
       "      <td>20.0</td>\n",
       "      <td>1600.0</td>\n",
       "      <td>2790.0</td>\n",
       "      <td>35241</td>\n",
       "      <td>3160.0</td>\n",
       "      <td>99999.0</td>\n",
       "      <td>12.0</td>\n",
       "      <td>1</td>\n",
       "      <td>0</td>\n",
       "      <td>0</td>\n",
       "      <td>0</td>\n",
       "      <td>0</td>\n",
       "      <td>0</td>\n",
       "      <td>0</td>\n",
       "      <td>1</td>\n",
       "      <td>0</td>\n",
       "      <td>0</td>\n",
       "      <td>1</td>\n",
       "      <td>0</td>\n",
       "      <td>0</td>\n",
       "      <td>0</td>\n",
       "      <td>0</td>\n",
       "      <td>0</td>\n",
       "      <td>0</td>\n",
       "      <td>1</td>\n",
       "      <td>0</td>\n",
       "      <td>0</td>\n",
       "      <td>0</td>\n",
       "    </tr>\n",
       "  </tbody>\n",
       "</table>\n",
       "</div>"
      ],
      "text/plain": [
       "   gearbox  kilometer       v_0       v_1      v_10      v_11      v_12  \\\n",
       "0      0.0       12.5  43.34375  3.966797 -2.880859  2.804688 -2.419922   \n",
       "1      0.0       15.0  45.31250  5.234375 -4.902344  2.095703 -1.030273   \n",
       "2      0.0       12.5  45.96875  4.824219 -4.847656  1.803711  1.565430   \n",
       "3      1.0       15.0  45.68750  4.492188 -4.507812  1.286133 -0.501953   \n",
       "4      0.0        5.0  44.37500  2.031250 -1.896484  0.910645  0.931152   \n",
       "\n",
       "       v_13      v_14       v_2       v_3       v_4       v_5       v_6  \\\n",
       "0  0.795410  0.914551  0.050262  2.160156  1.143555  0.235718  0.101990   \n",
       "1 -1.722656  0.245483  0.137939  1.380859 -1.421875  0.264893  0.121033   \n",
       "2 -0.832520 -0.229980  1.319336 -0.998535 -0.997070  0.251465  0.114929   \n",
       "3 -2.437500 -0.478760 -0.050629  0.883789 -2.228516  0.274414  0.110291   \n",
       "4  2.833984  1.923828  0.572266 -1.571289  2.246094  0.228027  0.073181   \n",
       "\n",
       "        v_7       v_8       v_9  brand_gp_price_median  brand_gp_price_mean  \\\n",
       "0  0.129517  0.022812  0.097473                 1800.0               3608.0   \n",
       "1  0.135742  0.026596  0.020584                 6500.0               9272.0   \n",
       "2  0.165161  0.062164  0.027069                 8496.0               9856.0   \n",
       "3  0.121948  0.033386  0.000000                 5400.0               8448.0   \n",
       "4  0.091858  0.078796  0.121521                 2300.0               3306.0   \n",
       "\n",
       "   brand_gp_price_size  brand_gp_price_std  brand_gp_price_max  \\\n",
       "0                10206              4652.0             40950.0   \n",
       "1                13780              9360.0             99900.0   \n",
       "2                 1458              5424.0             45000.0   \n",
       "3                14234              8920.0             98000.0   \n",
       "4                 4662              3344.0             31500.0   \n",
       "\n",
       "   brand_gp_price_min  bodyType_gp_price_median  bodyType_gp_price_mean  \\\n",
       "0                13.0                    1600.0                  2790.0   \n",
       "1                15.0                    3500.0                  5820.0   \n",
       "2               100.0                    1600.0                  2790.0   \n",
       "3                15.0                    3000.0                  5684.0   \n",
       "4                20.0                    1600.0                  2790.0   \n",
       "\n",
       "   bodyType_gp_price_size  bodyType_gp_price_std  bodyType_gp_price_max  \\\n",
       "0                   35241                 3160.0                99999.0   \n",
       "1                   30294                 6320.0                69900.0   \n",
       "2                   35241                 3160.0                99999.0   \n",
       "3                   45877                 6884.0                99999.0   \n",
       "4                   35241                 3160.0                99999.0   \n",
       "\n",
       "   bodyType_gp_price_min  fuelType_0.0  fuelType_1.0  fuelType_2.0  \\\n",
       "0                   12.0             1             0             0   \n",
       "1                   15.0             1             0             0   \n",
       "2                   12.0             1             0             0   \n",
       "3                   11.0             1             0             0   \n",
       "4                   12.0             1             0             0   \n",
       "\n",
       "   fuelType_3.0  fuelType_4.0  fuelType_5.0  fuelType_6.0  \\\n",
       "0             0             0             0             0   \n",
       "1             0             0             0             0   \n",
       "2             0             0             0             0   \n",
       "3             0             0             0             0   \n",
       "4             0             0             0             0   \n",
       "\n",
       "   notRepairedDamage_0.0  notRepairedDamage_1.0  notRepairedDamage_2.0  \\\n",
       "0                      1                      0                      0   \n",
       "1                      0                      0                      1   \n",
       "2                      1                      0                      0   \n",
       "3                      1                      0                      0   \n",
       "4                      1                      0                      0   \n",
       "\n",
       "   age_bin_1.0  age_bin_2.0  age_bin_3.0  age_bin_4.0  age_bin_5.0  \\\n",
       "0            0            0            1            0            0   \n",
       "1            0            0            1            0            0   \n",
       "2            0            0            1            0            0   \n",
       "3            0            0            0            0            1   \n",
       "4            1            0            0            0            0   \n",
       "\n",
       "   age_bin_6.0  power_bin_1.0  power_bin_2.0  power_bin_3.0  power_bin_4.0  \\\n",
       "0            0              0              1              0              0   \n",
       "1            0              0              0              1              0   \n",
       "2            0              0              0              0              1   \n",
       "3            0              0              0              0              1   \n",
       "4            0              0              1              0              0   \n",
       "\n",
       "   power_bin_5.0  \n",
       "0              0  \n",
       "1              0  \n",
       "2              0  \n",
       "3              0  \n",
       "4              0  "
      ]
     },
     "execution_count": 18,
     "metadata": {},
     "output_type": "execute_result"
    }
   ],
   "source": [
    "# 在簡單線性回歸時，需將類別變量(01可跳過)做 onehot 處理\n",
    "LR_train_x = pd.get_dummies(train_x, columns=['fuelType','notRepairedDamage','age_bin','power_bin'])\n",
    "LR_train_x.head()"
   ]
  },
  {
   "cell_type": "code",
   "execution_count": 8,
   "metadata": {},
   "outputs": [],
   "source": [
    "from sklearn.linear_model import LinearRegression\n",
    "from sklearn.model_selection import cross_val_score\n",
    "from sklearn.metrics import mean_absolute_error, make_scorer"
   ]
  },
  {
   "cell_type": "code",
   "execution_count": 20,
   "metadata": {},
   "outputs": [],
   "source": [
    "model = LinearRegression(normalize=True)\n",
    "## the regressors X will be normalized before regression by subtracting the mean and dividing by the l2-norm\n",
    "model = model.fit(LR_train_x, train_y)"
   ]
  },
  {
   "cell_type": "code",
   "execution_count": 21,
   "metadata": {},
   "outputs": [
    {
     "data": {
      "text/plain": [
       "<matplotlib.lines.Line2D at 0x1854d354d30>"
      ]
     },
     "execution_count": 21,
     "metadata": {},
     "output_type": "execute_result"
    },
    {
     "data": {
      "image/png": "[encoded data removed]",
      "text/plain": [
       "<Figure size 432x288 with 1 Axes>"
      ]
     },
     "metadata": {
      "needs_background": "light"
     },
     "output_type": "display_data"
    }
   ],
   "source": [
    "subsample_index = np.random.randint(low=0, high=len(train_y), size=1000)\n",
    "\n",
    "fig, ax = plt.subplots()\n",
    "ax.scatter(train_y.loc[subsample_index], model.predict(LR_train_x.loc[subsample_index]),s=1)\n",
    "ax.title.set_text('true vs predicted price')\n",
    "ax.set_xlabel('true price')\n",
    "ax.set_ylabel('predicted price')\n",
    "ax.set_xlim(-10000,60000)\n",
    "ax.set_ylim(-10000,60000)\n",
    "\n",
    "line = matplotlib.lines.Line2D([-10000,60000], [-10000,60000], color='red', ls='-.',lw=0.5)\n",
    "ax.add_line(line)"
   ]
  },
  {
   "cell_type": "markdown",
   "metadata": {},
   "source": [
    "在預測結果良好時，散點圖的點應該盡可能分布在紅線上，由上圖可知，整體預測結果不是特別好。  \n",
    "而需特別注意的是，有許多預測值位在<0部分，並不合理。  \n",
    "以下就此問題進一步分析："
   ]
  },
  {
   "cell_type": "code",
   "execution_count": 22,
   "metadata": {},
   "outputs": [
    {
     "data": {
      "text/plain": [
       "Text(0, 0.5, 'count')"
      ]
     },
     "execution_count": 22,
     "metadata": {},
     "output_type": "execute_result"
    },
    {
     "data": {
      "image/png": "[encoded data removed]",
      "text/plain": [
       "<Figure size 432x288 with 1 Axes>"
      ]
     },
     "metadata": {
      "needs_background": "light"
     },
     "output_type": "display_data"
    }
   ],
   "source": [
    "plt.hist(train_y,bins=20)\n",
    "plt.title('train data price distribution')\n",
    "plt.xlabel('price')\n",
    "plt.ylabel('count')"
   ]
  },
  {
   "cell_type": "markdown",
   "metadata": {},
   "source": [
    "由上圖可知，預測目標price嚴重右偏，和指數分布非常相似。  \n",
    "因一般模型假設誤差服從正態分布，預測目標嚴重右偏的狀況會使的誤差同樣右偏，使的模型假設不成立，影響模型效果，故以下對price進行log變換以改善嚴重右偏的問題。"
   ]
  },
  {
   "cell_type": "code",
   "execution_count": 9,
   "metadata": {},
   "outputs": [],
   "source": [
    "train_y_ln = np.log(train_y + 1)"
   ]
  },
  {
   "cell_type": "code",
   "execution_count": 23,
   "metadata": {},
   "outputs": [
    {
     "data": {
      "text/plain": [
       "Text(0, 0.5, 'count')"
      ]
     },
     "execution_count": 23,
     "metadata": {},
     "output_type": "execute_result"
    },
    {
     "data": {
      "image/png": "[encoded data removed]",
      "text/plain": [
       "<Figure size 432x288 with 1 Axes>"
      ]
     },
     "metadata": {
      "needs_background": "light"
     },
     "output_type": "display_data"
    }
   ],
   "source": [
    "plt.hist(train_y_ln,bins=20)\n",
    "plt.title('train data log transformed price distribution')\n",
    "plt.xlabel('log transformed price')\n",
    "plt.ylabel('count')"
   ]
  },
  {
   "cell_type": "markdown",
   "metadata": {},
   "source": [
    "由上圖可知，經過log變換後，預測目標 ln(price+1) 較為接近正態分布。"
   ]
  },
  {
   "cell_type": "markdown",
   "metadata": {},
   "source": [
    "#### 樹模型 (包含基本決策樹及集成學習)"
   ]
  },
  {
   "cell_type": "code",
   "execution_count": 10,
   "metadata": {},
   "outputs": [],
   "source": [
    "from sklearn.tree import DecisionTreeRegressor #一般決策樹\n",
    "from sklearn.ensemble import RandomForestRegressor #隨機森林\n",
    "from sklearn.ensemble import GradientBoostingRegressor #GBDT\n",
    "from xgboost.sklearn import XGBRegressor #XGBoost\n",
    "from lightgbm.sklearn import LGBMRegressor #LightGBM\n",
    "\n",
    "from datetime import datetime # 計算建模用時"
   ]
  },
  {
   "cell_type": "code",
   "execution_count": 25,
   "metadata": {},
   "outputs": [],
   "source": [
    "models = [\n",
    "    DecisionTreeRegressor(),\n",
    "    RandomForestRegressor(),\n",
    "    GradientBoostingRegressor(),\n",
    "    XGBRegressor(n_estimators = 100, objective='reg:squarederror'),\n",
    "    LGBMRegressor(n_estimators = 100)\n",
    "    ]"
   ]
  },
  {
   "cell_type": "code",
   "execution_count": 26,
   "metadata": {},
   "outputs": [
    {
     "name": "stdout",
     "output_type": "stream",
     "text": [
      "DecisionTreeRegressor training start...\n",
      "DecisionTreeRegressor is finished, used 0:00:40.944145\n",
      "-----------------------------------------\n",
      "RandomForestRegressor training start...\n",
      "RandomForestRegressor is finished, used 0:37:50.325307\n",
      "-----------------------------------------\n",
      "GradientBoostingRegressor training start...\n",
      "GradientBoostingRegressor is finished, used 0:09:45.698431\n",
      "-----------------------------------------\n",
      "XGBRegressor training start...\n",
      "XGBRegressor is finished, used 0:01:44.323268\n",
      "-----------------------------------------\n",
      "LGBMRegressor training start...\n",
      "LGBMRegressor is finished, used 0:00:18.024440\n",
      "-----------------------------------------\n"
     ]
    }
   ],
   "source": [
    "result = dict()\n",
    "\n",
    "for model in models:\n",
    "    model_name = str(model).split('(')[0]\n",
    "    print(model_name + ' training start...')\n",
    "    start_time = datetime.now()\n",
    "    try:\n",
    "        scores = cross_val_score(model, X=train_x, y=train_y_ln, verbose=0, cv = 5, scoring=make_scorer(mean_absolute_error))\n",
    "        result[model_name] = scores\n",
    "        print(model_name + ' is finished, used '+str(datetime.now()-start_time))\n",
    "    except:\n",
    "        print(model_name + ' training failed')\n",
    "    print('-----------------------------------------')"
   ]
  },
  {
   "cell_type": "code",
   "execution_count": 27,
   "metadata": {},
   "outputs": [
    {
     "data": {
      "text/html": [
       "<div>\n",
       "<style scoped>\n",
       "    .dataframe tbody tr th:only-of-type {\n",
       "        vertical-align: middle;\n",
       "    }\n",
       "\n",
       "    .dataframe tbody tr th {\n",
       "        vertical-align: top;\n",
       "    }\n",
       "\n",
       "    .dataframe thead th {\n",
       "        text-align: right;\n",
       "    }\n",
       "</style>\n",
       "<table border=\"1\" class=\"dataframe\">\n",
       "  <thead>\n",
       "    <tr style=\"text-align: right;\">\n",
       "      <th></th>\n",
       "      <th>DecisionTreeRegressor</th>\n",
       "      <th>RandomForestRegressor</th>\n",
       "      <th>GradientBoostingRegressor</th>\n",
       "      <th>XGBRegressor</th>\n",
       "      <th>LGBMRegressor</th>\n",
       "    </tr>\n",
       "  </thead>\n",
       "  <tbody>\n",
       "    <tr>\n",
       "      <th>cv1</th>\n",
       "      <td>0.190553</td>\n",
       "      <td>0.138853</td>\n",
       "      <td>0.180537</td>\n",
       "      <td>0.147161</td>\n",
       "      <td>0.150818</td>\n",
       "    </tr>\n",
       "    <tr>\n",
       "      <th>cv2</th>\n",
       "      <td>0.194722</td>\n",
       "      <td>0.139051</td>\n",
       "      <td>0.180768</td>\n",
       "      <td>0.148731</td>\n",
       "      <td>0.152121</td>\n",
       "    </tr>\n",
       "    <tr>\n",
       "      <th>cv3</th>\n",
       "      <td>0.194185</td>\n",
       "      <td>0.140704</td>\n",
       "      <td>0.179177</td>\n",
       "      <td>0.149734</td>\n",
       "      <td>0.151943</td>\n",
       "    </tr>\n",
       "    <tr>\n",
       "      <th>cv4</th>\n",
       "      <td>0.192030</td>\n",
       "      <td>0.137845</td>\n",
       "      <td>0.176933</td>\n",
       "      <td>0.146592</td>\n",
       "      <td>0.149833</td>\n",
       "    </tr>\n",
       "    <tr>\n",
       "      <th>cv5</th>\n",
       "      <td>0.190932</td>\n",
       "      <td>0.139715</td>\n",
       "      <td>0.179941</td>\n",
       "      <td>0.148930</td>\n",
       "      <td>0.151466</td>\n",
       "    </tr>\n",
       "  </tbody>\n",
       "</table>\n",
       "</div>"
      ],
      "text/plain": [
       "     DecisionTreeRegressor  RandomForestRegressor  GradientBoostingRegressor  \\\n",
       "cv1               0.190553               0.138853                   0.180537   \n",
       "cv2               0.194722               0.139051                   0.180768   \n",
       "cv3               0.194185               0.140704                   0.179177   \n",
       "cv4               0.192030               0.137845                   0.176933   \n",
       "cv5               0.190932               0.139715                   0.179941   \n",
       "\n",
       "     XGBRegressor  LGBMRegressor  \n",
       "cv1      0.147161       0.150818  \n",
       "cv2      0.148731       0.152121  \n",
       "cv3      0.149734       0.151943  \n",
       "cv4      0.146592       0.149833  \n",
       "cv5      0.148930       0.151466  "
      ]
     },
     "execution_count": 27,
     "metadata": {},
     "output_type": "execute_result"
    }
   ],
   "source": [
    "result = pd.DataFrame(result)\n",
    "result.index = ['cv'+str(x) for x in range(1,6)]\n",
    "result"
   ]
  },
  {
   "cell_type": "markdown",
   "metadata": {},
   "source": [
    "由上面結果可知，隨機森林模型在所有fold中都表現最好，但訓練時間明顯比效果差異不大的XGBoost長很多。"
   ]
  },
  {
   "cell_type": "markdown",
   "metadata": {},
   "source": [
    "## 二、調參"
   ]
  },
  {
   "cell_type": "markdown",
   "metadata": {},
   "source": [
    "以下針對XGBoost模型進行Grid Search調參：(表現最好的RF訓練時間太長，先用XGBoost替代)"
   ]
  },
  {
   "cell_type": "code",
   "execution_count": 11,
   "metadata": {},
   "outputs": [],
   "source": [
    "# 先檢視常用 XGBoost 參數組表現\n",
    "common_params = {\n",
    "                'objective':'reg:squarederror',\n",
    "                'n_estimators': 500, \n",
    "                 'learning_rate': 0.1, \n",
    "                 'max_depth': 5, \n",
    "                 'min_child_weight': 1, \n",
    "                 'seed': 0, \n",
    "                 'subsample': 0.8, \n",
    "                 'colsample_bytree': 0.8, \n",
    "                 'gamma': 0, \n",
    "                 'reg_alpha': 0, \n",
    "                 'reg_lambda': 1\n",
    "                }"
   ]
  },
  {
   "cell_type": "code",
   "execution_count": 149,
   "metadata": {
    "scrolled": true
   },
   "outputs": [
    {
     "name": "stdout",
     "output_type": "stream",
     "text": [
      "XGB training with common parameters start...\n",
      "training done, time used: 0:07:04.779507\n",
      "result scores:\n",
      "[0.14092171 0.14208014 0.14194219 0.13940248 0.140944  ]\n"
     ]
    }
   ],
   "source": [
    "print('XGB training with common parameters start...')\n",
    "start_time = datetime.now()\n",
    "scores = cross_val_score(XGBRegressor(**common_params), X=train_x, y=train_y_ln, verbose=0, cv = 5, scoring=make_scorer(mean_absolute_error))\n",
    "print('training done, time used: '+str(datetime.now()-start_time))\n",
    "print('result scores:')\n",
    "print(scores)"
   ]
  },
  {
   "cell_type": "markdown",
   "metadata": {},
   "source": [
    "由以上的score可以看出來，常用參數組表現比之前更好，接下來用Grid Search進一步嘗試優化："
   ]
  },
  {
   "cell_type": "code",
   "execution_count": 150,
   "metadata": {},
   "outputs": [],
   "source": [
    "from sklearn.model_selection import GridSearchCV"
   ]
  },
  {
   "cell_type": "code",
   "execution_count": 151,
   "metadata": {},
   "outputs": [],
   "source": [
    "### 所有調參選擇\n",
    "n_estimators = [100, 500, 600]\n",
    "learning_rate = [0.01, 0.1, 0.2]\n",
    "max_depth = [3, 5, 7]\n",
    "min_child_weight = [1, 3, 5]\n",
    "gamma = [0, 0.1, 0.5]\n",
    "subsample = [0.7, 0.8, 0.9]\n",
    "colsample_bytree = [0.7, 0.8, 0.9]\n",
    "reg_alpha = [0, 0.05, 0.5, 1]\n",
    "reg_lambda = [0, 0.5, 1, 2]"
   ]
  },
  {
   "cell_type": "code",
   "execution_count": 152,
   "metadata": {},
   "outputs": [],
   "source": [
    "given_params_dict = common_params.copy()\n",
    "\n",
    "search_params_dict = {\n",
    "            'n_estimators': n_estimators, \n",
    "             'learning_rate': learning_rate, \n",
    "             'max_depth': max_depth, \n",
    "             'min_child_weight': min_child_weight, \n",
    "             'subsample': subsample, \n",
    "             'colsample_bytree': colsample_bytree, \n",
    "             'gamma': gamma, \n",
    "             'reg_alpha': reg_alpha, \n",
    "             'reg_lambda': reg_lambda\n",
    "            }"
   ]
  },
  {
   "cell_type": "markdown",
   "metadata": {},
   "source": [
    "若同時對所有參數進行Grid Search，計算量過大，每次1-2個參數更好。"
   ]
  },
  {
   "cell_type": "code",
   "execution_count": 163,
   "metadata": {},
   "outputs": [],
   "source": [
    "def XGB_GS(given_params_dict, search_params_dict, search_params_keys, update_with_best=True):\n",
    "    print('Grid Search for {} start...'.format(search_params_keys))\n",
    "    start_time = datetime.now()\n",
    "    \n",
    "    given_params = given_params_dict.copy()\n",
    "    searching_params = {}\n",
    "    for sp in search_params_keys:\n",
    "        searching_params.update({sp:search_params_dict[sp]})\n",
    "        del given_params[sp]\n",
    "        \n",
    "    print('given_params:')\n",
    "    print(given_params)\n",
    "    print('searching_params:')\n",
    "    print(searching_params)\n",
    "    \n",
    "    model = XGBRegressor(**given_params)\n",
    "\n",
    "    xgb_clf = GridSearchCV(model, searching_params, cv=5)\n",
    "    xgb_clf.fit(train_x, train_y_ln)\n",
    "    print('Grid Search for {} finished, used time: {}'.format(str(search_params_keys),str(datetime.now()-start_time)))\\\n",
    "    \n",
    "    print('get best parameters:')\n",
    "    print(xgb_clf.best_params_)\n",
    "    \n",
    "    if update_with_best:\n",
    "        given_params_dict.update(xgb_clf.best_params_)\n",
    "        print('parameter updated')\n",
    "        \n",
    "    print('-------------------------------')"
   ]
  },
  {
   "cell_type": "code",
   "execution_count": 155,
   "metadata": {},
   "outputs": [],
   "source": [
    "### 定義調參順序\n",
    "search_plan = [\n",
    "                  ['n_estimators'],\n",
    "                  ['learning_rate'],\n",
    "                  ['max_depth','min_child_weight'],\n",
    "                  ['gamma'],\n",
    "                  ['subsample'],\n",
    "                  ['colsample_bytree'],\n",
    "                  ['reg_alpha','reg_lambda']\n",
    "              ]"
   ]
  },
  {
   "cell_type": "code",
   "execution_count": 164,
   "metadata": {},
   "outputs": [
    {
     "name": "stdout",
     "output_type": "stream",
     "text": [
      "Grid Search for ['n_estimators'] start...\n",
      "given_params:\n",
      "{'objective': 'reg:squarederror', 'learning_rate': 0.1, 'max_depth': 5, 'min_child_weight': 1, 'seed': 0, 'subsample': 0.8, 'colsample_bytree': 0.8, 'gamma': 0, 'reg_alpha': 0, 'reg_lambda': 1}\n",
      "searching_params:\n",
      "{'n_estimators': [100, 500, 600]}\n",
      "Grid Search for ['n_estimators'] finished, used time: 0:09:26.846454\n",
      "get best parameters:\n",
      "{'n_estimators': 600}\n",
      "parameter updated\n",
      "-------------------------------\n",
      "Grid Search for ['learning_rate'] start...\n",
      "given_params:\n",
      "{'objective': 'reg:squarederror', 'n_estimators': 600, 'max_depth': 5, 'min_child_weight': 1, 'seed': 0, 'subsample': 0.8, 'colsample_bytree': 0.8, 'gamma': 0, 'reg_alpha': 0, 'reg_lambda': 1}\n",
      "searching_params:\n",
      "{'learning_rate': [0.01, 0.1, 0.2]}\n",
      "Grid Search for ['learning_rate'] finished, used time: 0:13:52.744166\n",
      "get best parameters:\n",
      "{'learning_rate': 0.1}\n",
      "parameter updated\n",
      "-------------------------------\n",
      "Grid Search for ['max_depth', 'min_child_weight'] start...\n",
      "given_params:\n",
      "{'objective': 'reg:squarederror', 'n_estimators': 600, 'learning_rate': 0.1, 'seed': 0, 'subsample': 0.8, 'colsample_bytree': 0.8, 'gamma': 0, 'reg_alpha': 0, 'reg_lambda': 1}\n",
      "searching_params:\n",
      "{'max_depth': [3, 5, 7], 'min_child_weight': [1, 3, 5]}\n",
      "Grid Search for ['max_depth', 'min_child_weight'] finished, used time: 0:39:46.662071\n",
      "get best parameters:\n",
      "{'max_depth': 7, 'min_child_weight': 3}\n",
      "parameter updated\n",
      "-------------------------------\n",
      "Grid Search for ['gamma'] start...\n",
      "given_params:\n",
      "{'objective': 'reg:squarederror', 'n_estimators': 600, 'learning_rate': 0.1, 'max_depth': 7, 'min_child_weight': 3, 'seed': 0, 'subsample': 0.8, 'colsample_bytree': 0.8, 'reg_alpha': 0, 'reg_lambda': 1}\n",
      "searching_params:\n",
      "{'gamma': [0, 0.1, 0.5]}\n",
      "Grid Search for ['gamma'] finished, used time: 0:18:50.843363\n",
      "get best parameters:\n",
      "{'gamma': 0.1}\n",
      "parameter updated\n",
      "-------------------------------\n",
      "Grid Search for ['subsample'] start...\n",
      "given_params:\n",
      "{'objective': 'reg:squarederror', 'n_estimators': 600, 'learning_rate': 0.1, 'max_depth': 7, 'min_child_weight': 3, 'seed': 0, 'colsample_bytree': 0.8, 'gamma': 0.1, 'reg_alpha': 0, 'reg_lambda': 1}\n",
      "searching_params:\n",
      "{'subsample': [0.7, 0.8, 0.9]}\n",
      "Grid Search for ['subsample'] finished, used time: 0:18:45.894891\n",
      "get best parameters:\n",
      "{'subsample': 0.9}\n",
      "parameter updated\n",
      "-------------------------------\n",
      "Grid Search for ['colsample_bytree'] start...\n",
      "given_params:\n",
      "{'objective': 'reg:squarederror', 'n_estimators': 600, 'learning_rate': 0.1, 'max_depth': 7, 'min_child_weight': 3, 'seed': 0, 'subsample': 0.9, 'gamma': 0.1, 'reg_alpha': 0, 'reg_lambda': 1}\n",
      "searching_params:\n",
      "{'colsample_bytree': [0.7, 0.8, 0.9]}\n",
      "Grid Search for ['colsample_bytree'] finished, used time: 0:18:01.489491\n",
      "get best parameters:\n",
      "{'colsample_bytree': 0.7}\n",
      "parameter updated\n",
      "-------------------------------\n",
      "Grid Search for ['reg_alpha', 'reg_lambda'] start...\n",
      "given_params:\n",
      "{'objective': 'reg:squarederror', 'n_estimators': 600, 'learning_rate': 0.1, 'max_depth': 7, 'min_child_weight': 3, 'seed': 0, 'subsample': 0.9, 'colsample_bytree': 0.7, 'gamma': 0.1}\n",
      "searching_params:\n",
      "{'reg_alpha': [0, 0.05, 0.5, 1], 'reg_lambda': [0, 0.5, 1, 2]}\n",
      "Grid Search for ['reg_alpha', 'reg_lambda'] finished, used time: 1:24:15.308090\n",
      "get best parameters:\n",
      "{'reg_alpha': 1, 'reg_lambda': 2}\n",
      "parameter updated\n",
      "-------------------------------\n"
     ]
    }
   ],
   "source": [
    "### 依照上面定義順序自動調參\n",
    "for search_params_keys in search_plan:\n",
    "    XGB_GS(given_params_dict, search_params_dict, search_params_keys)"
   ]
  },
  {
   "cell_type": "code",
   "execution_count": 168,
   "metadata": {},
   "outputs": [
    {
     "name": "stdout",
     "output_type": "stream",
     "text": [
      "common_params:\n",
      "{'objective': 'reg:squarederror', 'n_estimators': 500, 'learning_rate': 0.1, 'max_depth': 5, 'min_child_weight': 1, 'seed': 0, 'subsample': 0.8, 'colsample_bytree': 0.8, 'gamma': 0, 'reg_alpha': 0, 'reg_lambda': 1}\n",
      "given_params_dict:\n",
      "{'objective': 'reg:squarederror', 'n_estimators': 600, 'learning_rate': 0.1, 'max_depth': 7, 'min_child_weight': 3, 'seed': 0, 'subsample': 0.9, 'colsample_bytree': 0.7, 'gamma': 0.1, 'reg_alpha': 1, 'reg_lambda': 2}\n"
     ]
    }
   ],
   "source": [
    "### 比較一般常用參數組和調參獲得的 best parameters 組合\n",
    "print('common_params:')\n",
    "print(common_params)\n",
    "print('given_params_dict:')\n",
    "print(given_params_dict)"
   ]
  },
  {
   "cell_type": "markdown",
   "metadata": {},
   "source": [
    "以獲得的best parameters再做一次訓練檢視效果："
   ]
  },
  {
   "cell_type": "code",
   "execution_count": 169,
   "metadata": {},
   "outputs": [
    {
     "name": "stdout",
     "output_type": "stream",
     "text": [
      "XGB training with best parameters start...\n",
      "training done, time used: 0:10:30.556643\n",
      "result scores:\n",
      "[0.13502122 0.13504383 0.13542813 0.13324043 0.13517419]\n"
     ]
    }
   ],
   "source": [
    "print('XGB training with best parameters start...')\n",
    "start_time = datetime.now()\n",
    "scores = cross_val_score(XGBRegressor(**given_params_dict), X=train_x, y=train_y_ln, verbose=0, cv = 5, scoring=make_scorer(mean_absolute_error))\n",
    "print('training done, time used: '+str(datetime.now()-start_time))\n",
    "print('result scores:')\n",
    "print(scores)"
   ]
  },
  {
   "cell_type": "code",
   "execution_count": 12,
   "metadata": {},
   "outputs": [],
   "source": [
    "best_params_dict = {\n",
    "        'objective': 'reg:squarederror', \n",
    "        'n_estimators': 600, \n",
    "        'learning_rate': 0.1, \n",
    "        'max_depth': 7, \n",
    "        'min_child_weight': 3, \n",
    "        'seed': 0, \n",
    "        'subsample': 0.9, \n",
    "        'colsample_bytree': 0.7, \n",
    "        'gamma': 0.1, \n",
    "        'reg_alpha': 1, \n",
    "        'reg_lambda': 2\n",
    "}"
   ]
  },
  {
   "cell_type": "markdown",
   "metadata": {},
   "source": [
    "上述結果顯示整體MAE降低約0.005，可見調參確實優化了，但是否有過擬合狀況需對測試集進行預測後比對才能確定。"
   ]
  },
  {
   "cell_type": "markdown",
   "metadata": {},
   "source": [
    "## 三、測試集預測"
   ]
  },
  {
   "cell_type": "markdown",
   "metadata": {},
   "source": [
    "以下用三個模型(隨機森林、常用參數組 XGBoost、調參後 XGBoost)對測試集進行預測，並將各自預測結果上傳，檢視結果。  \n",
    "之所以還考慮常用參數組的 XGBoost 是因為不能確定調參後模型表現進度是否因為過擬合，故以兩模型做預測，由測試集結果來輔助判斷。"
   ]
  },
  {
   "cell_type": "markdown",
   "metadata": {},
   "source": [
    "預測測試集的同時也需要檢視訓練集預測狀況，以幫助後續判斷模型是否過擬合，若訓練集預測準確度高但測試集低，則表示模型對訓練集數據過擬合。  \n",
    "以下拆分訓練集："
   ]
  },
  {
   "cell_type": "code",
   "execution_count": 13,
   "metadata": {},
   "outputs": [],
   "source": [
    "from sklearn.model_selection import train_test_split\n",
    "train_x_train, train_x_test, train_y_ln_train, train_y_ln_test = train_test_split(train_x,train_y_ln,test_size=0.2)\n",
    "# 競賽目標的測試集 = test_x"
   ]
  },
  {
   "cell_type": "code",
   "execution_count": 14,
   "metadata": {},
   "outputs": [],
   "source": [
    "# 將預測出來 log 變換後的 price 轉換回原本的 price\n",
    "def reverse_log_price(series):\n",
    "    return np.exp(series)+1"
   ]
  },
  {
   "cell_type": "code",
   "execution_count": 15,
   "metadata": {},
   "outputs": [],
   "source": [
    "train_y_test = reverse_log_price(train_y_ln_test)"
   ]
  },
  {
   "cell_type": "markdown",
   "metadata": {},
   "source": [
    "### 1. 隨機森林"
   ]
  },
  {
   "cell_type": "code",
   "execution_count": 17,
   "metadata": {},
   "outputs": [
    {
     "name": "stdout",
     "output_type": "stream",
     "text": [
      "Random Forest\n",
      "RandomForest, MAE for splited train data = 647.0207\n",
      "used time = 0:03:41.783076\n"
     ]
    }
   ],
   "source": [
    "print('Random Forest')\n",
    "start_time = datetime.now()\n",
    "\n",
    "RF = RandomForestRegressor()\n",
    "RF.fit(train_x_train,train_y_ln_train)\n",
    "\n",
    "RF_pred_train = RF.predict(train_x_test)\n",
    "RF_pred_train_reversed = reverse_log_price(RF_pred_train)\n",
    "MAE_RF_train = mean_absolute_error(train_y_test, RF_pred_train_reversed)\n",
    "print('RandomForest, MAE for splited train data = '+str(np.round(MAE_RF_train,4)))\n",
    "\n",
    "RF_pred_test = RF.predict(test_x)\n",
    "RF_pred_test_reversed = reverse_log_price(RF_pred_test)\n",
    "\n",
    "print('used time = '+str(datetime.now()-start_time))"
   ]
  },
  {
   "cell_type": "code",
   "execution_count": 18,
   "metadata": {
    "scrolled": true
   },
   "outputs": [
    {
     "data": {
      "text/plain": [
       "<matplotlib.lines.Line2D at 0x2029fc8cfd0>"
      ]
     },
     "execution_count": 18,
     "metadata": {},
     "output_type": "execute_result"
    },
    {
     "data": {
      "image/png": "[encoded data removed]",
      "text/plain": [
       "<Figure size 432x288 with 1 Axes>"
      ]
     },
     "metadata": {
      "needs_background": "light"
     },
     "output_type": "display_data"
    }
   ],
   "source": [
    "fig, ax = plt.subplots()\n",
    "ax.scatter(train_y_test, RF_pred_train_reversed,s=1)\n",
    "ax.title.set_text('RandomForest - true vs predicted price')\n",
    "ax.set_xlabel('true price')\n",
    "ax.set_ylabel('predicted price')\n",
    "ax.set_xlim(-5000,100000)\n",
    "ax.set_ylim(-5000,100000)\n",
    "\n",
    "line = matplotlib.lines.Line2D([-5000,100000], [-5000,100000], color='red', ls='-.',lw=0.5)\n",
    "ax.add_line(line)"
   ]
  },
  {
   "cell_type": "markdown",
   "metadata": {},
   "source": [
    "### 2. 常用參數 XGBoost"
   ]
  },
  {
   "cell_type": "code",
   "execution_count": 19,
   "metadata": {},
   "outputs": [
    {
     "name": "stdout",
     "output_type": "stream",
     "text": [
      "XGBoost with common parameters\n",
      "MAE for splited train data = 665.9568\n",
      "used time = 0:00:53.967701\n"
     ]
    }
   ],
   "source": [
    "print('XGBoost with common parameters')\n",
    "start_time = datetime.now()\n",
    "\n",
    "xgb_common = XGBRegressor(**common_params)\n",
    "xgb_common.fit(train_x_train,train_y_ln_train)\n",
    "\n",
    "xgb_common_pred_train = xgb_common.predict(train_x_test)\n",
    "xgb_common_pred_train_reversed = reverse_log_price(xgb_common_pred_train)\n",
    "MAE_xgb_common_train = mean_absolute_error(train_y_test, xgb_common_pred_train_reversed)\n",
    "print('MAE for splited train data = '+str(np.round(MAE_xgb_common_train,4)))\n",
    "\n",
    "xgb_common_pred_test = xgb_common.predict(test_x)\n",
    "xgb_common_pred_test_reversed = reverse_log_price(xgb_common_pred_test)\n",
    "\n",
    "print('used time = '+str(datetime.now()-start_time))"
   ]
  },
  {
   "cell_type": "code",
   "execution_count": 20,
   "metadata": {},
   "outputs": [
    {
     "data": {
      "text/plain": [
       "<matplotlib.lines.Line2D at 0x202a5c2f470>"
      ]
     },
     "execution_count": 20,
     "metadata": {},
     "output_type": "execute_result"
    },
    {
     "data": {
      "image/png": "[encoded data removed]",
      "text/plain": [
       "<Figure size 432x288 with 1 Axes>"
      ]
     },
     "metadata": {
      "needs_background": "light"
     },
     "output_type": "display_data"
    }
   ],
   "source": [
    "fig, ax = plt.subplots()\n",
    "ax.scatter(train_y_test, xgb_common_pred_train_reversed,s=1)\n",
    "ax.title.set_text('XGBoost with common params - true vs predicted price')\n",
    "ax.set_xlabel('true price')\n",
    "ax.set_ylabel('predicted price')\n",
    "ax.set_xlim(-5000,100000)\n",
    "ax.set_ylim(-5000,100000)\n",
    "\n",
    "line = matplotlib.lines.Line2D([-5000,100000], [-5000,100000], color='red', ls='-.',lw=0.5)\n",
    "ax.add_line(line)"
   ]
  },
  {
   "cell_type": "markdown",
   "metadata": {},
   "source": [
    "### 3. Grid Search 參數 XGBoost"
   ]
  },
  {
   "cell_type": "code",
   "execution_count": 21,
   "metadata": {},
   "outputs": [
    {
     "name": "stdout",
     "output_type": "stream",
     "text": [
      "XGBoost with Grid Search best parameters\n",
      "MAE for splited train data = 624.1711\n",
      "used time = 0:01:17.205326\n"
     ]
    }
   ],
   "source": [
    "print('XGBoost with Grid Search best parameters')\n",
    "start_time = datetime.now()\n",
    "\n",
    "xgb_GS = XGBRegressor(**best_params_dict)\n",
    "xgb_GS.fit(train_x_train,train_y_ln_train)\n",
    "\n",
    "xgb_GS_pred_train = xgb_GS.predict(train_x_test)\n",
    "xgb_GS_pred_train_reversed = reverse_log_price(xgb_GS_pred_train)\n",
    "MAE_xgb_GS_train = mean_absolute_error(train_y_test, xgb_GS_pred_train_reversed)\n",
    "print('MAE for splited train data = '+str(np.round(MAE_xgb_GS_train,4)))\n",
    "\n",
    "xgb_GS_pred_test = xgb_GS.predict(test_x)\n",
    "xgb_GS_pred_test_reversed = reverse_log_price(xgb_GS_pred_test)\n",
    "\n",
    "print('used time = '+str(datetime.now()-start_time))"
   ]
  },
  {
   "cell_type": "code",
   "execution_count": 22,
   "metadata": {},
   "outputs": [
    {
     "data": {
      "text/plain": [
       "<matplotlib.lines.Line2D at 0x202a5f48cf8>"
      ]
     },
     "execution_count": 22,
     "metadata": {},
     "output_type": "execute_result"
    },
    {
     "data": {
      "image/png": "[encoded data removed]",
      "text/plain": [
       "<Figure size 432x288 with 1 Axes>"
      ]
     },
     "metadata": {
      "needs_background": "light"
     },
     "output_type": "display_data"
    }
   ],
   "source": [
    "fig, ax = plt.subplots()\n",
    "ax.scatter(train_y_test, xgb_GS_pred_train_reversed,s=1)\n",
    "ax.title.set_text('XGBoost with GS params - true vs predicted price')\n",
    "ax.set_xlabel('true price')\n",
    "ax.set_ylabel('predicted price')\n",
    "ax.set_xlim(-5000,100000)\n",
    "ax.set_ylim(-5000,100000)\n",
    "\n",
    "line = matplotlib.lines.Line2D([-5000,100000], [-5000,100000], color='red', ls='-.',lw=0.5)\n",
    "ax.add_line(line)"
   ]
  },
  {
   "cell_type": "markdown",
   "metadata": {},
   "source": [
    "以上得到三個模型在訓練集的 MAE 分別為 647.02(RF)、665.96(XGB_common)、624.17(XGB_GS)。  \n",
    "且從預測值和真實值的散點圖來看，相比先前price未做log轉換的線性回歸，整體點分布更集中在紅線附近，也就是預測更為準確。  "
   ]
  },
  {
   "cell_type": "markdown",
   "metadata": {},
   "source": [
    "接著需將預測結果轉為競賽要求的格式再行上傳，競賽要求格式如下："
   ]
  },
  {
   "cell_type": "code",
   "execution_count": 69,
   "metadata": {},
   "outputs": [
    {
     "data": {
      "text/html": [
       "<div>\n",
       "<style scoped>\n",
       "    .dataframe tbody tr th:only-of-type {\n",
       "        vertical-align: middle;\n",
       "    }\n",
       "\n",
       "    .dataframe tbody tr th {\n",
       "        vertical-align: top;\n",
       "    }\n",
       "\n",
       "    .dataframe thead th {\n",
       "        text-align: right;\n",
       "    }\n",
       "</style>\n",
       "<table border=\"1\" class=\"dataframe\">\n",
       "  <thead>\n",
       "    <tr style=\"text-align: right;\">\n",
       "      <th></th>\n",
       "      <th>SaleID</th>\n",
       "      <th>price</th>\n",
       "    </tr>\n",
       "  </thead>\n",
       "  <tbody>\n",
       "    <tr>\n",
       "      <th>0</th>\n",
       "      <td>150000</td>\n",
       "      <td>0</td>\n",
       "    </tr>\n",
       "    <tr>\n",
       "      <th>1</th>\n",
       "      <td>150001</td>\n",
       "      <td>0</td>\n",
       "    </tr>\n",
       "    <tr>\n",
       "      <th>2</th>\n",
       "      <td>150002</td>\n",
       "      <td>0</td>\n",
       "    </tr>\n",
       "    <tr>\n",
       "      <th>3</th>\n",
       "      <td>150003</td>\n",
       "      <td>0</td>\n",
       "    </tr>\n",
       "    <tr>\n",
       "      <th>4</th>\n",
       "      <td>150004</td>\n",
       "      <td>0</td>\n",
       "    </tr>\n",
       "  </tbody>\n",
       "</table>\n",
       "</div>"
      ],
      "text/plain": [
       "   SaleID  price\n",
       "0  150000      0\n",
       "1  150001      0\n",
       "2  150002      0\n",
       "3  150003      0\n",
       "4  150004      0"
      ]
     },
     "execution_count": 69,
     "metadata": {},
     "output_type": "execute_result"
    }
   ],
   "source": [
    "submit_sample = pd.read_csv('./raw_data/used_car_sample_submit.csv')\n",
    "submit_sample.head()"
   ]
  },
  {
   "cell_type": "markdown",
   "metadata": {},
   "source": [
    "目前模型預測結果格式如下："
   ]
  },
  {
   "cell_type": "code",
   "execution_count": 23,
   "metadata": {},
   "outputs": [
    {
     "data": {
      "text/plain": [
       "array([31927.97174968,   352.26728757,  6433.3270456 , ...,\n",
       "        7763.92209872,  9203.01979868,  3391.19986377])"
      ]
     },
     "execution_count": 23,
     "metadata": {},
     "output_type": "execute_result"
    }
   ],
   "source": [
    "RF_pred_test_reversed"
   ]
  },
  {
   "cell_type": "markdown",
   "metadata": {},
   "source": [
    "用下面函數將預測結果轉為競賽要求格式："
   ]
  },
  {
   "cell_type": "code",
   "execution_count": 24,
   "metadata": {},
   "outputs": [],
   "source": [
    "def transform_pred_to_submit(pred_price_array, SaleID_Series):\n",
    "    pred_price = pd.Series(pred_price_array)\n",
    "    df = pd.concat([SaleID_Series, pred_price],axis=1,ignore_index=True)\n",
    "    df.columns=['SaleID','price']\n",
    "    return df"
   ]
  },
  {
   "cell_type": "code",
   "execution_count": 25,
   "metadata": {},
   "outputs": [],
   "source": [
    "SaleID_Series_test = pd.Series(list(test_x.index))"
   ]
  },
  {
   "cell_type": "code",
   "execution_count": 26,
   "metadata": {},
   "outputs": [
    {
     "data": {
      "text/html": [
       "<div>\n",
       "<style scoped>\n",
       "    .dataframe tbody tr th:only-of-type {\n",
       "        vertical-align: middle;\n",
       "    }\n",
       "\n",
       "    .dataframe tbody tr th {\n",
       "        vertical-align: top;\n",
       "    }\n",
       "\n",
       "    .dataframe thead th {\n",
       "        text-align: right;\n",
       "    }\n",
       "</style>\n",
       "<table border=\"1\" class=\"dataframe\">\n",
       "  <thead>\n",
       "    <tr style=\"text-align: right;\">\n",
       "      <th></th>\n",
       "      <th>SaleID</th>\n",
       "      <th>price</th>\n",
       "    </tr>\n",
       "  </thead>\n",
       "  <tbody>\n",
       "    <tr>\n",
       "      <th>0</th>\n",
       "      <td>150000</td>\n",
       "      <td>31927.971750</td>\n",
       "    </tr>\n",
       "    <tr>\n",
       "      <th>1</th>\n",
       "      <td>150001</td>\n",
       "      <td>352.267288</td>\n",
       "    </tr>\n",
       "    <tr>\n",
       "      <th>2</th>\n",
       "      <td>150002</td>\n",
       "      <td>6433.327046</td>\n",
       "    </tr>\n",
       "    <tr>\n",
       "      <th>3</th>\n",
       "      <td>150003</td>\n",
       "      <td>11768.682098</td>\n",
       "    </tr>\n",
       "    <tr>\n",
       "      <th>4</th>\n",
       "      <td>150004</td>\n",
       "      <td>617.961450</td>\n",
       "    </tr>\n",
       "  </tbody>\n",
       "</table>\n",
       "</div>"
      ],
      "text/plain": [
       "   SaleID         price\n",
       "0  150000  31927.971750\n",
       "1  150001    352.267288\n",
       "2  150002   6433.327046\n",
       "3  150003  11768.682098\n",
       "4  150004    617.961450"
      ]
     },
     "execution_count": 26,
     "metadata": {},
     "output_type": "execute_result"
    }
   ],
   "source": [
    "RF_submit = transform_pred_to_submit(RF_pred_test_reversed, SaleID_Series_test)\n",
    "RF_submit.head()"
   ]
  },
  {
   "cell_type": "markdown",
   "metadata": {},
   "source": [
    "由上面切片結果可見格式已轉為競賽要求。  \n",
    "接著儲存結果並對另外兩個模型結果做同樣轉換："
   ]
  },
  {
   "cell_type": "code",
   "execution_count": 30,
   "metadata": {},
   "outputs": [],
   "source": [
    "RF_submit.to_csv('./submits/RF_submit_1.csv',index=False)\n",
    "\n",
    "xgb_common_submit = transform_pred_to_submit(xgb_common_pred_test_reversed, SaleID_Series_test)\n",
    "xgb_common_submit.to_csv('./submits/xgb_common_submit_1.csv',index=False)\n",
    "\n",
    "xgb_GS_submit = transform_pred_to_submit(xgb_GS_pred_test_reversed, SaleID_Series_test)\n",
    "xgb_GS_submit.to_csv('./submits/xgb_GS_submit_1.csv',index=False)"
   ]
  },
  {
   "cell_type": "markdown",
   "metadata": {},
   "source": [
    "儲存訓練集拆分出的測試集的預測結果，作後續模型融合用："
   ]
  },
  {
   "cell_type": "code",
   "execution_count": 31,
   "metadata": {},
   "outputs": [],
   "source": [
    "SaleID_Series_train = pd.Series(list(train_x_test.index))\n",
    "\n",
    "RF_train_pred = transform_pred_to_submit(RF_pred_train_reversed, SaleID_Series_train)\n",
    "RF_train_pred.to_csv('./pred_result/RF_train_pred_1.csv',index=False)\n",
    "\n",
    "xgb_common_train_pred = transform_pred_to_submit(xgb_common_pred_train_reversed, SaleID_Series_train)\n",
    "xgb_common_train_pred.to_csv('./pred_result/xgb_common_train_pred_1.csv',index=False)\n",
    "\n",
    "xgb_GS_train_pred = transform_pred_to_submit(xgb_GS_pred_train_reversed, SaleID_Series_train)\n",
    "xgb_GS_train_pred.to_csv('./pred_result/xgb_GS_train_pred_1.csv',index=False)"
   ]
  },
  {
   "cell_type": "markdown",
   "metadata": {},
   "source": [
    "同時也儲存訓練集拆分出的測試集的price真實值，方便模型融合後結果檢視："
   ]
  },
  {
   "cell_type": "code",
   "execution_count": 38,
   "metadata": {},
   "outputs": [],
   "source": [
    "pd.DataFrame(train_y_test).to_csv('./pred_result/train_y_test_1.csv')"
   ]
  },
  {
   "cell_type": "markdown",
   "metadata": {},
   "source": [
    "### 測試集 MAE 結果"
   ]
  },
  {
   "cell_type": "markdown",
   "metadata": {},
   "source": [
    "||隨機森林|XGB_common|XGB_GS|\n",
    "|---|---|---|---|\n",
    "|訓練集 MAE|647.02|665.96|624.17|\n",
    "|測試集 MAE|630.31||613.27|"
   ]
  },
  {
   "cell_type": "markdown",
   "metadata": {},
   "source": [
    "由上面結果可知，測試集和訓練集MAE差異並不顯著，推測沒有過擬合問題。"
   ]
  }
 ],
 "metadata": {
  "kernelspec": {
   "display_name": "Python 3",
   "language": "python",
   "name": "python3"
  },
  "language_info": {
   "codemirror_mode": {
    "name": "ipython",
    "version": 3
   },
   "file_extension": ".py",
   "mimetype": "text/x-python",
   "name": "python",
   "nbconvert_exporter": "python",
   "pygments_lexer": "ipython3",
   "version": "3.7.0"
  }
 },
 "nbformat": 4,
 "nbformat_minor": 4
}
