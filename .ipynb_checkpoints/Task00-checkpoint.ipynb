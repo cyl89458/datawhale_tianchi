{
 "cells": [
  {
   "cell_type": "markdown",
   "metadata": {},
   "source": [
    "# Task00 - 了解學習框架流程"
   ]
  },
  {
   "cell_type": "markdown",
   "metadata": {},
   "source": [
    "## Task01 - 賽題理解  \n",
    "### 目標：\n",
    "了解賽題目標、數據集、預測目標\n",
    "### 內容：\n",
    "熟悉數據集字段內容、大小"
   ]
  },
  {
   "cell_type": "markdown",
   "metadata": {},
   "source": [
    "## Task02 - 數據分析 EDA  \n",
    "### 目標：\n",
    "1.初步分析變量間、變量和預測目標間相互關係  \n",
    "2.將初步分析結果以圖表展現總結  \n",
    "3.有助於後續特徵工程參考\n",
    "### 內容：\n",
    "1.總覽數據概況  \n",
    "2.評估數據缺失及異常問題  \n",
    "3.了解預測值分布  \n",
    "4.了解特徵類型及分布  \n",
    "5.初步特徵分析  \n",
    "6.可視化  \n",
    "7.用pandas_profiling生成數據報告"
   ]
  },
  {
   "cell_type": "markdown",
   "metadata": {},
   "source": [
    "## Task03 - 特徵工程  \n",
    "### 目標：\n",
    "進一步特徵分析及數據預處理\n",
    "### 內容：\n",
    "1.數據缺失異常問題處理  \n",
    "2.特徵構建  \n",
    "3.特徵篩選"
   ]
  },
  {
   "cell_type": "markdown",
   "metadata": {},
   "source": [
    "## Task04 - 建模調參  \n",
    "### 目標：\n",
    "掌握常用機器學習建模及調參流程\n",
    "### 內容：\n",
    "1.模型：線性回歸、決策樹、GBDT、XGBoost、LightGBM 模型  \n",
    "2.模型結果對比、調參"
   ]
  },
  {
   "cell_type": "markdown",
   "metadata": {},
   "source": [
    "## Task05 - 模型融合  \n",
    "### 目標：\n",
    "對多種調參完成的模型進行融合\n",
    "### 內容：\n",
    "1.Stacking 相關理論  \n",
    "2.回歸/分類概率融合  \n",
    "3.分類模型融合"
   ]
  }
 ],
 "metadata": {
  "kernelspec": {
   "display_name": "Python 3",
   "language": "python",
   "name": "python3"
  },
  "language_info": {
   "codemirror_mode": {
    "name": "ipython",
    "version": 3
   },
   "file_extension": ".py",
   "mimetype": "text/x-python",
   "name": "python",
   "nbconvert_exporter": "python",
   "pygments_lexer": "ipython3",
   "version": "3.7.0"
  }
 },
 "nbformat": 4,
 "nbformat_minor": 2
}
