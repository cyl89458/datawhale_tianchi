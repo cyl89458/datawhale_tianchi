{
 "cells": [
  {
   "cell_type": "markdown",
   "metadata": {},
   "source": [
    "# Task03 特徵工程"
   ]
  },
  {
   "cell_type": "markdown",
   "metadata": {},
   "source": [
    "## Task03 目標及內容\n",
    "### 目標：\n",
    "進一步特徵分析及數據預處理\n",
    "### 內容：\n",
    "1.缺失異常處理  \n",
    "2.特徵構建  \n",
    "3.特徵篩選\n",
    "\n",
    "### 將目標拆解成以下問題：\n",
    ">Q1：EDA分析出的數據缺失異常如何處理？  \n",
    "Q2：除了缺失和異常處理，是否需要做轉換或分箱等處理？  \n",
    "Q3：如何挑選出一組具預測能力但信息不重複的特徵組合？"
   ]
  },
  {
   "cell_type": "markdown",
   "metadata": {},
   "source": [
    "## O、Task02 EDA結果"
   ]
  },
  {
   "cell_type": "markdown",
   "metadata": {},
   "source": [
    "**變量類型、缺失值、異常值、分布狀況**"
   ]
  },
  {
   "cell_type": "markdown",
   "metadata": {},
   "source": [
    "| no | 字段名 | 描述 | 變量類型 | 缺失占比<br>(訓練,測試) | 缺失處理 | 異常值 | 分布 |\n",
    "|---|:---|:---|:---|:---|:---|:---|:---|\n",
    "| 01 | SaleID | 交易ID | 編碼 |||||\n",
    "| 02 | name | 汽車交易名稱 | 編碼 |||| 數值較小部分汽車數量較多 |\n",
    "| 03 | regDate | 汽車註冊日期 | 日期 ||| 月份有8%為0 | 日期只有1-12 |\n",
    "| 04 | model | 車型編碼 | 編碼 | (~0%, 無) | 訓練集1筆缺失剔除 || 數值較小部分汽車數量較多 |\n",
    "| 05 | brand | 汽車品牌 | 類別 |||| 數值較小部分汽車數量較多 |\n",
    "| 06 | bodyType | 車身類型 | 類別 | (3%, 2.8%) | 需再分析處理 || 各類占比符合常識中各類車輛的普遍性 |\n",
    "| 07 | fuelType | 燃油類型 | 類別 | (5.8%, 5.8%) | 需再分析處理 || 各類占比符合常識中各種燃油車輛的普遍性 |\n",
    "| 08 | gearbox | 變速箱 | 類別 (01) | (4%, 3.8%) | 需再分析處理 || 大部分駕駛偏好手動？<br>是否影響自動車輛市場價格？ |\n",
    "| 09 | power | 發動機功率 | 數值 ||| 約0.1%數據>600為異常值；<br>power=0或太小雖符合字段描述，但實際上並不合理，需再分析處理| 有極大離群值初步判斷為特殊車輛，需再分析 |\n",
    "| 10 | kilometer | 已行駛公里(萬km) | 數值 ||| 公里數是否有合理需結合車齡進一步判斷 | 並非連續變量，應為分箱選項；<br>大部分>13w，最大值15w因為是分箱數據，所以極可能有大部分>15w |\n",
    "| 11 | notRepairedDamage | 有尚未修復的損壞 | 類別 (01) | (16%, 16%)<sup>***註1***</sup> | 需再分析處理 || 大多有尚未修復損壞，可考慮和車齡或公里數結合判斷車況 |\n",
    "| 12 | regionCode | 地區編碼 | 編碼 |||| 數值較小部分汽車數量相對較多 |\n",
    "| 13 | seller | 銷售方 | 類別 (01) |||| 幾乎全部為個體賣家，僅訓練集中有1筆非個體賣家數據，不宜作為特徵 |\n",
    "| 14 | offerType | 報價類型 | 類別 (01) |||||\n",
    "| 15 | creatDate | 上線時間 | 日期 |||| 年份2016占絕大多數，不宜作為特徵；<br>月份大部分在3月，其次4月，分布過於不平衡。 |\n",
    "| 16 | price | 二手車交易價格（預測目標）| 數值 |||| 價格分布偏低，初步推測經過對數轉換或其他預處理。<br>有很多極大離群值，可再挖掘這些離群值是否有共通點。 |\n",
    "| 17-31 | v_0-v_14 | 匿名特徵 | 數值 ||| v_14 訓練集中有1個明顯極大離群值需剔除 | 許多v系列特徵有分段聚集的現象，需再分析 |"
   ]
  },
  {
   "cell_type": "markdown",
   "metadata": {},
   "source": [
    "***註1*** 缺失部分以字符串'-'表示，故數字部分也以字符串形式讀取。 因此缺失的'-'部分需替換為空值，並將整個字段轉為float形式。"
   ]
  },
  {
   "cell_type": "markdown",
   "metadata": {},
   "source": [
    "**相關性分析**"
   ]
  },
  {
   "cell_type": "markdown",
   "metadata": {},
   "source": [
    ">**變量 vs price**  \n",
    "1.數值變量：和v_3相關性高；且與許多v特徵高度相關，但關係在v特徵不同區段有所不同（可以考慮對 v 特徵進行分箱處理）。  \n",
    "2.類別變量：除了seller和offerType因分布不均衡無法判斷，其他類別變量皆有部分類別總體價格偏高的現象  \n",
    "\n",
    ">**變量間**   \n",
    "1.數值變量：v系列特徵間相關性偏高，可考慮降維處理"
   ]
  },
  {
   "cell_type": "code",
   "execution_count": 1,
   "metadata": {},
   "outputs": [],
   "source": [
    "import pandas as pd\n",
    "import numpy as np\n",
    "import matplotlib.pyplot as plt\n",
    "import seaborn as sns\n",
    "pd.set_option('display.max_columns',None)\n",
    "pd.set_option('display.max_rows',None)\n",
    "import warnings\n",
    "warnings.filterwarnings(\"ignore\")"
   ]
  },
  {
   "cell_type": "code",
   "execution_count": 2,
   "metadata": {},
   "outputs": [],
   "source": [
    "train = pd.read_csv('./raw_data/used_car_train_20200313.csv', sep=' ')\n",
    "test = pd.read_csv('./raw_data/used_car_testA_20200313.csv', sep=' ')"
   ]
  },
  {
   "cell_type": "markdown",
   "metadata": {},
   "source": [
    "## 一、缺失值處理"
   ]
  },
  {
   "cell_type": "markdown",
   "metadata": {},
   "source": [
    ">**思路**  \n",
    "若缺失數據量極少，則直接剔除缺失數據。  \n",
    "若缺失數據量過多（占大多數），則直接剔除此變量。  \n",
    "若缺失數據不占多數（仍能提供有效信息），則做補全。\n",
    ">>補全方法包括：該變量中位數、均值、眾數，建模預測...  \n",
    "\n",
    ">需注意有時候不需要處理：  \n",
    "1. 使用XGBoost等決策樹模型\n",
    "2. 缺失狀況傳達某種信息(例如:賣家填寫車輛信息時，負面車況相關的選項若非必填，則賣家有誘因不填寫)，故此缺失可視為一種類別"
   ]
  },
  {
   "cell_type": "markdown",
   "metadata": {},
   "source": [
    ">**需處理變量**  \n",
    "1. model：訓練集1筆缺失剔除\n",
    "2. bodyType：缺失3%\n",
    "3. fuelType：缺失6%\n",
    "4. gearbox：缺失4%\n",
    "5. notRepairedDamage：缺失16%"
   ]
  },
  {
   "cell_type": "markdown",
   "metadata": {},
   "source": [
    "### 1. model\n",
    "訓練集1筆缺失剔除"
   ]
  },
  {
   "cell_type": "code",
   "execution_count": 3,
   "metadata": {},
   "outputs": [
    {
     "name": "stdout",
     "output_type": "stream",
     "text": [
      "train data before null model preprocessing = 150000\n",
      "Remove rows with missing model...\n",
      "train data after null model preprocessing = 149999\n"
     ]
    }
   ],
   "source": [
    "print('train data before null model preprocessing = {}'.format(train.shape[0]))\n",
    "\n",
    "print('Remove rows with missing model...')\n",
    "train_null_m = train.dropna(subset=['model'])\n",
    "\n",
    "print('train data after null model preprocessing = {}'.format(train_null_m.shape[0]))"
   ]
  },
  {
   "cell_type": "markdown",
   "metadata": {},
   "source": [
    "### 2-4. bodyType, fuelType, gearbox\n",
    "這三個變量占比並不是特別高，因此暫時先以眾數補全，後續模型若顯示這三個變量預測能力強，再考慮其他較精確但複雜的方式做補全。"
   ]
  },
  {
   "cell_type": "code",
   "execution_count": 4,
   "metadata": {},
   "outputs": [
    {
     "name": "stdout",
     "output_type": "stream",
     "text": [
      "count train data null bodyType before = 4506\n",
      "count train data null bodyType after = 0\n"
     ]
    }
   ],
   "source": [
    "train_null_b = train_null_m.copy()\n",
    "print('count train data null bodyType before = {}'.format(train_null_b.bodyType.isnull().sum()))\n",
    "train_null_b['bodyType'] = train_null_b['bodyType'].fillna(train_null_b.dropna(subset=['bodyType'])['bodyType'].mode()[0])\n",
    "print('count train data null bodyType after = {}'.format(train_null_b.bodyType.isnull().sum()))"
   ]
  },
  {
   "cell_type": "code",
   "execution_count": 5,
   "metadata": {
    "scrolled": true
   },
   "outputs": [
    {
     "name": "stdout",
     "output_type": "stream",
     "text": [
      "count train data null fuelType before = 8680\n",
      "count train data null fuelType after = 0\n"
     ]
    }
   ],
   "source": [
    "train_null_f = train_null_b.copy()\n",
    "print('count train data null fuelType before = {}'.format(train_null_f.fuelType.isnull().sum()))\n",
    "train_null_f['fuelType'] = train_null_f['fuelType'].fillna(train_null_f.dropna(subset=['fuelType'])['fuelType'].mode()[0])\n",
    "print('count train data null fuelType after = {}'.format(train_null_f.fuelType.isnull().sum()))"
   ]
  },
  {
   "cell_type": "code",
   "execution_count": 6,
   "metadata": {},
   "outputs": [
    {
     "name": "stdout",
     "output_type": "stream",
     "text": [
      "count train data null gearbox before = 5981\n",
      "count train data null gearbox after = 0\n"
     ]
    }
   ],
   "source": [
    "train_null_g = train_null_f.copy()\n",
    "print('count train data null gearbox before = {}'.format(train_null_g.gearbox.isnull().sum()))\n",
    "train_null_g['gearbox'] = train_null_g['gearbox'].fillna(train_null_g.dropna(subset=['gearbox'])['gearbox'].mode()[0])\n",
    "print('count train data null gearbox after = {}'.format(train_null_g.gearbox.isnull().sum()))"
   ]
  },
  {
   "cell_type": "markdown",
   "metadata": {},
   "source": [
    "### 5. notRepairedDamage"
   ]
  },
  {
   "cell_type": "markdown",
   "metadata": {},
   "source": [
    "依據 Task02 EDA 結果，此變量缺失的'-'部分需替換為空值，並將整個字段轉為float形式。"
   ]
  },
  {
   "cell_type": "code",
   "execution_count": 7,
   "metadata": {},
   "outputs": [
    {
     "name": "stdout",
     "output_type": "stream",
     "text": [
      "train notRepairedDamage missing count = 24324\n"
     ]
    }
   ],
   "source": [
    "train_null_n = train_null_g.copy()\n",
    "train_null_n['notRepairedDamage'] = train_null_n['notRepairedDamage'].apply(lambda x : float(x) if x!='-' else np.nan)\n",
    "print('train notRepairedDamage missing count = {}'.format(train_null_n.notRepairedDamage.isnull().sum()))"
   ]
  },
  {
   "cell_type": "markdown",
   "metadata": {},
   "source": [
    ">\"是否有未修繕的損壞\" 的缺失可能表示**賣家不願透露車況負面信息**，且也可能**影響買家意願**，故不視為缺失，而是作為**第三類別**，即 notRepairedDamage=2，視後續訓練結果決定此方法是否有效。"
   ]
  },
  {
   "cell_type": "code",
   "execution_count": 8,
   "metadata": {},
   "outputs": [
    {
     "name": "stdout",
     "output_type": "stream",
     "text": [
      "train notRepairedDamage missing count = 0\n",
      "train notRepairedDamage==2 count = 24324\n"
     ]
    }
   ],
   "source": [
    "train_null_n['notRepairedDamage'] = train_null_n['notRepairedDamage'].fillna(value=2)\n",
    "train_null_n.notRepairedDamage.isnull().sum()\n",
    "print('train notRepairedDamage missing count = {}'.format(train_null_n.notRepairedDamage.isnull().sum()))\n",
    "print('train notRepairedDamage==2 count = {}'.format((train_null_n.notRepairedDamage==2).sum()))"
   ]
  },
  {
   "cell_type": "markdown",
   "metadata": {},
   "source": [
    "### 缺失值補全結果檢視"
   ]
  },
  {
   "cell_type": "code",
   "execution_count": 9,
   "metadata": {},
   "outputs": [
    {
     "data": {
      "text/plain": [
       "SaleID               0\n",
       "name                 0\n",
       "regDate              0\n",
       "model                0\n",
       "brand                0\n",
       "bodyType             0\n",
       "fuelType             0\n",
       "gearbox              0\n",
       "power                0\n",
       "kilometer            0\n",
       "notRepairedDamage    0\n",
       "regionCode           0\n",
       "seller               0\n",
       "offerType            0\n",
       "creatDate            0\n",
       "price                0\n",
       "v_0                  0\n",
       "v_1                  0\n",
       "v_2                  0\n",
       "v_3                  0\n",
       "v_4                  0\n",
       "v_5                  0\n",
       "v_6                  0\n",
       "v_7                  0\n",
       "v_8                  0\n",
       "v_9                  0\n",
       "v_10                 0\n",
       "v_11                 0\n",
       "v_12                 0\n",
       "v_13                 0\n",
       "v_14                 0\n",
       "dtype: int64"
      ]
     },
     "execution_count": 9,
     "metadata": {},
     "output_type": "execute_result"
    }
   ],
   "source": [
    "train_null_n.isnull().sum()"
   ]
  },
  {
   "cell_type": "markdown",
   "metadata": {},
   "source": [
    "## 二、異常值處理\n",
    ">**需處理變量**  \n",
    "1. regDate\n",
    "2. power\n",
    "3. v_14"
   ]
  },
  {
   "cell_type": "markdown",
   "metadata": {},
   "source": [
    "### 1. regDate\n",
    ">月份有8%為0，但目前特徵構造暫不打算使用到月份，所以先不處理。"
   ]
  },
  {
   "cell_type": "markdown",
   "metadata": {},
   "source": [
    "### 3. power\n",
    ">1) 約0.1%數據>600為異常值；  \n",
    "2) power=0或太小雖符合字段描述，但實際上並不合理，需再分析處理"
   ]
  },
  {
   "cell_type": "code",
   "execution_count": 10,
   "metadata": {},
   "outputs": [],
   "source": [
    "# 1) power>600 部分直接剔除\n",
    "train_null_p = train_null_n[train_null_n.power<=600]"
   ]
  },
  {
   "cell_type": "code",
   "execution_count": 11,
   "metadata": {},
   "outputs": [
    {
     "data": {
      "text/plain": [
       "Text(0, 0.5, 'count')"
      ]
     },
     "execution_count": 11,
     "metadata": {},
     "output_type": "execute_result"
    },
    {
     "data": {
      "image/png": "[encoded data removed]",
      "text/plain": [
       "<Figure size 432x288 with 1 Axes>"
      ]
     },
     "metadata": {
      "needs_background": "light"
     },
     "output_type": "display_data"
    }
   ],
   "source": [
    "# 2) power=0 或太小部分，先檢視分布狀況\n",
    "plt.hist(train_null_p.power,bins=50)\n",
    "plt.title('train power count')\n",
    "plt.xlabel('power')\n",
    "plt.ylabel('count')"
   ]
  },
  {
   "cell_type": "markdown",
   "metadata": {},
   "source": [
    "由上分布圖看到，power=0的部分很多。  \n",
    "統計power=0 部分占了8.6%，根據常識判斷發動機功率不可能為 0，推估可能原因為數據填寫時默認值即為0。  \n",
    "因此這裡的 0 等同於缺失值，且占比較大需做補全。"
   ]
  },
  {
   "cell_type": "markdown",
   "metadata": {},
   "source": [
    "汽車發動機功率和車身類型、燃油類型應該有較高相關性，故以下就power和bodyType, fuelType間關係作分析："
   ]
  },
  {
   "cell_type": "markdown",
   "metadata": {},
   "source": [
    "**fuelType vs power**"
   ]
  },
  {
   "cell_type": "code",
   "execution_count": 12,
   "metadata": {
    "scrolled": true
   },
   "outputs": [
    {
     "data": {
      "image/png": "[encoded data removed]",
      "text/plain": [
       "<Figure size 1152x576 with 8 Axes>"
      ]
     },
     "metadata": {
      "needs_background": "light"
     },
     "output_type": "display_data"
    }
   ],
   "source": [
    "fig, axs = plt.subplots(2, 4, sharex = True, sharey = True, figsize=(16,8))\n",
    "axs = axs.ravel()\n",
    "\n",
    "for ft in range(7):\n",
    "    axs[ft].set_title('fuelType={}'.format(str(ft)))\n",
    "    if train_null_p[(train_null_p.fuelType==ft)&(train_null_p.power>0)].shape[0]!=0:\n",
    "        axs[ft].hist(train_null_p[(train_null_p.fuelType==ft)&(train_null_p.power>0)].power, bins=20, density=True)\n",
    "        axs[ft].set_ylim(0, 0.025)\n",
    "        axs[ft].set_ylabel('power')"
   ]
  },
  {
   "cell_type": "markdown",
   "metadata": {},
   "source": [
    "**bodyType vs power**"
   ]
  },
  {
   "cell_type": "code",
   "execution_count": 13,
   "metadata": {
    "scrolled": false
   },
   "outputs": [
    {
     "data": {
      "image/png": "[encoded data removed]",
      "text/plain": [
       "<Figure size 1152x576 with 8 Axes>"
      ]
     },
     "metadata": {
      "needs_background": "light"
     },
     "output_type": "display_data"
    }
   ],
   "source": [
    "fig, axs = plt.subplots(2, 4, sharex = True, sharey=True, figsize=(16,8))\n",
    "axs = axs.ravel()\n",
    "\n",
    "for bt in range(8):\n",
    "    axs[bt].set_title('bodyType={}'.format(str(bt)))\n",
    "    if train_null_p[(train_null_p.bodyType==bt)&(train_null_p.power>0)].shape[0]!=0:\n",
    "        axs[bt].hist(train_null_p[(train_null_p.bodyType==bt)&(train_null_p.power>0)].power, bins=20, density=True)\n",
    "        axs[bt].set_ylim(0, 0.025)\n",
    "        axs[bt].set_ylabel('power')"
   ]
  },
  {
   "cell_type": "markdown",
   "metadata": {},
   "source": [
    "以上power和fuelType, bodyType關係相比之下，以bodyType為分組時，power有較明顯中間部分突出的分布。  \n",
    "故以bodyType為依據，以bodyType分組後各組power中位數來補全power缺失值。"
   ]
  },
  {
   "cell_type": "code",
   "execution_count": 14,
   "metadata": {},
   "outputs": [],
   "source": [
    "# 計算各組power中位數\n",
    "power_median_grouped_by_bodyType = train_null_p[train_null_p.power>0].groupby('bodyType').agg({'power':'median'}).reset_index()\n",
    "power_median_grouped_by_bodyType.rename(columns={'power':'power_median'},inplace=True)\n",
    "power_median_grouped_by_bodyType.head(10)\n",
    "power_median_grouped_by_bodyType.to_csv('./preprocessing/power_median_grouped_by_bodyType.csv', index=False)"
   ]
  },
  {
   "cell_type": "code",
   "execution_count": 15,
   "metadata": {},
   "outputs": [],
   "source": [
    "# 設定bodyType為index方便補全時查詢\n",
    "power_median_grouped_by_bodyType.set_index(['bodyType'],inplace=True)\n",
    "\n",
    "# 補全 power 缺失部分\n",
    "train_null_p['power'] = train_null_p.apply(lambda x : x.power if x.power!=0 else power_median_grouped_by_bodyType.loc[x.bodyType].power_median, axis=1)"
   ]
  },
  {
   "cell_type": "code",
   "execution_count": 16,
   "metadata": {},
   "outputs": [
    {
     "data": {
      "text/plain": [
       "Text(0, 0.5, 'count')"
      ]
     },
     "execution_count": 16,
     "metadata": {},
     "output_type": "execute_result"
    },
    {
     "data": {
      "image/png": "[encoded data removed]",
      "text/plain": [
       "<Figure size 432x288 with 1 Axes>"
      ]
     },
     "metadata": {
      "needs_background": "light"
     },
     "output_type": "display_data"
    }
   ],
   "source": [
    "# 檢視power=0部分補全結果\n",
    "plt.hist(train_null_p.power,bins=50)\n",
    "plt.title('train power count')\n",
    "plt.xlabel('power')\n",
    "plt.ylabel('count')"
   ]
  },
  {
   "cell_type": "markdown",
   "metadata": {},
   "source": [
    "### 3. v_14"
   ]
  },
  {
   "cell_type": "markdown",
   "metadata": {},
   "source": [
    "Task02 EDA 箱形圖可以看出訓練集有一個v_14極大異常值需剔除。  \n",
    "先檢視先前的預處理步驟是否已經剔除此異常值？"
   ]
  },
  {
   "cell_type": "code",
   "execution_count": 17,
   "metadata": {},
   "outputs": [
    {
     "data": {
      "text/plain": [
       "Text(0, 0.5, 'v_14')"
      ]
     },
     "execution_count": 17,
     "metadata": {},
     "output_type": "execute_result"
    },
    {
     "data": {
      "image/png": "[encoded data removed]",
      "text/plain": [
       "<Figure size 432x288 with 1 Axes>"
      ]
     },
     "metadata": {
      "needs_background": "light"
     },
     "output_type": "display_data"
    }
   ],
   "source": [
    "plt.boxplot(train_null_p.v_14)\n",
    "plt.title('train_null_p')\n",
    "plt.ylabel('v_14')"
   ]
  },
  {
   "cell_type": "markdown",
   "metadata": {},
   "source": [
    "由上圖可看出，異常值已經在之前的預處理步驟中被移除，故這部分不需要再做處理。"
   ]
  },
  {
   "cell_type": "code",
   "execution_count": 18,
   "metadata": {},
   "outputs": [],
   "source": [
    "### 缺失異常處理完畢\n",
    "train_filtered = train_null_p.copy()"
   ]
  },
  {
   "cell_type": "markdown",
   "metadata": {},
   "source": [
    "## 三、特徵構造"
   ]
  },
  {
   "cell_type": "markdown",
   "metadata": {},
   "source": [
    "### 1. 日期變量變換"
   ]
  },
  {
   "cell_type": "markdown",
   "metadata": {},
   "source": [
    "數據集中有regDate和creatDate兩個日期變量，其中regDate月份數據有異常不適合作為特徵，故目前只考慮年份。  \n",
    "日期數據實際數值在這個議題中並沒有太大參考價值，但兩日期變量差值則有參考意義：車齡＝註冊日期-上線日期  \n",
    "（若就長期市場景氣來看，年份應該有一定影響，但數據集中售賣日期只有2015-16且15數據極少，故可忽略此因素）"
   ]
  },
  {
   "cell_type": "markdown",
   "metadata": {},
   "source": [
    ">車齡 = creatDate 年份 - regDate 年份"
   ]
  },
  {
   "cell_type": "code",
   "execution_count": 19,
   "metadata": {},
   "outputs": [],
   "source": [
    "train_filtered['age'] = train_filtered.apply(lambda x : int(str(x.creatDate)[:4])-int(str(x.regDate)[:4]), axis=1)"
   ]
  },
  {
   "cell_type": "code",
   "execution_count": 20,
   "metadata": {},
   "outputs": [
    {
     "data": {
      "text/plain": [
       "count    149856.000000\n",
       "mean         12.641723\n",
       "std           5.362515\n",
       "min           1.000000\n",
       "25%           9.000000\n",
       "50%          13.000000\n",
       "75%          17.000000\n",
       "max          25.000000\n",
       "Name: age, dtype: float64"
      ]
     },
     "execution_count": 20,
     "metadata": {},
     "output_type": "execute_result"
    }
   ],
   "source": [
    "train_filtered.age.describe()"
   ]
  },
  {
   "cell_type": "code",
   "execution_count": 21,
   "metadata": {},
   "outputs": [
    {
     "data": {
      "text/plain": [
       "Text(0, 0.5, 'count')"
      ]
     },
     "execution_count": 21,
     "metadata": {},
     "output_type": "execute_result"
    },
    {
     "data": {
      "image/png": "[encoded data removed]",
      "text/plain": [
       "<Figure size 432x288 with 1 Axes>"
      ]
     },
     "metadata": {
      "needs_background": "light"
     },
     "output_type": "display_data"
    }
   ],
   "source": [
    "plt.hist(train_filtered.age,bins=50)\n",
    "plt.title('train data age count')\n",
    "plt.xlabel('age')\n",
    "plt.ylabel('count')"
   ]
  },
  {
   "cell_type": "markdown",
   "metadata": {},
   "source": [
    "以上車齡數據看來沒有異常問題，分布也無特殊情形。"
   ]
  },
  {
   "cell_type": "markdown",
   "metadata": {},
   "source": [
    "### 2. 分箱"
   ]
  },
  {
   "cell_type": "markdown",
   "metadata": {},
   "source": [
    ">當數值變量數值本身對預測目標沒有太大解釋力，則分箱為有序類別變量能幫助預測。"
   ]
  },
  {
   "cell_type": "markdown",
   "metadata": {},
   "source": [
    "**車齡**  \n",
    "一般而言，買家不會對車齡的絕對數值敏感，而是會將車齡分為幾個階段，直覺上來說，以5年為一個階段是比較常見的，故以5年為一箱。  \n",
    "\n",
    "| age | age_bin |\n",
    "|---|---|\n",
    "| <5 | 0 | \n",
    "| 5-9 | 1 |\n",
    "| 10-14 | 2 |  \n",
    "| ... | ... |"
   ]
  },
  {
   "cell_type": "code",
   "execution_count": 22,
   "metadata": {},
   "outputs": [],
   "source": [
    "train_filtered['age_bin'] = train_filtered.age.apply(lambda x : (x-x%5)/5)"
   ]
  },
  {
   "cell_type": "code",
   "execution_count": 23,
   "metadata": {},
   "outputs": [
    {
     "data": {
      "text/html": [
       "<div>\n",
       "<style scoped>\n",
       "    .dataframe tbody tr th:only-of-type {\n",
       "        vertical-align: middle;\n",
       "    }\n",
       "\n",
       "    .dataframe tbody tr th {\n",
       "        vertical-align: top;\n",
       "    }\n",
       "\n",
       "    .dataframe thead th {\n",
       "        text-align: right;\n",
       "    }\n",
       "</style>\n",
       "<table border=\"1\" class=\"dataframe\">\n",
       "  <thead>\n",
       "    <tr style=\"text-align: right;\">\n",
       "      <th></th>\n",
       "      <th>age_bin</th>\n",
       "      <th>cnt</th>\n",
       "    </tr>\n",
       "  </thead>\n",
       "  <tbody>\n",
       "    <tr>\n",
       "      <th>0</th>\n",
       "      <td>2.0</td>\n",
       "      <td>45884</td>\n",
       "    </tr>\n",
       "    <tr>\n",
       "      <th>1</th>\n",
       "      <td>3.0</td>\n",
       "      <td>44161</td>\n",
       "    </tr>\n",
       "    <tr>\n",
       "      <th>2</th>\n",
       "      <td>1.0</td>\n",
       "      <td>34029</td>\n",
       "    </tr>\n",
       "    <tr>\n",
       "      <th>3</th>\n",
       "      <td>4.0</td>\n",
       "      <td>13895</td>\n",
       "    </tr>\n",
       "    <tr>\n",
       "      <th>4</th>\n",
       "      <td>0.0</td>\n",
       "      <td>10672</td>\n",
       "    </tr>\n",
       "    <tr>\n",
       "      <th>5</th>\n",
       "      <td>5.0</td>\n",
       "      <td>1215</td>\n",
       "    </tr>\n",
       "  </tbody>\n",
       "</table>\n",
       "</div>"
      ],
      "text/plain": [
       "   age_bin    cnt\n",
       "0      2.0  45884\n",
       "1      3.0  44161\n",
       "2      1.0  34029\n",
       "3      4.0  13895\n",
       "4      0.0  10672\n",
       "5      5.0   1215"
      ]
     },
     "execution_count": 23,
     "metadata": {},
     "output_type": "execute_result"
    }
   ],
   "source": [
    "age_bin_cnt = pd.DataFrame(train_filtered.age_bin.value_counts())\n",
    "age_bin_cnt.reset_index(inplace=True)\n",
    "age_bin_cnt.rename(columns={'index':'age_bin','age_bin':'cnt'},inplace=True)\n",
    "age_bin_cnt"
   ]
  },
  {
   "cell_type": "code",
   "execution_count": 24,
   "metadata": {},
   "outputs": [
    {
     "data": {
      "text/plain": [
       "Text(0, 0.5, 'count')"
      ]
     },
     "execution_count": 24,
     "metadata": {},
     "output_type": "execute_result"
    },
    {
     "data": {
      "image/png": "[encoded data removed]",
      "text/plain": [
       "<Figure size 576x288 with 2 Axes>"
      ]
     },
     "metadata": {
      "needs_background": "light"
     },
     "output_type": "display_data"
    }
   ],
   "source": [
    "fig, (ax1,ax2) = plt.subplots(1, 2, sharey=True, figsize=(8,4))\n",
    "\n",
    "ax1.hist(train_filtered.age)\n",
    "ax1.title.set_text('train data age count')\n",
    "ax1.set_xlabel('age')\n",
    "ax1.set_ylabel('count')\n",
    "\n",
    "ax2.bar(age_bin_cnt.age_bin,age_bin_cnt.cnt)\n",
    "ax2.title.set_text('train data age bin count')\n",
    "ax2.set_xlabel('age bin')\n",
    "ax2.set_ylabel('count')"
   ]
  },
  {
   "cell_type": "markdown",
   "metadata": {},
   "source": [
    "### 3. 統計量特徵"
   ]
  },
  {
   "cell_type": "markdown",
   "metadata": {},
   "source": [
    ">以一個類別變量分類，取得各類的某數值變量的統計值。  "
   ]
  },
  {
   "cell_type": "markdown",
   "metadata": {},
   "source": [
    "**price stats grouped by brand**  \n",
    "price在各品牌的統計量"
   ]
  },
  {
   "cell_type": "code",
   "execution_count": 25,
   "metadata": {},
   "outputs": [
    {
     "data": {
      "text/html": [
       "<div>\n",
       "<style scoped>\n",
       "    .dataframe tbody tr th:only-of-type {\n",
       "        vertical-align: middle;\n",
       "    }\n",
       "\n",
       "    .dataframe tbody tr th {\n",
       "        vertical-align: top;\n",
       "    }\n",
       "\n",
       "    .dataframe thead th {\n",
       "        text-align: right;\n",
       "    }\n",
       "</style>\n",
       "<table border=\"1\" class=\"dataframe\">\n",
       "  <thead>\n",
       "    <tr style=\"text-align: right;\">\n",
       "      <th></th>\n",
       "      <th>brand</th>\n",
       "      <th>price_brand_gp_median</th>\n",
       "      <th>price_brand_gp_mean</th>\n",
       "      <th>brand_gp_size</th>\n",
       "      <th>price_brand_gp_std</th>\n",
       "      <th>price_brand_gp_max</th>\n",
       "      <th>price_brand_gp_min</th>\n",
       "    </tr>\n",
       "  </thead>\n",
       "  <tbody>\n",
       "    <tr>\n",
       "      <th>0</th>\n",
       "      <td>0</td>\n",
       "      <td>3199.0</td>\n",
       "      <td>5536.738452</td>\n",
       "      <td>31455</td>\n",
       "      <td>6274.063164</td>\n",
       "      <td>68500</td>\n",
       "      <td>13</td>\n",
       "    </tr>\n",
       "    <tr>\n",
       "      <th>1</th>\n",
       "      <td>1</td>\n",
       "      <td>6499.0</td>\n",
       "      <td>9272.585414</td>\n",
       "      <td>13780</td>\n",
       "      <td>9363.917624</td>\n",
       "      <td>99900</td>\n",
       "      <td>15</td>\n",
       "    </tr>\n",
       "    <tr>\n",
       "      <th>2</th>\n",
       "      <td>2</td>\n",
       "      <td>7700.0</td>\n",
       "      <td>12037.822430</td>\n",
       "      <td>321</td>\n",
       "      <td>10875.892891</td>\n",
       "      <td>59800</td>\n",
       "      <td>35</td>\n",
       "    </tr>\n",
       "    <tr>\n",
       "      <th>3</th>\n",
       "      <td>3</td>\n",
       "      <td>4990.0</td>\n",
       "      <td>6482.822430</td>\n",
       "      <td>2461</td>\n",
       "      <td>5396.327503</td>\n",
       "      <td>37500</td>\n",
       "      <td>65</td>\n",
       "    </tr>\n",
       "    <tr>\n",
       "      <th>4</th>\n",
       "      <td>4</td>\n",
       "      <td>6000.0</td>\n",
       "      <td>8538.957297</td>\n",
       "      <td>16720</td>\n",
       "      <td>8460.808379</td>\n",
       "      <td>99999</td>\n",
       "      <td>12</td>\n",
       "    </tr>\n",
       "  </tbody>\n",
       "</table>\n",
       "</div>"
      ],
      "text/plain": [
       "   brand  price_brand_gp_median  price_brand_gp_mean  brand_gp_size  \\\n",
       "0      0                 3199.0          5536.738452          31455   \n",
       "1      1                 6499.0          9272.585414          13780   \n",
       "2      2                 7700.0         12037.822430            321   \n",
       "3      3                 4990.0          6482.822430           2461   \n",
       "4      4                 6000.0          8538.957297          16720   \n",
       "\n",
       "   price_brand_gp_std  price_brand_gp_max  price_brand_gp_min  \n",
       "0         6274.063164               68500                  13  \n",
       "1         9363.917624               99900                  15  \n",
       "2        10875.892891               59800                  35  \n",
       "3         5396.327503               37500                  65  \n",
       "4         8460.808379               99999                  12  "
      ]
     },
     "execution_count": 25,
     "metadata": {},
     "output_type": "execute_result"
    }
   ],
   "source": [
    "price_stats_grouped_by_brand = train_filtered.groupby(['brand'])['price'].agg(['median','mean','size','std','max','min']).reset_index()\n",
    "price_stats_grouped_by_brand.columns = ['brand',\n",
    "                                        'price_brand_gp_median',\n",
    "                                        'price_brand_gp_mean',\n",
    "                                        'brand_gp_size',\n",
    "                                        'price_brand_gp_std',\n",
    "                                        'price_brand_gp_max',\n",
    "                                        'price_brand_gp_min']\n",
    "price_stats_grouped_by_brand.head()"
   ]
  },
  {
   "cell_type": "code",
   "execution_count": 26,
   "metadata": {
    "scrolled": true
   },
   "outputs": [
    {
     "data": {
      "text/html": [
       "<div>\n",
       "<style scoped>\n",
       "    .dataframe tbody tr th:only-of-type {\n",
       "        vertical-align: middle;\n",
       "    }\n",
       "\n",
       "    .dataframe tbody tr th {\n",
       "        vertical-align: top;\n",
       "    }\n",
       "\n",
       "    .dataframe thead th {\n",
       "        text-align: right;\n",
       "    }\n",
       "</style>\n",
       "<table border=\"1\" class=\"dataframe\">\n",
       "  <thead>\n",
       "    <tr style=\"text-align: right;\">\n",
       "      <th></th>\n",
       "      <th>SaleID</th>\n",
       "      <th>name</th>\n",
       "      <th>regDate</th>\n",
       "      <th>model</th>\n",
       "      <th>brand</th>\n",
       "      <th>bodyType</th>\n",
       "      <th>fuelType</th>\n",
       "      <th>gearbox</th>\n",
       "      <th>power</th>\n",
       "      <th>kilometer</th>\n",
       "      <th>notRepairedDamage</th>\n",
       "      <th>regionCode</th>\n",
       "      <th>seller</th>\n",
       "      <th>offerType</th>\n",
       "      <th>creatDate</th>\n",
       "      <th>price</th>\n",
       "      <th>v_0</th>\n",
       "      <th>v_1</th>\n",
       "      <th>v_2</th>\n",
       "      <th>v_3</th>\n",
       "      <th>v_4</th>\n",
       "      <th>v_5</th>\n",
       "      <th>v_6</th>\n",
       "      <th>v_7</th>\n",
       "      <th>v_8</th>\n",
       "      <th>v_9</th>\n",
       "      <th>v_10</th>\n",
       "      <th>v_11</th>\n",
       "      <th>v_12</th>\n",
       "      <th>v_13</th>\n",
       "      <th>v_14</th>\n",
       "      <th>age</th>\n",
       "      <th>age_bin</th>\n",
       "      <th>price_brand_gp_median</th>\n",
       "      <th>price_brand_gp_mean</th>\n",
       "      <th>brand_gp_size</th>\n",
       "      <th>price_brand_gp_std</th>\n",
       "      <th>price_brand_gp_max</th>\n",
       "      <th>price_brand_gp_min</th>\n",
       "    </tr>\n",
       "  </thead>\n",
       "  <tbody>\n",
       "    <tr>\n",
       "      <th>0</th>\n",
       "      <td>0</td>\n",
       "      <td>736</td>\n",
       "      <td>20040402</td>\n",
       "      <td>30.0</td>\n",
       "      <td>6</td>\n",
       "      <td>1.0</td>\n",
       "      <td>0.0</td>\n",
       "      <td>0.0</td>\n",
       "      <td>60.0</td>\n",
       "      <td>12.5</td>\n",
       "      <td>0.0</td>\n",
       "      <td>1046</td>\n",
       "      <td>0</td>\n",
       "      <td>0</td>\n",
       "      <td>20160404</td>\n",
       "      <td>1850</td>\n",
       "      <td>43.357796</td>\n",
       "      <td>3.966344</td>\n",
       "      <td>0.050257</td>\n",
       "      <td>2.159744</td>\n",
       "      <td>1.143786</td>\n",
       "      <td>0.235676</td>\n",
       "      <td>0.101988</td>\n",
       "      <td>0.129549</td>\n",
       "      <td>0.022816</td>\n",
       "      <td>0.097462</td>\n",
       "      <td>-2.881803</td>\n",
       "      <td>2.804097</td>\n",
       "      <td>-2.420821</td>\n",
       "      <td>0.795292</td>\n",
       "      <td>0.914762</td>\n",
       "      <td>12</td>\n",
       "      <td>2.0</td>\n",
       "      <td>1800.0</td>\n",
       "      <td>3607.928375</td>\n",
       "      <td>10206</td>\n",
       "      <td>4650.025544</td>\n",
       "      <td>40950</td>\n",
       "      <td>13</td>\n",
       "    </tr>\n",
       "    <tr>\n",
       "      <th>1</th>\n",
       "      <td>1</td>\n",
       "      <td>2262</td>\n",
       "      <td>20030301</td>\n",
       "      <td>40.0</td>\n",
       "      <td>1</td>\n",
       "      <td>2.0</td>\n",
       "      <td>0.0</td>\n",
       "      <td>0.0</td>\n",
       "      <td>140.0</td>\n",
       "      <td>15.0</td>\n",
       "      <td>2.0</td>\n",
       "      <td>4366</td>\n",
       "      <td>0</td>\n",
       "      <td>0</td>\n",
       "      <td>20160309</td>\n",
       "      <td>3600</td>\n",
       "      <td>45.305273</td>\n",
       "      <td>5.236112</td>\n",
       "      <td>0.137925</td>\n",
       "      <td>1.380657</td>\n",
       "      <td>-1.422165</td>\n",
       "      <td>0.264777</td>\n",
       "      <td>0.121004</td>\n",
       "      <td>0.135731</td>\n",
       "      <td>0.026597</td>\n",
       "      <td>0.020582</td>\n",
       "      <td>-4.900482</td>\n",
       "      <td>2.096338</td>\n",
       "      <td>-1.030483</td>\n",
       "      <td>-1.722674</td>\n",
       "      <td>0.245522</td>\n",
       "      <td>13</td>\n",
       "      <td>2.0</td>\n",
       "      <td>6499.0</td>\n",
       "      <td>9272.585414</td>\n",
       "      <td>13780</td>\n",
       "      <td>9363.917624</td>\n",
       "      <td>99900</td>\n",
       "      <td>15</td>\n",
       "    </tr>\n",
       "    <tr>\n",
       "      <th>2</th>\n",
       "      <td>2</td>\n",
       "      <td>14874</td>\n",
       "      <td>20040403</td>\n",
       "      <td>115.0</td>\n",
       "      <td>15</td>\n",
       "      <td>1.0</td>\n",
       "      <td>0.0</td>\n",
       "      <td>0.0</td>\n",
       "      <td>163.0</td>\n",
       "      <td>12.5</td>\n",
       "      <td>0.0</td>\n",
       "      <td>2806</td>\n",
       "      <td>0</td>\n",
       "      <td>0</td>\n",
       "      <td>20160402</td>\n",
       "      <td>6222</td>\n",
       "      <td>45.978359</td>\n",
       "      <td>4.823792</td>\n",
       "      <td>1.319524</td>\n",
       "      <td>-0.998467</td>\n",
       "      <td>-0.996911</td>\n",
       "      <td>0.251410</td>\n",
       "      <td>0.114912</td>\n",
       "      <td>0.165147</td>\n",
       "      <td>0.062173</td>\n",
       "      <td>0.027075</td>\n",
       "      <td>-4.846749</td>\n",
       "      <td>1.803559</td>\n",
       "      <td>1.565330</td>\n",
       "      <td>-0.832687</td>\n",
       "      <td>-0.229963</td>\n",
       "      <td>12</td>\n",
       "      <td>2.0</td>\n",
       "      <td>8500.0</td>\n",
       "      <td>9858.582990</td>\n",
       "      <td>1458</td>\n",
       "      <td>5425.058140</td>\n",
       "      <td>45000</td>\n",
       "      <td>100</td>\n",
       "    </tr>\n",
       "    <tr>\n",
       "      <th>3</th>\n",
       "      <td>3</td>\n",
       "      <td>71865</td>\n",
       "      <td>19960908</td>\n",
       "      <td>109.0</td>\n",
       "      <td>10</td>\n",
       "      <td>0.0</td>\n",
       "      <td>0.0</td>\n",
       "      <td>1.0</td>\n",
       "      <td>193.0</td>\n",
       "      <td>15.0</td>\n",
       "      <td>0.0</td>\n",
       "      <td>434</td>\n",
       "      <td>0</td>\n",
       "      <td>0</td>\n",
       "      <td>20160312</td>\n",
       "      <td>2400</td>\n",
       "      <td>45.687478</td>\n",
       "      <td>4.492574</td>\n",
       "      <td>-0.050616</td>\n",
       "      <td>0.883600</td>\n",
       "      <td>-2.228079</td>\n",
       "      <td>0.274293</td>\n",
       "      <td>0.110300</td>\n",
       "      <td>0.121964</td>\n",
       "      <td>0.033395</td>\n",
       "      <td>0.000000</td>\n",
       "      <td>-4.509599</td>\n",
       "      <td>1.285940</td>\n",
       "      <td>-0.501868</td>\n",
       "      <td>-2.438353</td>\n",
       "      <td>-0.478699</td>\n",
       "      <td>20</td>\n",
       "      <td>4.0</td>\n",
       "      <td>5400.0</td>\n",
       "      <td>8449.322819</td>\n",
       "      <td>14234</td>\n",
       "      <td>8916.556379</td>\n",
       "      <td>98000</td>\n",
       "      <td>15</td>\n",
       "    </tr>\n",
       "    <tr>\n",
       "      <th>4</th>\n",
       "      <td>4</td>\n",
       "      <td>111080</td>\n",
       "      <td>20120103</td>\n",
       "      <td>110.0</td>\n",
       "      <td>5</td>\n",
       "      <td>1.0</td>\n",
       "      <td>0.0</td>\n",
       "      <td>0.0</td>\n",
       "      <td>68.0</td>\n",
       "      <td>5.0</td>\n",
       "      <td>0.0</td>\n",
       "      <td>6977</td>\n",
       "      <td>0</td>\n",
       "      <td>0</td>\n",
       "      <td>20160313</td>\n",
       "      <td>5200</td>\n",
       "      <td>44.383511</td>\n",
       "      <td>2.031433</td>\n",
       "      <td>0.572169</td>\n",
       "      <td>-1.571239</td>\n",
       "      <td>2.246088</td>\n",
       "      <td>0.228036</td>\n",
       "      <td>0.073205</td>\n",
       "      <td>0.091880</td>\n",
       "      <td>0.078819</td>\n",
       "      <td>0.121534</td>\n",
       "      <td>-1.896240</td>\n",
       "      <td>0.910783</td>\n",
       "      <td>0.931110</td>\n",
       "      <td>2.834518</td>\n",
       "      <td>1.923482</td>\n",
       "      <td>4</td>\n",
       "      <td>0.0</td>\n",
       "      <td>2300.0</td>\n",
       "      <td>3306.375375</td>\n",
       "      <td>4662</td>\n",
       "      <td>3344.689763</td>\n",
       "      <td>31500</td>\n",
       "      <td>20</td>\n",
       "    </tr>\n",
       "  </tbody>\n",
       "</table>\n",
       "</div>"
      ],
      "text/plain": [
       "   SaleID    name   regDate  model  brand  bodyType  fuelType  gearbox  power  \\\n",
       "0       0     736  20040402   30.0      6       1.0       0.0      0.0   60.0   \n",
       "1       1    2262  20030301   40.0      1       2.0       0.0      0.0  140.0   \n",
       "2       2   14874  20040403  115.0     15       1.0       0.0      0.0  163.0   \n",
       "3       3   71865  19960908  109.0     10       0.0       0.0      1.0  193.0   \n",
       "4       4  111080  20120103  110.0      5       1.0       0.0      0.0   68.0   \n",
       "\n",
       "   kilometer  notRepairedDamage  regionCode  seller  offerType  creatDate  \\\n",
       "0       12.5                0.0        1046       0          0   20160404   \n",
       "1       15.0                2.0        4366       0          0   20160309   \n",
       "2       12.5                0.0        2806       0          0   20160402   \n",
       "3       15.0                0.0         434       0          0   20160312   \n",
       "4        5.0                0.0        6977       0          0   20160313   \n",
       "\n",
       "   price        v_0       v_1       v_2       v_3       v_4       v_5  \\\n",
       "0   1850  43.357796  3.966344  0.050257  2.159744  1.143786  0.235676   \n",
       "1   3600  45.305273  5.236112  0.137925  1.380657 -1.422165  0.264777   \n",
       "2   6222  45.978359  4.823792  1.319524 -0.998467 -0.996911  0.251410   \n",
       "3   2400  45.687478  4.492574 -0.050616  0.883600 -2.228079  0.274293   \n",
       "4   5200  44.383511  2.031433  0.572169 -1.571239  2.246088  0.228036   \n",
       "\n",
       "        v_6       v_7       v_8       v_9      v_10      v_11      v_12  \\\n",
       "0  0.101988  0.129549  0.022816  0.097462 -2.881803  2.804097 -2.420821   \n",
       "1  0.121004  0.135731  0.026597  0.020582 -4.900482  2.096338 -1.030483   \n",
       "2  0.114912  0.165147  0.062173  0.027075 -4.846749  1.803559  1.565330   \n",
       "3  0.110300  0.121964  0.033395  0.000000 -4.509599  1.285940 -0.501868   \n",
       "4  0.073205  0.091880  0.078819  0.121534 -1.896240  0.910783  0.931110   \n",
       "\n",
       "       v_13      v_14  age  age_bin  price_brand_gp_median  \\\n",
       "0  0.795292  0.914762   12      2.0                 1800.0   \n",
       "1 -1.722674  0.245522   13      2.0                 6499.0   \n",
       "2 -0.832687 -0.229963   12      2.0                 8500.0   \n",
       "3 -2.438353 -0.478699   20      4.0                 5400.0   \n",
       "4  2.834518  1.923482    4      0.0                 2300.0   \n",
       "\n",
       "   price_brand_gp_mean  brand_gp_size  price_brand_gp_std  price_brand_gp_max  \\\n",
       "0          3607.928375          10206         4650.025544               40950   \n",
       "1          9272.585414          13780         9363.917624               99900   \n",
       "2          9858.582990           1458         5425.058140               45000   \n",
       "3          8449.322819          14234         8916.556379               98000   \n",
       "4          3306.375375           4662         3344.689763               31500   \n",
       "\n",
       "   price_brand_gp_min  \n",
       "0                  13  \n",
       "1                  15  \n",
       "2                 100  \n",
       "3                  15  \n",
       "4                  20  "
      ]
     },
     "execution_count": 26,
     "metadata": {},
     "output_type": "execute_result"
    }
   ],
   "source": [
    "train_filtered = train_filtered.merge(price_stats_grouped_by_brand, on='brand', how='left')\n",
    "train_filtered.head()"
   ]
  },
  {
   "cell_type": "markdown",
   "metadata": {},
   "source": [
    "**price stats grouped by bodyType**  \n",
    "price在各車身類型的統計量"
   ]
  },
  {
   "cell_type": "code",
   "execution_count": 27,
   "metadata": {
    "scrolled": true
   },
   "outputs": [
    {
     "data": {
      "text/html": [
       "<div>\n",
       "<style scoped>\n",
       "    .dataframe tbody tr th:only-of-type {\n",
       "        vertical-align: middle;\n",
       "    }\n",
       "\n",
       "    .dataframe tbody tr th {\n",
       "        vertical-align: top;\n",
       "    }\n",
       "\n",
       "    .dataframe thead th {\n",
       "        text-align: right;\n",
       "    }\n",
       "</style>\n",
       "<table border=\"1\" class=\"dataframe\">\n",
       "  <thead>\n",
       "    <tr style=\"text-align: right;\">\n",
       "      <th></th>\n",
       "      <th>bodyType</th>\n",
       "      <th>price_bodyType_gp_median</th>\n",
       "      <th>price_bodyType_gp_mean</th>\n",
       "      <th>bodyType_gp_size</th>\n",
       "      <th>price_bodyType_gp_std</th>\n",
       "      <th>price_bodyType_gp_max</th>\n",
       "      <th>price_bodyType_gp_min</th>\n",
       "    </tr>\n",
       "  </thead>\n",
       "  <tbody>\n",
       "    <tr>\n",
       "      <th>0</th>\n",
       "      <td>0.0</td>\n",
       "      <td>3000</td>\n",
       "      <td>5684.936548</td>\n",
       "      <td>45877</td>\n",
       "      <td>6884.557748</td>\n",
       "      <td>99999</td>\n",
       "      <td>11</td>\n",
       "    </tr>\n",
       "    <tr>\n",
       "      <th>1</th>\n",
       "      <td>1.0</td>\n",
       "      <td>1600</td>\n",
       "      <td>2790.191765</td>\n",
       "      <td>35241</td>\n",
       "      <td>3159.663046</td>\n",
       "      <td>99999</td>\n",
       "      <td>12</td>\n",
       "    </tr>\n",
       "    <tr>\n",
       "      <th>2</th>\n",
       "      <td>2.0</td>\n",
       "      <td>3500</td>\n",
       "      <td>5820.259655</td>\n",
       "      <td>30294</td>\n",
       "      <td>6320.798831</td>\n",
       "      <td>69900</td>\n",
       "      <td>15</td>\n",
       "    </tr>\n",
       "    <tr>\n",
       "      <th>3</th>\n",
       "      <td>3.0</td>\n",
       "      <td>4500</td>\n",
       "      <td>6615.329773</td>\n",
       "      <td>13482</td>\n",
       "      <td>6762.787770</td>\n",
       "      <td>89000</td>\n",
       "      <td>20</td>\n",
       "    </tr>\n",
       "    <tr>\n",
       "      <th>4</th>\n",
       "      <td>4.0</td>\n",
       "      <td>6300</td>\n",
       "      <td>9687.349130</td>\n",
       "      <td>9601</td>\n",
       "      <td>10698.904379</td>\n",
       "      <td>99900</td>\n",
       "      <td>39</td>\n",
       "    </tr>\n",
       "    <tr>\n",
       "      <th>5</th>\n",
       "      <td>5.0</td>\n",
       "      <td>5500</td>\n",
       "      <td>10269.207182</td>\n",
       "      <td>7602</td>\n",
       "      <td>12335.946323</td>\n",
       "      <td>99999</td>\n",
       "      <td>20</td>\n",
       "    </tr>\n",
       "    <tr>\n",
       "      <th>6</th>\n",
       "      <td>6.0</td>\n",
       "      <td>10950</td>\n",
       "      <td>13307.441013</td>\n",
       "      <td>6476</td>\n",
       "      <td>10728.784360</td>\n",
       "      <td>99999</td>\n",
       "      <td>50</td>\n",
       "    </tr>\n",
       "    <tr>\n",
       "      <th>7</th>\n",
       "      <td>7.0</td>\n",
       "      <td>2490</td>\n",
       "      <td>4035.851910</td>\n",
       "      <td>1283</td>\n",
       "      <td>5574.281628</td>\n",
       "      <td>99990</td>\n",
       "      <td>40</td>\n",
       "    </tr>\n",
       "  </tbody>\n",
       "</table>\n",
       "</div>"
      ],
      "text/plain": [
       "   bodyType  price_bodyType_gp_median  price_bodyType_gp_mean  \\\n",
       "0       0.0                      3000             5684.936548   \n",
       "1       1.0                      1600             2790.191765   \n",
       "2       2.0                      3500             5820.259655   \n",
       "3       3.0                      4500             6615.329773   \n",
       "4       4.0                      6300             9687.349130   \n",
       "5       5.0                      5500            10269.207182   \n",
       "6       6.0                     10950            13307.441013   \n",
       "7       7.0                      2490             4035.851910   \n",
       "\n",
       "   bodyType_gp_size  price_bodyType_gp_std  price_bodyType_gp_max  \\\n",
       "0             45877            6884.557748                  99999   \n",
       "1             35241            3159.663046                  99999   \n",
       "2             30294            6320.798831                  69900   \n",
       "3             13482            6762.787770                  89000   \n",
       "4              9601           10698.904379                  99900   \n",
       "5              7602           12335.946323                  99999   \n",
       "6              6476           10728.784360                  99999   \n",
       "7              1283            5574.281628                  99990   \n",
       "\n",
       "   price_bodyType_gp_min  \n",
       "0                     11  \n",
       "1                     12  \n",
       "2                     15  \n",
       "3                     20  \n",
       "4                     39  \n",
       "5                     20  \n",
       "6                     50  \n",
       "7                     40  "
      ]
     },
     "execution_count": 27,
     "metadata": {},
     "output_type": "execute_result"
    }
   ],
   "source": [
    "price_stats_grouped_by_bodyType = train_filtered.groupby(['bodyType'])['price'].agg(['median','mean','size','std','max','min']).reset_index()\n",
    "price_stats_grouped_by_bodyType.columns = ['bodyType',\n",
    "                                        'price_bodyType_gp_median',\n",
    "                                        'price_bodyType_gp_mean',\n",
    "                                        'bodyType_gp_size',\n",
    "                                        'price_bodyType_gp_std',\n",
    "                                        'price_bodyType_gp_max',\n",
    "                                        'price_bodyType_gp_min']\n",
    "price_stats_grouped_by_bodyType"
   ]
  },
  {
   "cell_type": "code",
   "execution_count": 28,
   "metadata": {
    "scrolled": false
   },
   "outputs": [
    {
     "data": {
      "text/html": [
       "<div>\n",
       "<style scoped>\n",
       "    .dataframe tbody tr th:only-of-type {\n",
       "        vertical-align: middle;\n",
       "    }\n",
       "\n",
       "    .dataframe tbody tr th {\n",
       "        vertical-align: top;\n",
       "    }\n",
       "\n",
       "    .dataframe thead th {\n",
       "        text-align: right;\n",
       "    }\n",
       "</style>\n",
       "<table border=\"1\" class=\"dataframe\">\n",
       "  <thead>\n",
       "    <tr style=\"text-align: right;\">\n",
       "      <th></th>\n",
       "      <th>SaleID</th>\n",
       "      <th>name</th>\n",
       "      <th>regDate</th>\n",
       "      <th>model</th>\n",
       "      <th>brand</th>\n",
       "      <th>bodyType</th>\n",
       "      <th>fuelType</th>\n",
       "      <th>gearbox</th>\n",
       "      <th>power</th>\n",
       "      <th>kilometer</th>\n",
       "      <th>notRepairedDamage</th>\n",
       "      <th>regionCode</th>\n",
       "      <th>seller</th>\n",
       "      <th>offerType</th>\n",
       "      <th>creatDate</th>\n",
       "      <th>price</th>\n",
       "      <th>v_0</th>\n",
       "      <th>v_1</th>\n",
       "      <th>v_2</th>\n",
       "      <th>v_3</th>\n",
       "      <th>v_4</th>\n",
       "      <th>v_5</th>\n",
       "      <th>v_6</th>\n",
       "      <th>v_7</th>\n",
       "      <th>v_8</th>\n",
       "      <th>v_9</th>\n",
       "      <th>v_10</th>\n",
       "      <th>v_11</th>\n",
       "      <th>v_12</th>\n",
       "      <th>v_13</th>\n",
       "      <th>v_14</th>\n",
       "      <th>age</th>\n",
       "      <th>age_bin</th>\n",
       "      <th>price_brand_gp_median</th>\n",
       "      <th>price_brand_gp_mean</th>\n",
       "      <th>brand_gp_size</th>\n",
       "      <th>price_brand_gp_std</th>\n",
       "      <th>price_brand_gp_max</th>\n",
       "      <th>price_brand_gp_min</th>\n",
       "      <th>price_bodyType_gp_median</th>\n",
       "      <th>price_bodyType_gp_mean</th>\n",
       "      <th>bodyType_gp_size</th>\n",
       "      <th>price_bodyType_gp_std</th>\n",
       "      <th>price_bodyType_gp_max</th>\n",
       "      <th>price_bodyType_gp_min</th>\n",
       "    </tr>\n",
       "  </thead>\n",
       "  <tbody>\n",
       "    <tr>\n",
       "      <th>0</th>\n",
       "      <td>0</td>\n",
       "      <td>736</td>\n",
       "      <td>20040402</td>\n",
       "      <td>30.0</td>\n",
       "      <td>6</td>\n",
       "      <td>1.0</td>\n",
       "      <td>0.0</td>\n",
       "      <td>0.0</td>\n",
       "      <td>60.0</td>\n",
       "      <td>12.5</td>\n",
       "      <td>0.0</td>\n",
       "      <td>1046</td>\n",
       "      <td>0</td>\n",
       "      <td>0</td>\n",
       "      <td>20160404</td>\n",
       "      <td>1850</td>\n",
       "      <td>43.357796</td>\n",
       "      <td>3.966344</td>\n",
       "      <td>0.050257</td>\n",
       "      <td>2.159744</td>\n",
       "      <td>1.143786</td>\n",
       "      <td>0.235676</td>\n",
       "      <td>0.101988</td>\n",
       "      <td>0.129549</td>\n",
       "      <td>0.022816</td>\n",
       "      <td>0.097462</td>\n",
       "      <td>-2.881803</td>\n",
       "      <td>2.804097</td>\n",
       "      <td>-2.420821</td>\n",
       "      <td>0.795292</td>\n",
       "      <td>0.914762</td>\n",
       "      <td>12</td>\n",
       "      <td>2.0</td>\n",
       "      <td>1800.0</td>\n",
       "      <td>3607.928375</td>\n",
       "      <td>10206</td>\n",
       "      <td>4650.025544</td>\n",
       "      <td>40950</td>\n",
       "      <td>13</td>\n",
       "      <td>1600</td>\n",
       "      <td>2790.191765</td>\n",
       "      <td>35241</td>\n",
       "      <td>3159.663046</td>\n",
       "      <td>99999</td>\n",
       "      <td>12</td>\n",
       "    </tr>\n",
       "    <tr>\n",
       "      <th>1</th>\n",
       "      <td>1</td>\n",
       "      <td>2262</td>\n",
       "      <td>20030301</td>\n",
       "      <td>40.0</td>\n",
       "      <td>1</td>\n",
       "      <td>2.0</td>\n",
       "      <td>0.0</td>\n",
       "      <td>0.0</td>\n",
       "      <td>140.0</td>\n",
       "      <td>15.0</td>\n",
       "      <td>2.0</td>\n",
       "      <td>4366</td>\n",
       "      <td>0</td>\n",
       "      <td>0</td>\n",
       "      <td>20160309</td>\n",
       "      <td>3600</td>\n",
       "      <td>45.305273</td>\n",
       "      <td>5.236112</td>\n",
       "      <td>0.137925</td>\n",
       "      <td>1.380657</td>\n",
       "      <td>-1.422165</td>\n",
       "      <td>0.264777</td>\n",
       "      <td>0.121004</td>\n",
       "      <td>0.135731</td>\n",
       "      <td>0.026597</td>\n",
       "      <td>0.020582</td>\n",
       "      <td>-4.900482</td>\n",
       "      <td>2.096338</td>\n",
       "      <td>-1.030483</td>\n",
       "      <td>-1.722674</td>\n",
       "      <td>0.245522</td>\n",
       "      <td>13</td>\n",
       "      <td>2.0</td>\n",
       "      <td>6499.0</td>\n",
       "      <td>9272.585414</td>\n",
       "      <td>13780</td>\n",
       "      <td>9363.917624</td>\n",
       "      <td>99900</td>\n",
       "      <td>15</td>\n",
       "      <td>3500</td>\n",
       "      <td>5820.259655</td>\n",
       "      <td>30294</td>\n",
       "      <td>6320.798831</td>\n",
       "      <td>69900</td>\n",
       "      <td>15</td>\n",
       "    </tr>\n",
       "    <tr>\n",
       "      <th>2</th>\n",
       "      <td>2</td>\n",
       "      <td>14874</td>\n",
       "      <td>20040403</td>\n",
       "      <td>115.0</td>\n",
       "      <td>15</td>\n",
       "      <td>1.0</td>\n",
       "      <td>0.0</td>\n",
       "      <td>0.0</td>\n",
       "      <td>163.0</td>\n",
       "      <td>12.5</td>\n",
       "      <td>0.0</td>\n",
       "      <td>2806</td>\n",
       "      <td>0</td>\n",
       "      <td>0</td>\n",
       "      <td>20160402</td>\n",
       "      <td>6222</td>\n",
       "      <td>45.978359</td>\n",
       "      <td>4.823792</td>\n",
       "      <td>1.319524</td>\n",
       "      <td>-0.998467</td>\n",
       "      <td>-0.996911</td>\n",
       "      <td>0.251410</td>\n",
       "      <td>0.114912</td>\n",
       "      <td>0.165147</td>\n",
       "      <td>0.062173</td>\n",
       "      <td>0.027075</td>\n",
       "      <td>-4.846749</td>\n",
       "      <td>1.803559</td>\n",
       "      <td>1.565330</td>\n",
       "      <td>-0.832687</td>\n",
       "      <td>-0.229963</td>\n",
       "      <td>12</td>\n",
       "      <td>2.0</td>\n",
       "      <td>8500.0</td>\n",
       "      <td>9858.582990</td>\n",
       "      <td>1458</td>\n",
       "      <td>5425.058140</td>\n",
       "      <td>45000</td>\n",
       "      <td>100</td>\n",
       "      <td>1600</td>\n",
       "      <td>2790.191765</td>\n",
       "      <td>35241</td>\n",
       "      <td>3159.663046</td>\n",
       "      <td>99999</td>\n",
       "      <td>12</td>\n",
       "    </tr>\n",
       "    <tr>\n",
       "      <th>3</th>\n",
       "      <td>3</td>\n",
       "      <td>71865</td>\n",
       "      <td>19960908</td>\n",
       "      <td>109.0</td>\n",
       "      <td>10</td>\n",
       "      <td>0.0</td>\n",
       "      <td>0.0</td>\n",
       "      <td>1.0</td>\n",
       "      <td>193.0</td>\n",
       "      <td>15.0</td>\n",
       "      <td>0.0</td>\n",
       "      <td>434</td>\n",
       "      <td>0</td>\n",
       "      <td>0</td>\n",
       "      <td>20160312</td>\n",
       "      <td>2400</td>\n",
       "      <td>45.687478</td>\n",
       "      <td>4.492574</td>\n",
       "      <td>-0.050616</td>\n",
       "      <td>0.883600</td>\n",
       "      <td>-2.228079</td>\n",
       "      <td>0.274293</td>\n",
       "      <td>0.110300</td>\n",
       "      <td>0.121964</td>\n",
       "      <td>0.033395</td>\n",
       "      <td>0.000000</td>\n",
       "      <td>-4.509599</td>\n",
       "      <td>1.285940</td>\n",
       "      <td>-0.501868</td>\n",
       "      <td>-2.438353</td>\n",
       "      <td>-0.478699</td>\n",
       "      <td>20</td>\n",
       "      <td>4.0</td>\n",
       "      <td>5400.0</td>\n",
       "      <td>8449.322819</td>\n",
       "      <td>14234</td>\n",
       "      <td>8916.556379</td>\n",
       "      <td>98000</td>\n",
       "      <td>15</td>\n",
       "      <td>3000</td>\n",
       "      <td>5684.936548</td>\n",
       "      <td>45877</td>\n",
       "      <td>6884.557748</td>\n",
       "      <td>99999</td>\n",
       "      <td>11</td>\n",
       "    </tr>\n",
       "    <tr>\n",
       "      <th>4</th>\n",
       "      <td>4</td>\n",
       "      <td>111080</td>\n",
       "      <td>20120103</td>\n",
       "      <td>110.0</td>\n",
       "      <td>5</td>\n",
       "      <td>1.0</td>\n",
       "      <td>0.0</td>\n",
       "      <td>0.0</td>\n",
       "      <td>68.0</td>\n",
       "      <td>5.0</td>\n",
       "      <td>0.0</td>\n",
       "      <td>6977</td>\n",
       "      <td>0</td>\n",
       "      <td>0</td>\n",
       "      <td>20160313</td>\n",
       "      <td>5200</td>\n",
       "      <td>44.383511</td>\n",
       "      <td>2.031433</td>\n",
       "      <td>0.572169</td>\n",
       "      <td>-1.571239</td>\n",
       "      <td>2.246088</td>\n",
       "      <td>0.228036</td>\n",
       "      <td>0.073205</td>\n",
       "      <td>0.091880</td>\n",
       "      <td>0.078819</td>\n",
       "      <td>0.121534</td>\n",
       "      <td>-1.896240</td>\n",
       "      <td>0.910783</td>\n",
       "      <td>0.931110</td>\n",
       "      <td>2.834518</td>\n",
       "      <td>1.923482</td>\n",
       "      <td>4</td>\n",
       "      <td>0.0</td>\n",
       "      <td>2300.0</td>\n",
       "      <td>3306.375375</td>\n",
       "      <td>4662</td>\n",
       "      <td>3344.689763</td>\n",
       "      <td>31500</td>\n",
       "      <td>20</td>\n",
       "      <td>1600</td>\n",
       "      <td>2790.191765</td>\n",
       "      <td>35241</td>\n",
       "      <td>3159.663046</td>\n",
       "      <td>99999</td>\n",
       "      <td>12</td>\n",
       "    </tr>\n",
       "  </tbody>\n",
       "</table>\n",
       "</div>"
      ],
      "text/plain": [
       "   SaleID    name   regDate  model  brand  bodyType  fuelType  gearbox  power  \\\n",
       "0       0     736  20040402   30.0      6       1.0       0.0      0.0   60.0   \n",
       "1       1    2262  20030301   40.0      1       2.0       0.0      0.0  140.0   \n",
       "2       2   14874  20040403  115.0     15       1.0       0.0      0.0  163.0   \n",
       "3       3   71865  19960908  109.0     10       0.0       0.0      1.0  193.0   \n",
       "4       4  111080  20120103  110.0      5       1.0       0.0      0.0   68.0   \n",
       "\n",
       "   kilometer  notRepairedDamage  regionCode  seller  offerType  creatDate  \\\n",
       "0       12.5                0.0        1046       0          0   20160404   \n",
       "1       15.0                2.0        4366       0          0   20160309   \n",
       "2       12.5                0.0        2806       0          0   20160402   \n",
       "3       15.0                0.0         434       0          0   20160312   \n",
       "4        5.0                0.0        6977       0          0   20160313   \n",
       "\n",
       "   price        v_0       v_1       v_2       v_3       v_4       v_5  \\\n",
       "0   1850  43.357796  3.966344  0.050257  2.159744  1.143786  0.235676   \n",
       "1   3600  45.305273  5.236112  0.137925  1.380657 -1.422165  0.264777   \n",
       "2   6222  45.978359  4.823792  1.319524 -0.998467 -0.996911  0.251410   \n",
       "3   2400  45.687478  4.492574 -0.050616  0.883600 -2.228079  0.274293   \n",
       "4   5200  44.383511  2.031433  0.572169 -1.571239  2.246088  0.228036   \n",
       "\n",
       "        v_6       v_7       v_8       v_9      v_10      v_11      v_12  \\\n",
       "0  0.101988  0.129549  0.022816  0.097462 -2.881803  2.804097 -2.420821   \n",
       "1  0.121004  0.135731  0.026597  0.020582 -4.900482  2.096338 -1.030483   \n",
       "2  0.114912  0.165147  0.062173  0.027075 -4.846749  1.803559  1.565330   \n",
       "3  0.110300  0.121964  0.033395  0.000000 -4.509599  1.285940 -0.501868   \n",
       "4  0.073205  0.091880  0.078819  0.121534 -1.896240  0.910783  0.931110   \n",
       "\n",
       "       v_13      v_14  age  age_bin  price_brand_gp_median  \\\n",
       "0  0.795292  0.914762   12      2.0                 1800.0   \n",
       "1 -1.722674  0.245522   13      2.0                 6499.0   \n",
       "2 -0.832687 -0.229963   12      2.0                 8500.0   \n",
       "3 -2.438353 -0.478699   20      4.0                 5400.0   \n",
       "4  2.834518  1.923482    4      0.0                 2300.0   \n",
       "\n",
       "   price_brand_gp_mean  brand_gp_size  price_brand_gp_std  price_brand_gp_max  \\\n",
       "0          3607.928375          10206         4650.025544               40950   \n",
       "1          9272.585414          13780         9363.917624               99900   \n",
       "2          9858.582990           1458         5425.058140               45000   \n",
       "3          8449.322819          14234         8916.556379               98000   \n",
       "4          3306.375375           4662         3344.689763               31500   \n",
       "\n",
       "   price_brand_gp_min  price_bodyType_gp_median  price_bodyType_gp_mean  \\\n",
       "0                  13                      1600             2790.191765   \n",
       "1                  15                      3500             5820.259655   \n",
       "2                 100                      1600             2790.191765   \n",
       "3                  15                      3000             5684.936548   \n",
       "4                  20                      1600             2790.191765   \n",
       "\n",
       "   bodyType_gp_size  price_bodyType_gp_std  price_bodyType_gp_max  \\\n",
       "0             35241            3159.663046                  99999   \n",
       "1             30294            6320.798831                  69900   \n",
       "2             35241            3159.663046                  99999   \n",
       "3             45877            6884.557748                  99999   \n",
       "4             35241            3159.663046                  99999   \n",
       "\n",
       "   price_bodyType_gp_min  \n",
       "0                     12  \n",
       "1                     15  \n",
       "2                     12  \n",
       "3                     11  \n",
       "4                     12  "
      ]
     },
     "execution_count": 28,
     "metadata": {},
     "output_type": "execute_result"
    }
   ],
   "source": [
    "train_filtered = train_filtered.merge(price_stats_grouped_by_bodyType, on='bodyType', how='left')\n",
    "train_filtered.head()"
   ]
  },
  {
   "cell_type": "markdown",
   "metadata": {},
   "source": [
    "### 4. 歸一化、標準化"
   ]
  },
  {
   "cell_type": "markdown",
   "metadata": {},
   "source": [
    "目前考慮使用樹模型，先不需要做此處理。"
   ]
  },
  {
   "cell_type": "markdown",
   "metadata": {},
   "source": [
    "## 四、特徵篩選"
   ]
  },
  {
   "cell_type": "markdown",
   "metadata": {},
   "source": [
    "### 相關性分析"
   ]
  },
  {
   "cell_type": "code",
   "execution_count": 29,
   "metadata": {},
   "outputs": [
    {
     "data": {
      "text/plain": [
       "Index(['SaleID', 'name', 'regDate', 'model', 'brand', 'bodyType', 'fuelType',\n",
       "       'gearbox', 'power', 'kilometer', 'notRepairedDamage', 'regionCode',\n",
       "       'seller', 'offerType', 'creatDate', 'price', 'v_0', 'v_1', 'v_2', 'v_3',\n",
       "       'v_4', 'v_5', 'v_6', 'v_7', 'v_8', 'v_9', 'v_10', 'v_11', 'v_12',\n",
       "       'v_13', 'v_14', 'age', 'age_bin', 'price_brand_gp_median',\n",
       "       'price_brand_gp_mean', 'brand_gp_size', 'price_brand_gp_std',\n",
       "       'price_brand_gp_max', 'price_brand_gp_min', 'price_bodyType_gp_median',\n",
       "       'price_bodyType_gp_mean', 'bodyType_gp_size', 'price_bodyType_gp_std',\n",
       "       'price_bodyType_gp_max', 'price_bodyType_gp_min'],\n",
       "      dtype='object')"
      ]
     },
     "execution_count": 29,
     "metadata": {},
     "output_type": "execute_result"
    }
   ],
   "source": [
    "# 所有特徵\n",
    "train_filtered.columns"
   ]
  },
  {
   "cell_type": "code",
   "execution_count": 30,
   "metadata": {},
   "outputs": [
    {
     "data": {
      "text/plain": [
       "['power',\n",
       " 'age',\n",
       " 'price_brand_gp_median',\n",
       " 'price_brand_gp_mean',\n",
       " 'price_brand_gp_std',\n",
       " 'price_brand_gp_max',\n",
       " 'price_brand_gp_min',\n",
       " 'brand_gp_size',\n",
       " 'price_bodyType_gp_median',\n",
       " 'price_bodyType_gp_mean',\n",
       " 'price_bodyType_gp_std',\n",
       " 'price_bodyType_gp_max',\n",
       " 'price_bodyType_gp_min',\n",
       " 'bodyType_gp_size']"
      ]
     },
     "execution_count": 30,
     "metadata": {},
     "output_type": "execute_result"
    }
   ],
   "source": [
    "numeric_features = ['power','age'] + \\\n",
    "                    ['price_brand_gp_'+s for s in ['median','mean','std','max','min']]+['brand_gp_size'] + \\\n",
    "                    ['price_bodyType_gp_'+s for s in ['median','mean','std','max','min']]+['bodyType_gp_size']\n",
    "numeric_features"
   ]
  },
  {
   "cell_type": "code",
   "execution_count": 31,
   "metadata": {},
   "outputs": [
    {
     "data": {
      "text/plain": [
       "<matplotlib.axes._subplots.AxesSubplot at 0x25080da9518>"
      ]
     },
     "execution_count": 31,
     "metadata": {},
     "output_type": "execute_result"
    },
    {
     "data": {
      "image/png": "[encoded data removed]",
      "text/plain": [
       "<Figure size 576x576 with 2 Axes>"
      ]
     },
     "metadata": {
      "needs_background": "light"
     },
     "output_type": "display_data"
    }
   ],
   "source": [
    "# 相關係數熱力圖\n",
    "corr = train_filtered[numeric_features+['price']].corr()\n",
    "\n",
    "f , ax = plt.subplots(figsize = (8, 8))\n",
    "plt.title('numeric features & Price correlation')\n",
    "sns.heatmap(corr,square = True, vmax=0.8)"
   ]
  },
  {
   "cell_type": "markdown",
   "metadata": {},
   "source": [
    "+ price和其他特徵相關性：  \n",
    "    和車齡呈高度負相關；  \n",
    "    和其他統計量特徵看來並沒有太高的相關性。  \n",
    "    \n",
    "+ 特徵間相關性：  \n",
    "    除了統計變量間本身就高相關之外，bodyType_gp_size(各車身類型的車數)和以bodyType分組後price的統計量間(除了max)都呈高度附相關。  \n",
    "    此現象表示該車身類型樣本越少時，其統計量易受極大離群值影響。"
   ]
  }
 ],
 "metadata": {
  "kernelspec": {
   "display_name": "Python 3",
   "language": "python",
   "name": "python3"
  },
  "language_info": {
   "codemirror_mode": {
    "name": "ipython",
    "version": 3
   },
   "file_extension": ".py",
   "mimetype": "text/x-python",
   "name": "python",
   "nbconvert_exporter": "python",
   "pygments_lexer": "ipython3",
   "version": "3.7.0"
  }
 },
 "nbformat": 4,
 "nbformat_minor": 2
}
