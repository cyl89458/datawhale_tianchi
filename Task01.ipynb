{
 "cells": [
  {
   "cell_type": "markdown",
   "metadata": {},
   "source": [
    "# Task01 賽題理解"
   ]
  },
  {
   "cell_type": "markdown",
   "metadata": {},
   "source": [
    "## Task01目標及內容\n",
    "### 目標：\n",
    "了解賽題目標、數據集、預測目標，並做初步問題分析\n",
    "### 內容：\n",
    "熟悉數據集字段內容、大小\n",
    "\n",
    "### 將目標拆解成以下問題：\n",
    "Q1：目標是什麼？  \n",
    "Q2：有甚麼樣的數據？  \n",
    "Q3：數據集中變量能否＆為何可能拿來預測目標？  \n",
    "Q4：怎麼評判目標達成程度？"
   ]
  },
  {
   "cell_type": "markdown",
   "metadata": {},
   "source": [
    "## 一、賽題目標 (Q1)  \n",
    "### 1. 題目：提供二手車相關信息，目標為預測二手車價格。  \n",
    "### 2. 分析：  \n",
    "價格由車輛、買賣方，及市場狀況決定，拆解可能各因素，並由此思考可能提供預測信息的特徵。\n",
    "\n",
    "**<車輛因素>**  \n",
    "1.原車主使用汽車目的(家庭自用/租賃/運營)  \n",
    "2.車況(是否曾損壞/車齡/公里數)  \n",
    "3.車型(小轎車/SUV/貨車)  \n",
    "4.車牌類型(車牌限行)\n",
    "\n",
    "**<買賣雙方>**  \n",
    "1.買賣雙方出價及談價空間  \n",
    "\n",
    "**<市場因素>**  \n",
    "1.交易時間(是否在汽車買賣旺季或淡季)  \n",
    "2.交易地點(該地區供需狀況)  "
   ]
  },
  {
   "cell_type": "markdown",
   "metadata": {},
   "source": [
    "## 二、賽題數據 (Q2-3)"
   ]
  },
  {
   "cell_type": "code",
   "execution_count": 2,
   "metadata": {},
   "outputs": [],
   "source": [
    "import pandas as pd\n",
    "pd.set_option('display.max_columns',None)"
   ]
  },
  {
   "cell_type": "markdown",
   "metadata": {},
   "source": [
    "### 1. 訓練集"
   ]
  },
  {
   "cell_type": "code",
   "execution_count": 3,
   "metadata": {},
   "outputs": [],
   "source": [
    "# 讀取訓練集\n",
    "train = pd.read_csv('./raw_data/used_car_train_20200313.csv',sep=' ')"
   ]
  },
  {
   "cell_type": "code",
   "execution_count": 4,
   "metadata": {
    "scrolled": true
   },
   "outputs": [
    {
     "name": "stdout",
     "output_type": "stream",
     "text": [
      "Training Data Columns:\n",
      "Index(['SaleID', 'name', 'regDate', 'model', 'brand', 'bodyType', 'fuelType',\n",
      "       'gearbox', 'power', 'kilometer', 'notRepairedDamage', 'regionCode',\n",
      "       'seller', 'offerType', 'creatDate', 'price', 'v_0', 'v_1', 'v_2', 'v_3',\n",
      "       'v_4', 'v_5', 'v_6', 'v_7', 'v_8', 'v_9', 'v_10', 'v_11', 'v_12',\n",
      "       'v_13', 'v_14'],\n",
      "      dtype='object')\n"
     ]
    }
   ],
   "source": [
    "# 訓練集字段　> 共31個字段\n",
    "print('Training Data Columns:\\n{}'.format(train.columns))"
   ]
  },
  {
   "cell_type": "code",
   "execution_count": 5,
   "metadata": {},
   "outputs": [
    {
     "name": "stdout",
     "output_type": "stream",
     "text": [
      "Training Data Shape = (150000, 31)\n"
     ]
    }
   ],
   "source": [
    "# 訓練集大小 > 共15萬筆\n",
    "print('Training Data Shape = {}'.format(train.shape))"
   ]
  },
  {
   "cell_type": "code",
   "execution_count": 16,
   "metadata": {},
   "outputs": [
    {
     "name": "stdout",
     "output_type": "stream",
     "text": [
      "Training Data Samples:\n",
      "   SaleID   name   regDate  model  brand  bodyType  fuelType  gearbox  power  \\\n",
      "0       0    736  20040402   30.0      6       1.0       0.0      0.0     60   \n",
      "1       1   2262  20030301   40.0      1       2.0       0.0      0.0      0   \n",
      "2       2  14874  20040403  115.0     15       1.0       0.0      0.0    163   \n",
      "\n",
      "   kilometer notRepairedDamage  regionCode  seller  offerType  creatDate  \\\n",
      "0       12.5               0.0        1046       0          0   20160404   \n",
      "1       15.0                 -        4366       0          0   20160309   \n",
      "2       12.5               0.0        2806       0          0   20160402   \n",
      "\n",
      "   price        v_0       v_1       v_2       v_3       v_4       v_5  \\\n",
      "0   1850  43.357796  3.966344  0.050257  2.159744  1.143786  0.235676   \n",
      "1   3600  45.305273  5.236112  0.137925  1.380657 -1.422165  0.264777   \n",
      "2   6222  45.978359  4.823792  1.319524 -0.998467 -0.996911  0.251410   \n",
      "\n",
      "        v_6       v_7       v_8       v_9      v_10      v_11      v_12  \\\n",
      "0  0.101988  0.129549  0.022816  0.097462 -2.881803  2.804097 -2.420821   \n",
      "1  0.121004  0.135731  0.026597  0.020582 -4.900482  2.096338 -1.030483   \n",
      "2  0.114912  0.165147  0.062173  0.027075 -4.846749  1.803559  1.565330   \n",
      "\n",
      "       v_13      v_14  \n",
      "0  0.795292  0.914762  \n",
      "1 -1.722674  0.245522  \n",
      "2 -0.832687 -0.229963  \n"
     ]
    }
   ],
   "source": [
    "# 訓練集數據樣例\n",
    "print('Training Data Samples:\\n{}'.format(train.loc[:2]))"
   ]
  },
  {
   "cell_type": "markdown",
   "metadata": {},
   "source": [
    "### 2. 測試集"
   ]
  },
  {
   "cell_type": "code",
   "execution_count": 12,
   "metadata": {},
   "outputs": [],
   "source": [
    "# 讀取測試集\n",
    "test = pd.read_csv('./raw_data/used_car_testA_20200313.csv',sep=' ')"
   ]
  },
  {
   "cell_type": "code",
   "execution_count": 13,
   "metadata": {},
   "outputs": [
    {
     "name": "stdout",
     "output_type": "stream",
     "text": [
      "Testing Data Columns:\n",
      "Index(['SaleID', 'name', 'regDate', 'model', 'brand', 'bodyType', 'fuelType',\n",
      "       'gearbox', 'power', 'kilometer', 'notRepairedDamage', 'regionCode',\n",
      "       'seller', 'offerType', 'creatDate', 'v_0', 'v_1', 'v_2', 'v_3', 'v_4',\n",
      "       'v_5', 'v_6', 'v_7', 'v_8', 'v_9', 'v_10', 'v_11', 'v_12', 'v_13',\n",
      "       'v_14'],\n",
      "      dtype='object')\n"
     ]
    }
   ],
   "source": [
    "# 測試集字段 > 共30個字段,比訓練集少字段 'price'(也就是預測目標)\n",
    "print('Testing Data Columns:\\n{}'.format(test.columns))"
   ]
  },
  {
   "cell_type": "code",
   "execution_count": 14,
   "metadata": {},
   "outputs": [
    {
     "name": "stdout",
     "output_type": "stream",
     "text": [
      "Testing Data Shape = (50000, 30)\n"
     ]
    }
   ],
   "source": [
    "# 測試集大小 > 共5萬筆\n",
    "print('Testing Data Shape = {}'.format(test.shape))"
   ]
  },
  {
   "cell_type": "code",
   "execution_count": 15,
   "metadata": {},
   "outputs": [
    {
     "name": "stdout",
     "output_type": "stream",
     "text": [
      "Testing Data Samples:\n",
      "   SaleID    name   regDate  model  brand  bodyType  fuelType  gearbox  power  \\\n",
      "0  150000   66932  20111212  222.0      4       5.0       1.0      1.0    313   \n",
      "1  150001  174960  19990211   19.0     21       0.0       0.0      0.0     75   \n",
      "2  150002    5356  20090304   82.0     21       0.0       0.0      0.0    109   \n",
      "\n",
      "   kilometer notRepairedDamage  regionCode  seller  offerType  creatDate  \\\n",
      "0       15.0               0.0        1440       0          0   20160329   \n",
      "1       12.5               1.0        5419       0          0   20160404   \n",
      "2        7.0               0.0        5045       0          0   20160308   \n",
      "\n",
      "         v_0       v_1       v_2       v_3       v_4       v_5       v_6  \\\n",
      "0  49.593127  5.246568  1.001130 -4.122264  0.737532  0.264405  0.121800   \n",
      "1  42.395926 -3.253950 -1.753754  3.646605 -0.725597  0.261745  0.000000   \n",
      "2  45.841370  4.704178  0.155391 -1.118443 -0.229160  0.260216  0.112081   \n",
      "\n",
      "        v_7       v_8       v_9      v_10      v_11      v_12      v_13  \\\n",
      "0  0.070899  0.106558  0.078867 -7.050969 -0.854626  4.800151  0.620011   \n",
      "1  0.096733  0.013705  0.052383  3.679418 -0.729039 -3.796107 -1.541230   \n",
      "2  0.078082  0.062078  0.050540 -4.926690  1.001106  0.826562  0.138226   \n",
      "\n",
      "       v_14  \n",
      "0 -3.664654  \n",
      "1 -0.757055  \n",
      "2  0.754033  \n"
     ]
    }
   ],
   "source": [
    "# 測試集數據樣例\n",
    "print('Testing Data Samples:\\n{}'.format(test.loc[:2]))"
   ]
  },
  {
   "cell_type": "markdown",
   "metadata": {},
   "source": [
    "### 3. 字段表"
   ]
  },
  {
   "cell_type": "markdown",
   "metadata": {},
   "source": [
    "| no | 字段名 | 描述 |\n",
    "|---|:---|:---|\n",
    "| 01 | SaleID | 交易ID，唯一編碼 |\n",
    "| 02 | name | 汽車交易名稱，已脫敏 |\n",
    "| 03 | regDate | 汽車註冊日期，例如20160101，2016年01月01日 |\n",
    "| 04 | model | 車型編碼，已脫敏 |\n",
    "| 05 | brand | 汽車品牌，已脫敏 |\n",
    "| 06 | bodyType | 車身類型：豪華轎車：0，微型車：1，廂型車：2，大巴車：3，敞篷車：4，雙門汽車：5，商務車：6，攪拌車：7 |\n",
    "| 07 | fuelType | 燃油類型：汽油：0，柴油：1，液化石油氣：2，天然氣：3，混合動力：4，其他：5，電動：6 |\n",
    "| 08 | gearbox | 變速箱：手動：0，自動：1 |\n",
    "| 09 | power | 發動機功率：範圍 0-600 |\n",
    "| 10 | kilometer | 汽車已行駛公里，單位萬km |\n",
    "| 11 | notRepairedDamage | 汽車有尚未修復的損壞：是：0，否：1 |\n",
    "| 12 | regionCode | 地區編碼，已脫敏 |\n",
    "| 13 | seller | 銷售方：個體：0，非個體：1 |\n",
    "| 14 | offerType | 報價類型：提供：0，請求：1 |\n",
    "| 15 | creatDate | 汽車上線時間，即開始售賣時間 |\n",
    "| 16 | price | 二手車交易價格（預測目標）|\n",
    "| 17-31 | v_0-v_14 | 匿名特徵，包含v0-14在內15個匿名特徵 |"
   ]
  },
  {
   "cell_type": "markdown",
   "metadata": {},
   "source": [
    "### 4. 各字段與預測目標相關性分析 (Q3)"
   ]
  },
  {
   "cell_type": "markdown",
   "metadata": {},
   "source": [
    "## 三、評測標準 - MAE (Q4)\n",
    "評價標準為MAE，即驗證集所有樣本絕對誤差平均。MAE越小說明模型預測越準確。  "
   ]
  }
 ],
 "metadata": {
  "kernelspec": {
   "display_name": "Python 3",
   "language": "python",
   "name": "python3"
  },
  "language_info": {
   "codemirror_mode": {
    "name": "ipython",
    "version": 3
   },
   "file_extension": ".py",
   "mimetype": "text/x-python",
   "name": "python",
   "nbconvert_exporter": "python",
   "pygments_lexer": "ipython3",
   "version": "3.6.4"
  }
 },
 "nbformat": 4,
 "nbformat_minor": 2
}
