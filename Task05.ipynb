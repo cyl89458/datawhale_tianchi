{
 "cells": [
  {
   "cell_type": "markdown",
   "metadata": {},
   "source": [
    "# Task05 模型融合"
   ]
  },
  {
   "cell_type": "markdown",
   "metadata": {},
   "source": [
    "## Task04 目標及內容\n",
    "### 目標\n",
    ">對多種調參完成的模型進行融合\n",
    "\n",
    "### 內容\n",
    ">1. 簡單加權融合\n",
    "2. stacking  \n",
    "(因賽題為回歸問題，故不討論分類模型的融合方法)"
   ]
  },
  {
   "cell_type": "markdown",
   "metadata": {},
   "source": [
    "### 常見模型融合方法\n",
    "回歸常用的模型融合方法有：\n",
    "1. 簡單加權融合\n",
    "2. stacking / blending\n",
    "3. boosting / bagging  \n",
    "\n",
    "由於先前訓練的隨機森林及XGBoost模型分別運用了bagging和boosting的方法，故模型融合的時後不再考慮。  \n",
    "Blending 方法則不能良好的利用數據集，暫時先不考慮。\n",
    "\n",
    "以下用Task04 的隨機森林以及 Grid search調參後的 XGBoost 模型為基學習器，嘗試簡單加權及Stacking方法做模型融合。"
   ]
  },
  {
   "cell_type": "markdown",
   "metadata": {},
   "source": [
    "## O、基學習器"
   ]
  },
  {
   "cell_type": "code",
   "execution_count": 26,
   "metadata": {},
   "outputs": [],
   "source": [
    "import matplotlib\n",
    "import pandas as pd\n",
    "import numpy as np\n",
    "import matplotlib.pyplot as plt\n",
    "import seaborn as sns\n",
    "pd.set_option('display.max_columns',None)\n",
    "pd.set_option('display.max_rows',None)\n",
    "import warnings\n",
    "warnings.filterwarnings(\"ignore\")"
   ]
  },
  {
   "cell_type": "code",
   "execution_count": 47,
   "metadata": {},
   "outputs": [],
   "source": [
    "###  讀取 Task04 的隨機森林以及 Grid search調參後的 XGBoost 模型的預測結果\n",
    "train_pred_RF = pd.read_csv('./pred_result/RF_train_pred_1.csv')\n",
    "train_pred_xgb_GS = pd.read_csv('./pred_result/xgb_GS_train_pred_1.csv')\n",
    "\n",
    "test_pred_RF = pd.read_csv('./submits/RF_submit_1.csv')\n",
    "test_pred_xgb_GS = pd.read_csv('./submits/xgb_GS_submit_1.csv')"
   ]
  },
  {
   "cell_type": "code",
   "execution_count": 34,
   "metadata": {},
   "outputs": [],
   "source": [
    "### 獲取訓練集拆分測試集的 price 真實值\n",
    "train_y_test = pd.read_csv('./pred_result/train_y_test_1.csv')"
   ]
  },
  {
   "cell_type": "code",
   "execution_count": 48,
   "metadata": {},
   "outputs": [],
   "source": [
    "### 將 price 部分取出為 Series\n",
    "train_pred_RF_price = train_pred_RF['price']\n",
    "train_pred_xgb_GS_price = train_pred_xgb_GS['price']\n",
    "\n",
    "test_pred_RF_price = test_pred_RF['price']\n",
    "test_pred_xgb_GS_price = test_pred_xgb_GS['price']\n",
    "\n",
    "train_y_test_price = train_y_test['price']"
   ]
  },
  {
   "cell_type": "markdown",
   "metadata": {},
   "source": [
    "基學習器表現：  \n",
    "\n",
    "||隨機森林|XGB_GS|\n",
    "|---|---|---|\n",
    "|訓練集 MAE|647.02|624.17|\n",
    "|測試集 MAE|630.31|613.27|"
   ]
  },
  {
   "cell_type": "markdown",
   "metadata": {},
   "source": [
    "## 一、簡單加權融合"
   ]
  },
  {
   "cell_type": "markdown",
   "metadata": {},
   "source": [
    ">將基學習器獲得的預測結果以計算簡單或加權平均方式融合"
   ]
  },
  {
   "cell_type": "code",
   "execution_count": 42,
   "metadata": {},
   "outputs": [],
   "source": [
    "from sklearn.metrics import mean_absolute_error"
   ]
  },
  {
   "cell_type": "markdown",
   "metadata": {},
   "source": [
    "### 1. 簡單平均"
   ]
  },
  {
   "cell_type": "code",
   "execution_count": 52,
   "metadata": {},
   "outputs": [
    {
     "name": "stdout",
     "output_type": "stream",
     "text": [
      "609.81310263665\n"
     ]
    }
   ],
   "source": [
    "train_mixed_price_11 = 0.5*train_pred_RF_price+0.5*train_pred_xgb_GS_price\n",
    "MAE_11 = mean_absolute_error(train_y_test_price,train_mixed_price_11)\n",
    "print(MAE_11)"
   ]
  },
  {
   "cell_type": "markdown",
   "metadata": {},
   "source": [
    "### 2. 以模型表現狀況加權平均"
   ]
  },
  {
   "cell_type": "code",
   "execution_count": 53,
   "metadata": {},
   "outputs": [
    {
     "name": "stdout",
     "output_type": "stream",
     "text": [
      "w_RF=0.4910123584987296; w_xgb_GS=0.5089876415012705\n"
     ]
    }
   ],
   "source": [
    "### 以 MAE 計算權重\n",
    "MAE_RF = 647.02\n",
    "MAE_xgb_GS = 624.17\n",
    "\n",
    "w_RF = 1-(647.02/(647.02+624.17))\n",
    "w_xgb_GS = 1-(624.17/(647.02+624.17))\n",
    "print('w_RF={}; w_xgb_GS={}'.format(w_RF,w_xgb_GS))"
   ]
  },
  {
   "cell_type": "code",
   "execution_count": 54,
   "metadata": {},
   "outputs": [
    {
     "name": "stdout",
     "output_type": "stream",
     "text": [
      "609.602690021946\n"
     ]
    }
   ],
   "source": [
    "train_mixed_price_12 = w_RF*train_pred_RF_price+w_xgb_GS*train_pred_xgb_GS_price\n",
    "MAE_12 = mean_absolute_error(train_y_test_price,train_mixed_price_12)\n",
    "print(MAE_12)"
   ]
  },
  {
   "cell_type": "markdown",
   "metadata": {},
   "source": [
    "因兩基學習器MAE表現差異不大，故以MAE計算權重加權平均的結果和簡單平均差不多，整體來看簡單加權融合後MAE下降，結果確實獲得優化。"
   ]
  },
  {
   "cell_type": "code",
   "execution_count": 92,
   "metadata": {},
   "outputs": [],
   "source": [
    "test_mixed_price_12 = w_RF*test_pred_RF_price+w_xgb_GS*test_pred_xgb_GS_price"
   ]
  },
  {
   "cell_type": "code",
   "execution_count": 64,
   "metadata": {},
   "outputs": [],
   "source": [
    "def transform_pred_to_submit(pred_price_array, SaleID_Series):\n",
    "    pred_price = pd.Series(pred_price_array)\n",
    "    df = pd.concat([SaleID_Series, pred_price],axis=1,ignore_index=True)\n",
    "    df.columns=['SaleID','price']\n",
    "    return df"
   ]
  },
  {
   "cell_type": "code",
   "execution_count": 69,
   "metadata": {},
   "outputs": [],
   "source": [
    "SaleID_test = test_pred_RF[['SaleID']]"
   ]
  },
  {
   "cell_type": "code",
   "execution_count": 93,
   "metadata": {},
   "outputs": [],
   "source": [
    "RF_xgb_GS_wavg_submit = transform_pred_to_submit(test_mixed_price_12,SaleID_test)\n",
    "RF_xgb_GS_wavg_submit.to_csv('./submits/RF_xgb_GS_wavg_submit_1.csv',index=False)"
   ]
  },
  {
   "cell_type": "markdown",
   "metadata": {},
   "source": [
    "## 二、stacking"
   ]
  },
  {
   "cell_type": "markdown",
   "metadata": {},
   "source": [
    ">用基學習器預測結果再訓練一個簡單的模型"
   ]
  },
  {
   "cell_type": "code",
   "execution_count": 60,
   "metadata": {},
   "outputs": [
    {
     "data": {
      "text/html": [
       "<div>\n",
       "<style scoped>\n",
       "    .dataframe tbody tr th:only-of-type {\n",
       "        vertical-align: middle;\n",
       "    }\n",
       "\n",
       "    .dataframe tbody tr th {\n",
       "        vertical-align: top;\n",
       "    }\n",
       "\n",
       "    .dataframe thead th {\n",
       "        text-align: right;\n",
       "    }\n",
       "</style>\n",
       "<table border=\"1\" class=\"dataframe\">\n",
       "  <thead>\n",
       "    <tr style=\"text-align: right;\">\n",
       "      <th></th>\n",
       "      <th>RF_pred_price</th>\n",
       "      <th>xgb_GS_pred_price</th>\n",
       "    </tr>\n",
       "  </thead>\n",
       "  <tbody>\n",
       "    <tr>\n",
       "      <th>0</th>\n",
       "      <td>13167.932293</td>\n",
       "      <td>14541.30300</td>\n",
       "    </tr>\n",
       "    <tr>\n",
       "      <th>1</th>\n",
       "      <td>992.860321</td>\n",
       "      <td>958.42175</td>\n",
       "    </tr>\n",
       "    <tr>\n",
       "      <th>2</th>\n",
       "      <td>784.172263</td>\n",
       "      <td>798.15173</td>\n",
       "    </tr>\n",
       "    <tr>\n",
       "      <th>3</th>\n",
       "      <td>388.659678</td>\n",
       "      <td>396.65408</td>\n",
       "    </tr>\n",
       "    <tr>\n",
       "      <th>4</th>\n",
       "      <td>6473.975776</td>\n",
       "      <td>6552.65330</td>\n",
       "    </tr>\n",
       "  </tbody>\n",
       "</table>\n",
       "</div>"
      ],
      "text/plain": [
       "   RF_pred_price  xgb_GS_pred_price\n",
       "0   13167.932293        14541.30300\n",
       "1     992.860321          958.42175\n",
       "2     784.172263          798.15173\n",
       "3     388.659678          396.65408\n",
       "4    6473.975776         6552.65330"
      ]
     },
     "execution_count": 60,
     "metadata": {},
     "output_type": "execute_result"
    }
   ],
   "source": [
    "### 將基學習器預測結果整理為一個訓練集\n",
    "stacking_x_train = pd.concat([train_pred_RF_price,train_pred_xgb_GS_price],axis=1)\n",
    "stacking_x_train.columns=['RF_pred_price','xgb_GS_pred_price']\n",
    "stacking_x_train.head()"
   ]
  },
  {
   "cell_type": "code",
   "execution_count": 61,
   "metadata": {},
   "outputs": [
    {
     "data": {
      "text/html": [
       "<div>\n",
       "<style scoped>\n",
       "    .dataframe tbody tr th:only-of-type {\n",
       "        vertical-align: middle;\n",
       "    }\n",
       "\n",
       "    .dataframe tbody tr th {\n",
       "        vertical-align: top;\n",
       "    }\n",
       "\n",
       "    .dataframe thead th {\n",
       "        text-align: right;\n",
       "    }\n",
       "</style>\n",
       "<table border=\"1\" class=\"dataframe\">\n",
       "  <thead>\n",
       "    <tr style=\"text-align: right;\">\n",
       "      <th></th>\n",
       "      <th>RF_pred_price</th>\n",
       "      <th>xgb_GS_pred_price</th>\n",
       "    </tr>\n",
       "  </thead>\n",
       "  <tbody>\n",
       "    <tr>\n",
       "      <th>0</th>\n",
       "      <td>31927.971750</td>\n",
       "      <td>31928.2710</td>\n",
       "    </tr>\n",
       "    <tr>\n",
       "      <th>1</th>\n",
       "      <td>352.267288</td>\n",
       "      <td>358.5850</td>\n",
       "    </tr>\n",
       "    <tr>\n",
       "      <th>2</th>\n",
       "      <td>6433.327046</td>\n",
       "      <td>6475.3423</td>\n",
       "    </tr>\n",
       "    <tr>\n",
       "      <th>3</th>\n",
       "      <td>11768.682098</td>\n",
       "      <td>11873.4190</td>\n",
       "    </tr>\n",
       "    <tr>\n",
       "      <th>4</th>\n",
       "      <td>617.961450</td>\n",
       "      <td>608.3052</td>\n",
       "    </tr>\n",
       "  </tbody>\n",
       "</table>\n",
       "</div>"
      ],
      "text/plain": [
       "   RF_pred_price  xgb_GS_pred_price\n",
       "0   31927.971750         31928.2710\n",
       "1     352.267288           358.5850\n",
       "2    6433.327046          6475.3423\n",
       "3   11768.682098         11873.4190\n",
       "4     617.961450           608.3052"
      ]
     },
     "execution_count": 61,
     "metadata": {},
     "output_type": "execute_result"
    }
   ],
   "source": [
    "stacking_x_test = pd.concat([test_pred_RF_price,test_pred_xgb_GS_price],axis=1)\n",
    "stacking_x_test.columns=['RF_pred_price','xgb_GS_pred_price']\n",
    "stacking_x_test.head()"
   ]
  },
  {
   "cell_type": "code",
   "execution_count": 55,
   "metadata": {},
   "outputs": [],
   "source": [
    "from sklearn.linear_model import LinearRegression"
   ]
  },
  {
   "cell_type": "code",
   "execution_count": 91,
   "metadata": {},
   "outputs": [
    {
     "data": {
      "text/plain": [
       "591.9276455268716"
      ]
     },
     "execution_count": 91,
     "metadata": {},
     "output_type": "execute_result"
    }
   ],
   "source": [
    "### 先將 stacking_x_train 拆分初步檢視效果\n",
    "stacking_LR = LinearRegression()\n",
    "stacking_LR = stacking_LR.fit(stacking_x_train[:25000],train_y_test_price[:25000])\n",
    "stacking_pred_test = stacking_LR.predict(stacking_x_train[25000:])\n",
    "mean_absolute_error(train_y_test_price[25000:],stacking_pred_test)"
   ]
  },
  {
   "cell_type": "markdown",
   "metadata": {},
   "source": [
    "由上可見MAE確實下降了，stacking 應有一定優化效果，後面用所有stacking_x_train訓練LR模型："
   ]
  },
  {
   "cell_type": "code",
   "execution_count": 62,
   "metadata": {},
   "outputs": [],
   "source": [
    "stacking_LR = LinearRegression()\n",
    "stacking_LR = stacking_LR.fit(stacking_x_train,train_y_test_price)\n",
    "stacking_pred_test = stacking_LR.predict(stacking_x_test)"
   ]
  },
  {
   "cell_type": "code",
   "execution_count": 63,
   "metadata": {},
   "outputs": [
    {
     "data": {
      "text/plain": [
       "array([32525.34039437,   365.68066947,  6584.74944814, ...,\n",
       "        7888.54091517,  8958.33204713,  3551.70949075])"
      ]
     },
     "execution_count": 63,
     "metadata": {},
     "output_type": "execute_result"
    }
   ],
   "source": [
    "stacking_pred_test"
   ]
  },
  {
   "cell_type": "code",
   "execution_count": 72,
   "metadata": {},
   "outputs": [],
   "source": [
    "RF_xgb_GS_LR_stacking_submit = transform_pred_to_submit(stacking_pred_test,SaleID_test)\n",
    "RF_xgb_GS_LR_stacking_submit.to_csv('./submits/RF_xgb_GS_LR_stacking_submit_1.csv',index=False)"
   ]
  },
  {
   "cell_type": "markdown",
   "metadata": {},
   "source": [
    "## 測試集結果"
   ]
  },
  {
   "cell_type": "markdown",
   "metadata": {},
   "source": [
    "**基學習器表現：**  \n",
    "\n",
    "||隨機森林|XGB_GS|\n",
    "|---|---|---|\n",
    "|訓練集 MAE|647.02|624.17|\n",
    "|測試集 MAE|630.31|613.27|"
   ]
  },
  {
   "cell_type": "markdown",
   "metadata": {},
   "source": [
    "**融合表現：**  \n",
    "\n",
    "||MAE加權平均|LR Stacking|\n",
    "|---|---|---|\n",
    "|訓練集 MAE|609.6|591.93|\n",
    "|測試集 MAE|596.38|604.46|"
   ]
  },
  {
   "cell_type": "markdown",
   "metadata": {},
   "source": [
    "由上結果可知，不管訓練集或測試集，融合後模型表現確實有所提升，後續優化可將模型融合加入考慮。"
   ]
  }
 ],
 "metadata": {
  "kernelspec": {
   "display_name": "Python 3",
   "language": "python",
   "name": "python3"
  },
  "language_info": {
   "codemirror_mode": {
    "name": "ipython",
    "version": 3
   },
   "file_extension": ".py",
   "mimetype": "text/x-python",
   "name": "python",
   "nbconvert_exporter": "python",
   "pygments_lexer": "ipython3",
   "version": "3.7.0"
  }
 },
 "nbformat": 4,
 "nbformat_minor": 4
}
